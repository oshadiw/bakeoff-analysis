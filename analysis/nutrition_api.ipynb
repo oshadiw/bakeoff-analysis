{
 "metadata": {
  "language_info": {
   "codemirror_mode": {
    "name": "ipython",
    "version": 3
   },
   "file_extension": ".py",
   "mimetype": "text/x-python",
   "name": "python",
   "nbconvert_exporter": "python",
   "pygments_lexer": "ipython3",
   "version": "3.7.7-final"
  },
  "orig_nbformat": 2,
  "kernelspec": {
   "name": "pythondata",
   "display_name": "PythonData",
   "language": "python"
  }
 },
 "nbformat": 4,
 "nbformat_minor": 2,
 "cells": [
  {
   "cell_type": "code",
   "execution_count": 1,
   "metadata": {},
   "outputs": [],
   "source": [
    "# import dependencies\n",
    "import requests\n",
    "import json\n",
    "import numpy as np\n",
    "import pandas as pd\n",
    "\n",
    "# import api key from config\n",
    "api_key = 'DEMO_KEY'\n"
   ]
  },
  {
   "cell_type": "code",
   "execution_count": 28,
   "metadata": {
    "tags": []
   },
   "outputs": [],
   "source": [
    "# make a call\n",
    "requested_url = 'https://api.nal.usda.gov/fdc/v1/search?api_key='\n",
    "\n",
    "headers = {'Content-Type': 'application/json'}\n",
    "\n",
    "item = 'whole milk'\n",
    "\n",
    "# pull item in list\n",
    "data = {\"generalSearchInput\": 'butter'}\n",
    "# convert to json format\n",
    "data_str = json.dumps(data).encode(\"utf-8\")\n",
    "\n",
    "# make call\n",
    "response = requests.get(f'{requested_url}{api_key}&query={item}&dataType=Foundation')\n",
    "\n",
    "parsed = json.loads(response.content)\n"
   ]
  },
  {
   "cell_type": "code",
   "execution_count": 29,
   "metadata": {},
   "outputs": [
    {
     "output_type": "execute_result",
     "data": {
      "text/plain": [
       "746766"
      ]
     },
     "metadata": {},
     "execution_count": 29
    }
   ],
   "source": [
    "fdcId = parsed['foods'][0]['fdcId']\n",
    "fdcId\n"
   ]
  },
  {
   "cell_type": "code",
   "execution_count": 36,
   "metadata": {},
   "outputs": [],
   "source": [
    "# make a call\n",
    "requested_nutr_url = f'https://api.nal.usda.gov/fdc/v1/food/{fdcId}?api_key='\n",
    "\n",
    "\n",
    "# make call\n",
    "response = requests.get(f'https://api.nal.usda.gov/fdc/v1/food/{fdcId}?api_key=DEMO_KEY&nutrients=2000')\n",
    "\n",
    "parsed_nutr = json.loads(response.content)\n"
   ]
  },
  {
   "cell_type": "code",
   "execution_count": 37,
   "metadata": {},
   "outputs": [
    {
     "output_type": "execute_result",
     "data": {
      "text/plain": [
       "dict_keys(['fdcId', 'footnote', 'description', 'publicationDate', 'foodNutrients', 'foodPortions', 'dataType', 'foodClass', 'inputFoods', 'foodComponents', 'foodAttributes', 'nutrientConversionFactors', 'ndbNumber', 'isHistoricalReference', 'foodCategory'])"
      ]
     },
     "metadata": {},
     "execution_count": 37
    }
   ],
   "source": [
    "parsed_nutr.keys()"
   ]
  },
  {
   "cell_type": "code",
   "execution_count": 38,
   "metadata": {},
   "outputs": [
    {
     "output_type": "execute_result",
     "data": {
      "text/plain": [
       "[]"
      ]
     },
     "metadata": {},
     "execution_count": 38
    }
   ],
   "source": [
    "parsed_nutr['foodNutrients']"
   ]
  },
  {
   "cell_type": "code",
   "execution_count": null,
   "metadata": {},
   "outputs": [],
   "source": [
    "# uses 100g or 100ml serving sizes"
   ]
  }
 ]
}