{
 "metadata": {
  "language_info": {
   "codemirror_mode": {
    "name": "ipython",
    "version": 3
   },
   "file_extension": ".py",
   "mimetype": "text/x-python",
   "name": "python",
   "nbconvert_exporter": "python",
   "pygments_lexer": "ipython3",
   "version": "3.7.7-final"
  },
  "orig_nbformat": 2,
  "kernelspec": {
   "name": "python3",
   "display_name": "Python 3.7.7 64-bit ('PythonData': conda)",
   "metadata": {
    "interpreter": {
     "hash": "afc7c4a812fa55c0db985e1c504d2cd5747faf27fd01c3486b2fd8146566cace"
    }
   }
  }
 },
 "nbformat": 4,
 "nbformat_minor": 2,
 "cells": [
  {
   "cell_type": "code",
   "execution_count": 2,
   "metadata": {},
   "outputs": [],
   "source": [
    "# import dependencies\n",
    "import pandas as pd\n",
    "import numpy as np\n",
    "import plotly.express as px\n",
    "\n",
    "import re\n",
    "from re import search\n"
   ]
  },
  {
   "cell_type": "code",
   "execution_count": 3,
   "metadata": {},
   "outputs": [
    {
     "output_type": "execute_result",
     "data": {
      "text/plain": [
       "        Season  Week Number      Baker   Week Name            Bake  \\\n",
       "0     Series 1            1    Annetha        Cake            Cake   \n",
       "1     Series 1            1      David        Cake            Cake   \n",
       "2     Series 1            1        Edd        Cake            Cake   \n",
       "3     Series 1            1  Jasminder        Cake            Cake   \n",
       "4     Series 1            1   Jonathan        Cake            Cake   \n",
       "..         ...          ...        ...         ...             ...   \n",
       "772  Series 11            9      Laura  Pâtisserie  Pâte à Savarin   \n",
       "773  Series 11            9      Peter  Pâtisserie  Pâte à Savarin   \n",
       "774  Series 11           10       Dave       Final  Custard Slices   \n",
       "775  Series 11           10      Laura       Final  Custard Slices   \n",
       "776  Series 11           10      Peter       Final  Custard Slices   \n",
       "\n",
       "                                        Signature Bake  \\\n",
       "0    Light Jamaican Black Cake with Strawberries an...   \n",
       "1                                Chocolate Orange Cake   \n",
       "2                     Caramel Cinnamon and Banana Cake   \n",
       "3       Fresh Mango and Passion Fruit Hummingbird Cake   \n",
       "4         Carrot Cake with Lime and Cream Cheese Icing   \n",
       "..                                                 ...   \n",
       "772  Poached Pineapple, Kiwi and Passion Fruit Rum ...   \n",
       "773                     Strawberry & Elderflower Babas   \n",
       "774                       Caramel Latte' Custard Slice   \n",
       "775                                 Yuzu Custard Slice   \n",
       "776                            Cranachan Custard Slice   \n",
       "\n",
       "    Signature Time Allotment (hours) Signature Sweet (1) or Savory (0)  \\\n",
       "0                                  3                                 1   \n",
       "1                                  3                                 1   \n",
       "2                                  3                                 1   \n",
       "3                                  3                                 1   \n",
       "4                                  3                                 1   \n",
       "..                               ...                               ...   \n",
       "772                             2.75                                 1   \n",
       "773                             2.75                                 1   \n",
       "774                              2.5                                 1   \n",
       "775                              2.5                                 1   \n",
       "776                              2.5                                 1   \n",
       "\n",
       "    Signature Quantity  Signature Handshake  ...  \\\n",
       "0                    1                    0  ...   \n",
       "1                    1                    0  ...   \n",
       "2                    1                    0  ...   \n",
       "3                    1                    0  ...   \n",
       "4                    1                    0  ...   \n",
       "..                 ...                  ...  ...   \n",
       "772                 12                    0  ...   \n",
       "773                 12                    0  ...   \n",
       "774                  8                    0  ...   \n",
       "775                  8                    0  ...   \n",
       "776                  8                    0  ...   \n",
       "\n",
       "    Showstopper Sweet (1) or Savory (0) Showstopper Quantity  \\\n",
       "0                                     1                    1   \n",
       "1                                     1                    1   \n",
       "2                                     1                    1   \n",
       "3                                     1                    1   \n",
       "4                                     1                    1   \n",
       "..                                  ...                  ...   \n",
       "772                                   1                   25   \n",
       "773                                   1                   25   \n",
       "774                                   1                    1   \n",
       "775                                   1                    1   \n",
       "776                                   1                    1   \n",
       "\n",
       "    Showstopper Handshake  Favorite Least Favorite  Star Baker Eliminated  \\\n",
       "0                       0       1.0              0           0          0   \n",
       "1                       0       0.0              1           0          0   \n",
       "2                       0       0.0              0           0          0   \n",
       "3                       0       0.0              0           0          0   \n",
       "4                       0       0.0              0           0          0   \n",
       "..                    ...       ...            ...         ...        ...   \n",
       "772                     0       0.0              1           0          0   \n",
       "773                     0       1.0              0           1          0   \n",
       "774                     0       0.0              0           0          1   \n",
       "775                     0       0.0              0           0          1   \n",
       "776                     0       0.0              0           1          0   \n",
       "\n",
       "    Competed Winner UK viewers (millions)  \n",
       "0          1      0                   NaN  \n",
       "1          1      0                   NaN  \n",
       "2          1      1                   NaN  \n",
       "3          1      0                   NaN  \n",
       "4          1      0                   NaN  \n",
       "..       ...    ...                   ...  \n",
       "772        1      0                   NaN  \n",
       "773        1      1                   NaN  \n",
       "774        1      0                   NaN  \n",
       "775        1      0                   NaN  \n",
       "776        1      1                   NaN  \n",
       "\n",
       "[777 rows x 29 columns]"
      ],
      "text/html": "<div>\n<style scoped>\n    .dataframe tbody tr th:only-of-type {\n        vertical-align: middle;\n    }\n\n    .dataframe tbody tr th {\n        vertical-align: top;\n    }\n\n    .dataframe thead th {\n        text-align: right;\n    }\n</style>\n<table border=\"1\" class=\"dataframe\">\n  <thead>\n    <tr style=\"text-align: right;\">\n      <th></th>\n      <th>Season</th>\n      <th>Week Number</th>\n      <th>Baker</th>\n      <th>Week Name</th>\n      <th>Bake</th>\n      <th>Signature Bake</th>\n      <th>Signature Time Allotment (hours)</th>\n      <th>Signature Sweet (1) or Savory (0)</th>\n      <th>Signature Quantity</th>\n      <th>Signature Handshake</th>\n      <th>...</th>\n      <th>Showstopper Sweet (1) or Savory (0)</th>\n      <th>Showstopper Quantity</th>\n      <th>Showstopper Handshake</th>\n      <th>Favorite</th>\n      <th>Least Favorite</th>\n      <th>Star Baker</th>\n      <th>Eliminated</th>\n      <th>Competed</th>\n      <th>Winner</th>\n      <th>UK viewers (millions)</th>\n    </tr>\n  </thead>\n  <tbody>\n    <tr>\n      <th>0</th>\n      <td>Series 1</td>\n      <td>1</td>\n      <td>Annetha</td>\n      <td>Cake</td>\n      <td>Cake</td>\n      <td>Light Jamaican Black Cake with Strawberries an...</td>\n      <td>3</td>\n      <td>1</td>\n      <td>1</td>\n      <td>0</td>\n      <td>...</td>\n      <td>1</td>\n      <td>1</td>\n      <td>0</td>\n      <td>1.0</td>\n      <td>0</td>\n      <td>0</td>\n      <td>0</td>\n      <td>1</td>\n      <td>0</td>\n      <td>NaN</td>\n    </tr>\n    <tr>\n      <th>1</th>\n      <td>Series 1</td>\n      <td>1</td>\n      <td>David</td>\n      <td>Cake</td>\n      <td>Cake</td>\n      <td>Chocolate Orange Cake</td>\n      <td>3</td>\n      <td>1</td>\n      <td>1</td>\n      <td>0</td>\n      <td>...</td>\n      <td>1</td>\n      <td>1</td>\n      <td>0</td>\n      <td>0.0</td>\n      <td>1</td>\n      <td>0</td>\n      <td>0</td>\n      <td>1</td>\n      <td>0</td>\n      <td>NaN</td>\n    </tr>\n    <tr>\n      <th>2</th>\n      <td>Series 1</td>\n      <td>1</td>\n      <td>Edd</td>\n      <td>Cake</td>\n      <td>Cake</td>\n      <td>Caramel Cinnamon and Banana Cake</td>\n      <td>3</td>\n      <td>1</td>\n      <td>1</td>\n      <td>0</td>\n      <td>...</td>\n      <td>1</td>\n      <td>1</td>\n      <td>0</td>\n      <td>0.0</td>\n      <td>0</td>\n      <td>0</td>\n      <td>0</td>\n      <td>1</td>\n      <td>1</td>\n      <td>NaN</td>\n    </tr>\n    <tr>\n      <th>3</th>\n      <td>Series 1</td>\n      <td>1</td>\n      <td>Jasminder</td>\n      <td>Cake</td>\n      <td>Cake</td>\n      <td>Fresh Mango and Passion Fruit Hummingbird Cake</td>\n      <td>3</td>\n      <td>1</td>\n      <td>1</td>\n      <td>0</td>\n      <td>...</td>\n      <td>1</td>\n      <td>1</td>\n      <td>0</td>\n      <td>0.0</td>\n      <td>0</td>\n      <td>0</td>\n      <td>0</td>\n      <td>1</td>\n      <td>0</td>\n      <td>NaN</td>\n    </tr>\n    <tr>\n      <th>4</th>\n      <td>Series 1</td>\n      <td>1</td>\n      <td>Jonathan</td>\n      <td>Cake</td>\n      <td>Cake</td>\n      <td>Carrot Cake with Lime and Cream Cheese Icing</td>\n      <td>3</td>\n      <td>1</td>\n      <td>1</td>\n      <td>0</td>\n      <td>...</td>\n      <td>1</td>\n      <td>1</td>\n      <td>0</td>\n      <td>0.0</td>\n      <td>0</td>\n      <td>0</td>\n      <td>0</td>\n      <td>1</td>\n      <td>0</td>\n      <td>NaN</td>\n    </tr>\n    <tr>\n      <th>...</th>\n      <td>...</td>\n      <td>...</td>\n      <td>...</td>\n      <td>...</td>\n      <td>...</td>\n      <td>...</td>\n      <td>...</td>\n      <td>...</td>\n      <td>...</td>\n      <td>...</td>\n      <td>...</td>\n      <td>...</td>\n      <td>...</td>\n      <td>...</td>\n      <td>...</td>\n      <td>...</td>\n      <td>...</td>\n      <td>...</td>\n      <td>...</td>\n      <td>...</td>\n      <td>...</td>\n    </tr>\n    <tr>\n      <th>772</th>\n      <td>Series 11</td>\n      <td>9</td>\n      <td>Laura</td>\n      <td>Pâtisserie</td>\n      <td>Pâte à Savarin</td>\n      <td>Poached Pineapple, Kiwi and Passion Fruit Rum ...</td>\n      <td>2.75</td>\n      <td>1</td>\n      <td>12</td>\n      <td>0</td>\n      <td>...</td>\n      <td>1</td>\n      <td>25</td>\n      <td>0</td>\n      <td>0.0</td>\n      <td>1</td>\n      <td>0</td>\n      <td>0</td>\n      <td>1</td>\n      <td>0</td>\n      <td>NaN</td>\n    </tr>\n    <tr>\n      <th>773</th>\n      <td>Series 11</td>\n      <td>9</td>\n      <td>Peter</td>\n      <td>Pâtisserie</td>\n      <td>Pâte à Savarin</td>\n      <td>Strawberry &amp; Elderflower Babas</td>\n      <td>2.75</td>\n      <td>1</td>\n      <td>12</td>\n      <td>0</td>\n      <td>...</td>\n      <td>1</td>\n      <td>25</td>\n      <td>0</td>\n      <td>1.0</td>\n      <td>0</td>\n      <td>1</td>\n      <td>0</td>\n      <td>1</td>\n      <td>1</td>\n      <td>NaN</td>\n    </tr>\n    <tr>\n      <th>774</th>\n      <td>Series 11</td>\n      <td>10</td>\n      <td>Dave</td>\n      <td>Final</td>\n      <td>Custard Slices</td>\n      <td>Caramel Latte' Custard Slice</td>\n      <td>2.5</td>\n      <td>1</td>\n      <td>8</td>\n      <td>0</td>\n      <td>...</td>\n      <td>1</td>\n      <td>1</td>\n      <td>0</td>\n      <td>0.0</td>\n      <td>0</td>\n      <td>0</td>\n      <td>1</td>\n      <td>1</td>\n      <td>0</td>\n      <td>NaN</td>\n    </tr>\n    <tr>\n      <th>775</th>\n      <td>Series 11</td>\n      <td>10</td>\n      <td>Laura</td>\n      <td>Final</td>\n      <td>Custard Slices</td>\n      <td>Yuzu Custard Slice</td>\n      <td>2.5</td>\n      <td>1</td>\n      <td>8</td>\n      <td>0</td>\n      <td>...</td>\n      <td>1</td>\n      <td>1</td>\n      <td>0</td>\n      <td>0.0</td>\n      <td>0</td>\n      <td>0</td>\n      <td>1</td>\n      <td>1</td>\n      <td>0</td>\n      <td>NaN</td>\n    </tr>\n    <tr>\n      <th>776</th>\n      <td>Series 11</td>\n      <td>10</td>\n      <td>Peter</td>\n      <td>Final</td>\n      <td>Custard Slices</td>\n      <td>Cranachan Custard Slice</td>\n      <td>2.5</td>\n      <td>1</td>\n      <td>8</td>\n      <td>0</td>\n      <td>...</td>\n      <td>1</td>\n      <td>1</td>\n      <td>0</td>\n      <td>0.0</td>\n      <td>0</td>\n      <td>1</td>\n      <td>0</td>\n      <td>1</td>\n      <td>1</td>\n      <td>NaN</td>\n    </tr>\n  </tbody>\n</table>\n<p>777 rows × 29 columns</p>\n</div>"
     },
     "metadata": {},
     "execution_count": 3
    }
   ],
   "source": [
    "all_bakes_df = pd.read_csv('../static/data/GBBO Data Set - Bakes.csv')\n",
    "all_bakes_df"
   ]
  },
  {
   "cell_type": "code",
   "execution_count": 4,
   "metadata": {},
   "outputs": [
    {
     "output_type": "execute_result",
     "data": {
      "text/plain": [
       "     Column1                                              title  \\\n",
       "0          0                 Rav Gill’s Macaron Snack-Cessories   \n",
       "1          1  Liam Charles’s Biscuit Card Tower & Deck of Cards   \n",
       "2          2               Rav Gill’s Cherry & Almond Deco Roll   \n",
       "3          3             Liam Charles’s Yorkshire Pudding Wraps   \n",
       "4          4        Rav Gill’s Churros with Banana Butterscotch   \n",
       "..       ...                                                ...   \n",
       "124      124                    Mary Berry’s Hazelnut Dacquoise   \n",
       "125      125                           Mary Berry’s Religieuses   \n",
       "126      126                  Paul Hollywood’s Apricot Couronne   \n",
       "127      127          Mary Berry’s Tuiles with Chocolate Mousse   \n",
       "128      128                      Mary Berry’s Charlotte Royale   \n",
       "\n",
       "              judge  makes              difficulty hands_on_time baking_time  \\\n",
       "0      Ravneet Gill      8             Needs skill       50 mins     30 mins   \n",
       "1      Liam Charles     12             Needs skill       45 mins     15 mins   \n",
       "2      Ravneet Gill      6             Needs skill       50 mins     10 mins   \n",
       "3      Liam Charles      2             Needs skill       25 mins     30 mins   \n",
       "4      Ravneet Gill      6             Needs skill       30 mins     25 mins   \n",
       "..              ...    ...                     ...           ...         ...   \n",
       "124  Paul Hollywood     12  30 mins, plus chilling    25–30 mins     18 mins   \n",
       "125  Paul Hollywood      8  30 mins, plus chilling    25–30 mins     18 mins   \n",
       "126  Paul Hollywood      1  30 mins, plus chilling    25–30 mins     18 mins   \n",
       "127  Paul Hollywood      8  30 mins, plus chilling    25–30 mins     18 mins   \n",
       "128  Paul Hollywood     11  30 mins, plus chilling    25–30 mins     18 mins   \n",
       "\n",
       "                                           ingredients  \\\n",
       "0    [<h5>For the macarons:</h5>, <p>150g ground al...   \n",
       "1    [<h5>For the gingerbread:</h5>, <p>225g plain ...   \n",
       "2    [<h5>For the filling:</h5>, <p>2 tsp powdered ...   \n",
       "3    [<h5>For the batter:</h5>, <p>100g plain flour...   \n",
       "4    [<h5>For the churros:</h5>, <p>20g caster suga...   \n",
       "..                                                 ...   \n",
       "124  [<h5>For the dacquoise:</h5>, <p>250g blanched...   \n",
       "125  [<h5>For the choux pastry:</h5>, <p>60g unsalt...   \n",
       "126  [<h5>For the dough:</h5>, <p>250g strong white...   \n",
       "127  [<h5>For the tuiles:</h5>, <p>200g unsalted bu...   \n",
       "128  [<h5>For the jam:</h5>, <p>400g strawberries, ...   \n",
       "\n",
       "                                          recipe_image  \\\n",
       "0    https://thegreatbritishbakeoff.co.uk/wp-conten...   \n",
       "1    https://thegreatbritishbakeoff.co.uk/wp-conten...   \n",
       "2    https://thegreatbritishbakeoff.co.uk/wp-conten...   \n",
       "3    https://thegreatbritishbakeoff.co.uk/wp-conten...   \n",
       "4    https://thegreatbritishbakeoff.co.uk/wp-conten...   \n",
       "..                                                 ...   \n",
       "124  https://thegreatbritishbakeoff.co.uk/wp-conten...   \n",
       "125  https://thegreatbritishbakeoff.co.uk/wp-conten...   \n",
       "126  https://thegreatbritishbakeoff.co.uk/wp-conten...   \n",
       "127  https://thegreatbritishbakeoff.co.uk/wp-conten...   \n",
       "128  https://thegreatbritishbakeoff.co.uk/wp-conten...   \n",
       "\n",
       "                                           judge_image  calories  cholesterol  \\\n",
       "0    https://thegreatbritishbakeoff.co.uk/wp-conten...    972.90        138.0   \n",
       "1    https://thegreatbritishbakeoff.co.uk/wp-conten...   4734.75        193.5   \n",
       "2    https://thegreatbritishbakeoff.co.uk/wp-conten...    690.50        112.5   \n",
       "3    https://thegreatbritishbakeoff.co.uk/wp-conten...   1718.00         30.0   \n",
       "4    https://thegreatbritishbakeoff.co.uk/wp-conten...   1591.10          0.0   \n",
       "..                                                 ...       ...          ...   \n",
       "124  https://thegreatbritishbakeoff.co.uk/wp-conten...   7746.25          0.0   \n",
       "125  https://thegreatbritishbakeoff.co.uk/wp-conten...   1258.50          0.0   \n",
       "126  https://thegreatbritishbakeoff.co.uk/wp-conten...   3822.75          0.0   \n",
       "127  https://thegreatbritishbakeoff.co.uk/wp-conten...   3188.00          0.0   \n",
       "128  https://thegreatbritishbakeoff.co.uk/wp-conten...    120.00          0.0   \n",
       "\n",
       "        fat  protein   sugar  \n",
       "0     15.93    52.67  151.11  \n",
       "1     76.65    22.08  120.09  \n",
       "2     36.81    39.74   14.16  \n",
       "3     10.16    15.76   11.37  \n",
       "4      3.39     8.64   21.94  \n",
       "..      ...      ...     ...  \n",
       "124  153.81    35.41  307.72  \n",
       "125    2.62     6.83   19.16  \n",
       "126    4.65    38.58    0.00  \n",
       "127    7.00    18.20    4.42  \n",
       "128    0.00     0.00    7.60  \n",
       "\n",
       "[129 rows x 15 columns]"
      ],
      "text/html": "<div>\n<style scoped>\n    .dataframe tbody tr th:only-of-type {\n        vertical-align: middle;\n    }\n\n    .dataframe tbody tr th {\n        vertical-align: top;\n    }\n\n    .dataframe thead th {\n        text-align: right;\n    }\n</style>\n<table border=\"1\" class=\"dataframe\">\n  <thead>\n    <tr style=\"text-align: right;\">\n      <th></th>\n      <th>Column1</th>\n      <th>title</th>\n      <th>judge</th>\n      <th>makes</th>\n      <th>difficulty</th>\n      <th>hands_on_time</th>\n      <th>baking_time</th>\n      <th>ingredients</th>\n      <th>recipe_image</th>\n      <th>judge_image</th>\n      <th>calories</th>\n      <th>cholesterol</th>\n      <th>fat</th>\n      <th>protein</th>\n      <th>sugar</th>\n    </tr>\n  </thead>\n  <tbody>\n    <tr>\n      <th>0</th>\n      <td>0</td>\n      <td>Rav Gill’s Macaron Snack-Cessories</td>\n      <td>Ravneet Gill</td>\n      <td>8</td>\n      <td>Needs skill</td>\n      <td>50 mins</td>\n      <td>30 mins</td>\n      <td>[&lt;h5&gt;For the macarons:&lt;/h5&gt;, &lt;p&gt;150g ground al...</td>\n      <td>https://thegreatbritishbakeoff.co.uk/wp-conten...</td>\n      <td>https://thegreatbritishbakeoff.co.uk/wp-conten...</td>\n      <td>972.90</td>\n      <td>138.0</td>\n      <td>15.93</td>\n      <td>52.67</td>\n      <td>151.11</td>\n    </tr>\n    <tr>\n      <th>1</th>\n      <td>1</td>\n      <td>Liam Charles’s Biscuit Card Tower &amp; Deck of Cards</td>\n      <td>Liam Charles</td>\n      <td>12</td>\n      <td>Needs skill</td>\n      <td>45 mins</td>\n      <td>15 mins</td>\n      <td>[&lt;h5&gt;For the gingerbread:&lt;/h5&gt;, &lt;p&gt;225g plain ...</td>\n      <td>https://thegreatbritishbakeoff.co.uk/wp-conten...</td>\n      <td>https://thegreatbritishbakeoff.co.uk/wp-conten...</td>\n      <td>4734.75</td>\n      <td>193.5</td>\n      <td>76.65</td>\n      <td>22.08</td>\n      <td>120.09</td>\n    </tr>\n    <tr>\n      <th>2</th>\n      <td>2</td>\n      <td>Rav Gill’s Cherry &amp; Almond Deco Roll</td>\n      <td>Ravneet Gill</td>\n      <td>6</td>\n      <td>Needs skill</td>\n      <td>50 mins</td>\n      <td>10 mins</td>\n      <td>[&lt;h5&gt;For the filling:&lt;/h5&gt;, &lt;p&gt;2 tsp powdered ...</td>\n      <td>https://thegreatbritishbakeoff.co.uk/wp-conten...</td>\n      <td>https://thegreatbritishbakeoff.co.uk/wp-conten...</td>\n      <td>690.50</td>\n      <td>112.5</td>\n      <td>36.81</td>\n      <td>39.74</td>\n      <td>14.16</td>\n    </tr>\n    <tr>\n      <th>3</th>\n      <td>3</td>\n      <td>Liam Charles’s Yorkshire Pudding Wraps</td>\n      <td>Liam Charles</td>\n      <td>2</td>\n      <td>Needs skill</td>\n      <td>25 mins</td>\n      <td>30 mins</td>\n      <td>[&lt;h5&gt;For the batter:&lt;/h5&gt;, &lt;p&gt;100g plain flour...</td>\n      <td>https://thegreatbritishbakeoff.co.uk/wp-conten...</td>\n      <td>https://thegreatbritishbakeoff.co.uk/wp-conten...</td>\n      <td>1718.00</td>\n      <td>30.0</td>\n      <td>10.16</td>\n      <td>15.76</td>\n      <td>11.37</td>\n    </tr>\n    <tr>\n      <th>4</th>\n      <td>4</td>\n      <td>Rav Gill’s Churros with Banana Butterscotch</td>\n      <td>Ravneet Gill</td>\n      <td>6</td>\n      <td>Needs skill</td>\n      <td>30 mins</td>\n      <td>25 mins</td>\n      <td>[&lt;h5&gt;For the churros:&lt;/h5&gt;, &lt;p&gt;20g caster suga...</td>\n      <td>https://thegreatbritishbakeoff.co.uk/wp-conten...</td>\n      <td>https://thegreatbritishbakeoff.co.uk/wp-conten...</td>\n      <td>1591.10</td>\n      <td>0.0</td>\n      <td>3.39</td>\n      <td>8.64</td>\n      <td>21.94</td>\n    </tr>\n    <tr>\n      <th>...</th>\n      <td>...</td>\n      <td>...</td>\n      <td>...</td>\n      <td>...</td>\n      <td>...</td>\n      <td>...</td>\n      <td>...</td>\n      <td>...</td>\n      <td>...</td>\n      <td>...</td>\n      <td>...</td>\n      <td>...</td>\n      <td>...</td>\n      <td>...</td>\n      <td>...</td>\n    </tr>\n    <tr>\n      <th>124</th>\n      <td>124</td>\n      <td>Mary Berry’s Hazelnut Dacquoise</td>\n      <td>Paul Hollywood</td>\n      <td>12</td>\n      <td>30 mins, plus chilling</td>\n      <td>25–30 mins</td>\n      <td>18 mins</td>\n      <td>[&lt;h5&gt;For the dacquoise:&lt;/h5&gt;, &lt;p&gt;250g blanched...</td>\n      <td>https://thegreatbritishbakeoff.co.uk/wp-conten...</td>\n      <td>https://thegreatbritishbakeoff.co.uk/wp-conten...</td>\n      <td>7746.25</td>\n      <td>0.0</td>\n      <td>153.81</td>\n      <td>35.41</td>\n      <td>307.72</td>\n    </tr>\n    <tr>\n      <th>125</th>\n      <td>125</td>\n      <td>Mary Berry’s Religieuses</td>\n      <td>Paul Hollywood</td>\n      <td>8</td>\n      <td>30 mins, plus chilling</td>\n      <td>25–30 mins</td>\n      <td>18 mins</td>\n      <td>[&lt;h5&gt;For the choux pastry:&lt;/h5&gt;, &lt;p&gt;60g unsalt...</td>\n      <td>https://thegreatbritishbakeoff.co.uk/wp-conten...</td>\n      <td>https://thegreatbritishbakeoff.co.uk/wp-conten...</td>\n      <td>1258.50</td>\n      <td>0.0</td>\n      <td>2.62</td>\n      <td>6.83</td>\n      <td>19.16</td>\n    </tr>\n    <tr>\n      <th>126</th>\n      <td>126</td>\n      <td>Paul Hollywood’s Apricot Couronne</td>\n      <td>Paul Hollywood</td>\n      <td>1</td>\n      <td>30 mins, plus chilling</td>\n      <td>25–30 mins</td>\n      <td>18 mins</td>\n      <td>[&lt;h5&gt;For the dough:&lt;/h5&gt;, &lt;p&gt;250g strong white...</td>\n      <td>https://thegreatbritishbakeoff.co.uk/wp-conten...</td>\n      <td>https://thegreatbritishbakeoff.co.uk/wp-conten...</td>\n      <td>3822.75</td>\n      <td>0.0</td>\n      <td>4.65</td>\n      <td>38.58</td>\n      <td>0.00</td>\n    </tr>\n    <tr>\n      <th>127</th>\n      <td>127</td>\n      <td>Mary Berry’s Tuiles with Chocolate Mousse</td>\n      <td>Paul Hollywood</td>\n      <td>8</td>\n      <td>30 mins, plus chilling</td>\n      <td>25–30 mins</td>\n      <td>18 mins</td>\n      <td>[&lt;h5&gt;For the tuiles:&lt;/h5&gt;, &lt;p&gt;200g unsalted bu...</td>\n      <td>https://thegreatbritishbakeoff.co.uk/wp-conten...</td>\n      <td>https://thegreatbritishbakeoff.co.uk/wp-conten...</td>\n      <td>3188.00</td>\n      <td>0.0</td>\n      <td>7.00</td>\n      <td>18.20</td>\n      <td>4.42</td>\n    </tr>\n    <tr>\n      <th>128</th>\n      <td>128</td>\n      <td>Mary Berry’s Charlotte Royale</td>\n      <td>Paul Hollywood</td>\n      <td>11</td>\n      <td>30 mins, plus chilling</td>\n      <td>25–30 mins</td>\n      <td>18 mins</td>\n      <td>[&lt;h5&gt;For the jam:&lt;/h5&gt;, &lt;p&gt;400g strawberries, ...</td>\n      <td>https://thegreatbritishbakeoff.co.uk/wp-conten...</td>\n      <td>https://thegreatbritishbakeoff.co.uk/wp-conten...</td>\n      <td>120.00</td>\n      <td>0.0</td>\n      <td>0.00</td>\n      <td>0.00</td>\n      <td>7.60</td>\n    </tr>\n  </tbody>\n</table>\n<p>129 rows × 15 columns</p>\n</div>"
     },
     "metadata": {},
     "execution_count": 4
    }
   ],
   "source": [
    "bakes_df = pd.read_csv('../static/data/bakes_with_nutrition.csv')\n",
    "bakes_df"
   ]
  },
  {
   "cell_type": "code",
   "execution_count": 5,
   "metadata": {},
   "outputs": [
    {
     "output_type": "execute_result",
     "data": {
      "text/plain": [
       "  Recipe Writer  Number of Recipes Written\n",
       "0          Paul                         48\n",
       "1          Mary                         31\n",
       "2          Prue                         20"
      ],
      "text/html": "<div>\n<style scoped>\n    .dataframe tbody tr th:only-of-type {\n        vertical-align: middle;\n    }\n\n    .dataframe tbody tr th {\n        vertical-align: top;\n    }\n\n    .dataframe thead th {\n        text-align: right;\n    }\n</style>\n<table border=\"1\" class=\"dataframe\">\n  <thead>\n    <tr style=\"text-align: right;\">\n      <th></th>\n      <th>Recipe Writer</th>\n      <th>Number of Recipes Written</th>\n    </tr>\n  </thead>\n  <tbody>\n    <tr>\n      <th>0</th>\n      <td>Paul</td>\n      <td>48</td>\n    </tr>\n    <tr>\n      <th>1</th>\n      <td>Mary</td>\n      <td>31</td>\n    </tr>\n    <tr>\n      <th>2</th>\n      <td>Prue</td>\n      <td>20</td>\n    </tr>\n  </tbody>\n</table>\n</div>"
     },
     "metadata": {},
     "execution_count": 5
    }
   ],
   "source": [
    "# collapase the eipsodes so there is one entry per\n",
    "episodes_df = all_bakes_df.drop_duplicates(subset=['Season', 'Week Number'], keep='last')\n",
    "\n",
    "# count the number of recipes written\n",
    "judge_count = episodes_df['Technical Recipe Writer'].value_counts().reset_index()\n",
    "judge_count = judge_count.rename(columns={\"index\": \"Recipe Writer\", \"Technical Recipe Writer\": \"Number of Recipes Written\"})\n",
    "judge_count\n",
    "\n"
   ]
  },
  {
   "cell_type": "code",
   "execution_count": 6,
   "metadata": {},
   "outputs": [
    {
     "output_type": "display_data",
     "data": {
      "application/vnd.plotly.v1+json": {
       "config": {
        "plotlyServerURL": "https://plot.ly"
       },
       "data": [
        {
         "domain": {
          "x": [
           0,
           1
          ],
          "y": [
           0,
           1
          ]
         },
         "hovertemplate": "label=%{label}<br>value=%{value}<extra></extra>",
         "labels": [
          "Paul",
          "Mary",
          "Prue"
         ],
         "legendgroup": "",
         "name": "",
         "showlegend": true,
         "type": "pie",
         "values": [
          48,
          31,
          20
         ]
        }
       ],
       "layout": {
        "legend": {
         "tracegroupgap": 0
        },
        "template": {
         "data": {
          "bar": [
           {
            "error_x": {
             "color": "#2a3f5f"
            },
            "error_y": {
             "color": "#2a3f5f"
            },
            "marker": {
             "line": {
              "color": "#E5ECF6",
              "width": 0.5
             }
            },
            "type": "bar"
           }
          ],
          "barpolar": [
           {
            "marker": {
             "line": {
              "color": "#E5ECF6",
              "width": 0.5
             }
            },
            "type": "barpolar"
           }
          ],
          "carpet": [
           {
            "aaxis": {
             "endlinecolor": "#2a3f5f",
             "gridcolor": "white",
             "linecolor": "white",
             "minorgridcolor": "white",
             "startlinecolor": "#2a3f5f"
            },
            "baxis": {
             "endlinecolor": "#2a3f5f",
             "gridcolor": "white",
             "linecolor": "white",
             "minorgridcolor": "white",
             "startlinecolor": "#2a3f5f"
            },
            "type": "carpet"
           }
          ],
          "choropleth": [
           {
            "colorbar": {
             "outlinewidth": 0,
             "ticks": ""
            },
            "type": "choropleth"
           }
          ],
          "contour": [
           {
            "colorbar": {
             "outlinewidth": 0,
             "ticks": ""
            },
            "colorscale": [
             [
              0,
              "#0d0887"
             ],
             [
              0.1111111111111111,
              "#46039f"
             ],
             [
              0.2222222222222222,
              "#7201a8"
             ],
             [
              0.3333333333333333,
              "#9c179e"
             ],
             [
              0.4444444444444444,
              "#bd3786"
             ],
             [
              0.5555555555555556,
              "#d8576b"
             ],
             [
              0.6666666666666666,
              "#ed7953"
             ],
             [
              0.7777777777777778,
              "#fb9f3a"
             ],
             [
              0.8888888888888888,
              "#fdca26"
             ],
             [
              1,
              "#f0f921"
             ]
            ],
            "type": "contour"
           }
          ],
          "contourcarpet": [
           {
            "colorbar": {
             "outlinewidth": 0,
             "ticks": ""
            },
            "type": "contourcarpet"
           }
          ],
          "heatmap": [
           {
            "colorbar": {
             "outlinewidth": 0,
             "ticks": ""
            },
            "colorscale": [
             [
              0,
              "#0d0887"
             ],
             [
              0.1111111111111111,
              "#46039f"
             ],
             [
              0.2222222222222222,
              "#7201a8"
             ],
             [
              0.3333333333333333,
              "#9c179e"
             ],
             [
              0.4444444444444444,
              "#bd3786"
             ],
             [
              0.5555555555555556,
              "#d8576b"
             ],
             [
              0.6666666666666666,
              "#ed7953"
             ],
             [
              0.7777777777777778,
              "#fb9f3a"
             ],
             [
              0.8888888888888888,
              "#fdca26"
             ],
             [
              1,
              "#f0f921"
             ]
            ],
            "type": "heatmap"
           }
          ],
          "heatmapgl": [
           {
            "colorbar": {
             "outlinewidth": 0,
             "ticks": ""
            },
            "colorscale": [
             [
              0,
              "#0d0887"
             ],
             [
              0.1111111111111111,
              "#46039f"
             ],
             [
              0.2222222222222222,
              "#7201a8"
             ],
             [
              0.3333333333333333,
              "#9c179e"
             ],
             [
              0.4444444444444444,
              "#bd3786"
             ],
             [
              0.5555555555555556,
              "#d8576b"
             ],
             [
              0.6666666666666666,
              "#ed7953"
             ],
             [
              0.7777777777777778,
              "#fb9f3a"
             ],
             [
              0.8888888888888888,
              "#fdca26"
             ],
             [
              1,
              "#f0f921"
             ]
            ],
            "type": "heatmapgl"
           }
          ],
          "histogram": [
           {
            "marker": {
             "colorbar": {
              "outlinewidth": 0,
              "ticks": ""
             }
            },
            "type": "histogram"
           }
          ],
          "histogram2d": [
           {
            "colorbar": {
             "outlinewidth": 0,
             "ticks": ""
            },
            "colorscale": [
             [
              0,
              "#0d0887"
             ],
             [
              0.1111111111111111,
              "#46039f"
             ],
             [
              0.2222222222222222,
              "#7201a8"
             ],
             [
              0.3333333333333333,
              "#9c179e"
             ],
             [
              0.4444444444444444,
              "#bd3786"
             ],
             [
              0.5555555555555556,
              "#d8576b"
             ],
             [
              0.6666666666666666,
              "#ed7953"
             ],
             [
              0.7777777777777778,
              "#fb9f3a"
             ],
             [
              0.8888888888888888,
              "#fdca26"
             ],
             [
              1,
              "#f0f921"
             ]
            ],
            "type": "histogram2d"
           }
          ],
          "histogram2dcontour": [
           {
            "colorbar": {
             "outlinewidth": 0,
             "ticks": ""
            },
            "colorscale": [
             [
              0,
              "#0d0887"
             ],
             [
              0.1111111111111111,
              "#46039f"
             ],
             [
              0.2222222222222222,
              "#7201a8"
             ],
             [
              0.3333333333333333,
              "#9c179e"
             ],
             [
              0.4444444444444444,
              "#bd3786"
             ],
             [
              0.5555555555555556,
              "#d8576b"
             ],
             [
              0.6666666666666666,
              "#ed7953"
             ],
             [
              0.7777777777777778,
              "#fb9f3a"
             ],
             [
              0.8888888888888888,
              "#fdca26"
             ],
             [
              1,
              "#f0f921"
             ]
            ],
            "type": "histogram2dcontour"
           }
          ],
          "mesh3d": [
           {
            "colorbar": {
             "outlinewidth": 0,
             "ticks": ""
            },
            "type": "mesh3d"
           }
          ],
          "parcoords": [
           {
            "line": {
             "colorbar": {
              "outlinewidth": 0,
              "ticks": ""
             }
            },
            "type": "parcoords"
           }
          ],
          "pie": [
           {
            "automargin": true,
            "type": "pie"
           }
          ],
          "scatter": [
           {
            "marker": {
             "colorbar": {
              "outlinewidth": 0,
              "ticks": ""
             }
            },
            "type": "scatter"
           }
          ],
          "scatter3d": [
           {
            "line": {
             "colorbar": {
              "outlinewidth": 0,
              "ticks": ""
             }
            },
            "marker": {
             "colorbar": {
              "outlinewidth": 0,
              "ticks": ""
             }
            },
            "type": "scatter3d"
           }
          ],
          "scattercarpet": [
           {
            "marker": {
             "colorbar": {
              "outlinewidth": 0,
              "ticks": ""
             }
            },
            "type": "scattercarpet"
           }
          ],
          "scattergeo": [
           {
            "marker": {
             "colorbar": {
              "outlinewidth": 0,
              "ticks": ""
             }
            },
            "type": "scattergeo"
           }
          ],
          "scattergl": [
           {
            "marker": {
             "colorbar": {
              "outlinewidth": 0,
              "ticks": ""
             }
            },
            "type": "scattergl"
           }
          ],
          "scattermapbox": [
           {
            "marker": {
             "colorbar": {
              "outlinewidth": 0,
              "ticks": ""
             }
            },
            "type": "scattermapbox"
           }
          ],
          "scatterpolar": [
           {
            "marker": {
             "colorbar": {
              "outlinewidth": 0,
              "ticks": ""
             }
            },
            "type": "scatterpolar"
           }
          ],
          "scatterpolargl": [
           {
            "marker": {
             "colorbar": {
              "outlinewidth": 0,
              "ticks": ""
             }
            },
            "type": "scatterpolargl"
           }
          ],
          "scatterternary": [
           {
            "marker": {
             "colorbar": {
              "outlinewidth": 0,
              "ticks": ""
             }
            },
            "type": "scatterternary"
           }
          ],
          "surface": [
           {
            "colorbar": {
             "outlinewidth": 0,
             "ticks": ""
            },
            "colorscale": [
             [
              0,
              "#0d0887"
             ],
             [
              0.1111111111111111,
              "#46039f"
             ],
             [
              0.2222222222222222,
              "#7201a8"
             ],
             [
              0.3333333333333333,
              "#9c179e"
             ],
             [
              0.4444444444444444,
              "#bd3786"
             ],
             [
              0.5555555555555556,
              "#d8576b"
             ],
             [
              0.6666666666666666,
              "#ed7953"
             ],
             [
              0.7777777777777778,
              "#fb9f3a"
             ],
             [
              0.8888888888888888,
              "#fdca26"
             ],
             [
              1,
              "#f0f921"
             ]
            ],
            "type": "surface"
           }
          ],
          "table": [
           {
            "cells": {
             "fill": {
              "color": "#EBF0F8"
             },
             "line": {
              "color": "white"
             }
            },
            "header": {
             "fill": {
              "color": "#C8D4E3"
             },
             "line": {
              "color": "white"
             }
            },
            "type": "table"
           }
          ]
         },
         "layout": {
          "annotationdefaults": {
           "arrowcolor": "#2a3f5f",
           "arrowhead": 0,
           "arrowwidth": 1
          },
          "autotypenumbers": "strict",
          "coloraxis": {
           "colorbar": {
            "outlinewidth": 0,
            "ticks": ""
           }
          },
          "colorscale": {
           "diverging": [
            [
             0,
             "#8e0152"
            ],
            [
             0.1,
             "#c51b7d"
            ],
            [
             0.2,
             "#de77ae"
            ],
            [
             0.3,
             "#f1b6da"
            ],
            [
             0.4,
             "#fde0ef"
            ],
            [
             0.5,
             "#f7f7f7"
            ],
            [
             0.6,
             "#e6f5d0"
            ],
            [
             0.7,
             "#b8e186"
            ],
            [
             0.8,
             "#7fbc41"
            ],
            [
             0.9,
             "#4d9221"
            ],
            [
             1,
             "#276419"
            ]
           ],
           "sequential": [
            [
             0,
             "#0d0887"
            ],
            [
             0.1111111111111111,
             "#46039f"
            ],
            [
             0.2222222222222222,
             "#7201a8"
            ],
            [
             0.3333333333333333,
             "#9c179e"
            ],
            [
             0.4444444444444444,
             "#bd3786"
            ],
            [
             0.5555555555555556,
             "#d8576b"
            ],
            [
             0.6666666666666666,
             "#ed7953"
            ],
            [
             0.7777777777777778,
             "#fb9f3a"
            ],
            [
             0.8888888888888888,
             "#fdca26"
            ],
            [
             1,
             "#f0f921"
            ]
           ],
           "sequentialminus": [
            [
             0,
             "#0d0887"
            ],
            [
             0.1111111111111111,
             "#46039f"
            ],
            [
             0.2222222222222222,
             "#7201a8"
            ],
            [
             0.3333333333333333,
             "#9c179e"
            ],
            [
             0.4444444444444444,
             "#bd3786"
            ],
            [
             0.5555555555555556,
             "#d8576b"
            ],
            [
             0.6666666666666666,
             "#ed7953"
            ],
            [
             0.7777777777777778,
             "#fb9f3a"
            ],
            [
             0.8888888888888888,
             "#fdca26"
            ],
            [
             1,
             "#f0f921"
            ]
           ]
          },
          "colorway": [
           "#636efa",
           "#EF553B",
           "#00cc96",
           "#ab63fa",
           "#FFA15A",
           "#19d3f3",
           "#FF6692",
           "#B6E880",
           "#FF97FF",
           "#FECB52"
          ],
          "font": {
           "color": "#2a3f5f"
          },
          "geo": {
           "bgcolor": "white",
           "lakecolor": "white",
           "landcolor": "#E5ECF6",
           "showlakes": true,
           "showland": true,
           "subunitcolor": "white"
          },
          "hoverlabel": {
           "align": "left"
          },
          "hovermode": "closest",
          "mapbox": {
           "style": "light"
          },
          "paper_bgcolor": "white",
          "plot_bgcolor": "#E5ECF6",
          "polar": {
           "angularaxis": {
            "gridcolor": "white",
            "linecolor": "white",
            "ticks": ""
           },
           "bgcolor": "#E5ECF6",
           "radialaxis": {
            "gridcolor": "white",
            "linecolor": "white",
            "ticks": ""
           }
          },
          "scene": {
           "xaxis": {
            "backgroundcolor": "#E5ECF6",
            "gridcolor": "white",
            "gridwidth": 2,
            "linecolor": "white",
            "showbackground": true,
            "ticks": "",
            "zerolinecolor": "white"
           },
           "yaxis": {
            "backgroundcolor": "#E5ECF6",
            "gridcolor": "white",
            "gridwidth": 2,
            "linecolor": "white",
            "showbackground": true,
            "ticks": "",
            "zerolinecolor": "white"
           },
           "zaxis": {
            "backgroundcolor": "#E5ECF6",
            "gridcolor": "white",
            "gridwidth": 2,
            "linecolor": "white",
            "showbackground": true,
            "ticks": "",
            "zerolinecolor": "white"
           }
          },
          "shapedefaults": {
           "line": {
            "color": "#2a3f5f"
           }
          },
          "ternary": {
           "aaxis": {
            "gridcolor": "white",
            "linecolor": "white",
            "ticks": ""
           },
           "baxis": {
            "gridcolor": "white",
            "linecolor": "white",
            "ticks": ""
           },
           "bgcolor": "#E5ECF6",
           "caxis": {
            "gridcolor": "white",
            "linecolor": "white",
            "ticks": ""
           }
          },
          "title": {
           "x": 0.05
          },
          "xaxis": {
           "automargin": true,
           "gridcolor": "white",
           "linecolor": "white",
           "ticks": "",
           "title": {
            "standoff": 15
           },
           "zerolinecolor": "white",
           "zerolinewidth": 2
          },
          "yaxis": {
           "automargin": true,
           "gridcolor": "white",
           "linecolor": "white",
           "ticks": "",
           "title": {
            "standoff": 15
           },
           "zerolinecolor": "white",
           "zerolinewidth": 2
          }
         }
        },
        "title": {
         "text": "Who Wrote the Most Recipes"
        }
       }
      }
     },
     "metadata": {}
    }
   ],
   "source": [
    "fig = px.pie(values=judge_count['Number of Recipes Written'], names=judge_count['Recipe Writer'], title='Who Wrote the Most Recipes')\n",
    "fig.show()"
   ]
  },
  {
   "cell_type": "code",
   "execution_count": 7,
   "metadata": {},
   "outputs": [
    {
     "output_type": "execute_result",
     "data": {
      "text/plain": [
       "       Season  Week Number   Baker   Week Name                  Bake  \\\n",
       "9    Series 1            1    Ruth        Cake                  Cake   \n",
       "17   Series 1            2    Ruth    Biscuits              Biscuits   \n",
       "23   Series 1            3    Ruth       Bread                Breads   \n",
       "28   Series 1            4    Ruth     Pudding              Puddings   \n",
       "32   Series 1            5    Ruth      Pastry                  Pies   \n",
       "..        ...          ...     ...         ...                   ...   \n",
       "454  Series 7            6     Tom   Botanical   Citrus Meringue Pie   \n",
       "460  Series 7            7     Tom     Dessert  Family-Sized Roulade   \n",
       "465  Series 7            8  Selasi       Tudor   Shaped Savoury Pies   \n",
       "469  Series 7            9  Selasi  Pâtisserie      Savoury Palmiers   \n",
       "472  Series 7           10    Jane       Final        Meringue Crown   \n",
       "\n",
       "                                        Signature Bake  \\\n",
       "9    Three Tiered Lemon Drizzle Cake with Fresh Cre...   \n",
       "17        Peanut Shortbread with Salted Peanut Caramel   \n",
       "23                               Maple and Pecan Bread   \n",
       "28                        Peach and Blueberry Boy Bait   \n",
       "32                                     Minced Beef Pie   \n",
       "..                                                 ...   \n",
       "454                 Blood Orange Halloween Pumpkin Pie   \n",
       "460                              Millionaire's Roulade   \n",
       "465                                 Bouquet of Flowers   \n",
       "469  Sundried Tomato, Onion, Peppers and Parmesan P...   \n",
       "472                 Red, White and Blue Meringue Crown   \n",
       "\n",
       "    Signature Time Allotment (hours) Signature Sweet (1) or Savory (0)  \\\n",
       "9                                  3                                 1   \n",
       "17                                 2                                 1   \n",
       "23                               3.5                                 1   \n",
       "28                               2.5                                 1   \n",
       "32                               2.5                                 0   \n",
       "..                               ...                               ...   \n",
       "454                              NaN                                 1   \n",
       "460                              1.5                                 1   \n",
       "465                                ?                                 ?   \n",
       "469                                ?                                 ?   \n",
       "472                                3                                 1   \n",
       "\n",
       "    Signature Quantity  Signature Handshake  ...  \\\n",
       "9                    1                    0  ...   \n",
       "17                 NaN                    0  ...   \n",
       "23                   1                    0  ...   \n",
       "28                 NaN                    0  ...   \n",
       "32                   1                    0  ...   \n",
       "..                 ...                  ...  ...   \n",
       "454                  1                    0  ...   \n",
       "460                  1                    0  ...   \n",
       "465                  1                    0  ...   \n",
       "469                 24                    0  ...   \n",
       "472                  1                    1  ...   \n",
       "\n",
       "    Showstopper Sweet (1) or Savory (0)  \\\n",
       "9                                     1   \n",
       "17                                    1   \n",
       "23                                    1   \n",
       "28                                    1   \n",
       "32                                  NaN   \n",
       "..                                  ...   \n",
       "454                                   ?   \n",
       "460                                   1   \n",
       "465                                   ?   \n",
       "469                                   1   \n",
       "472                                Both   \n",
       "\n",
       "                                  Showstopper Quantity Showstopper Handshake  \\\n",
       "9                                                    1                     0   \n",
       "17                                                 NaN                     0   \n",
       "23                                                  24                     0   \n",
       "28                                                   3                     0   \n",
       "32                                                 NaN                     0   \n",
       "..                                                 ...                   ...   \n",
       "454                                                  ?                     0   \n",
       "460                                                 24                     0   \n",
       "465                                                  1                     0   \n",
       "469                                                 36                     0   \n",
       "472  1 chocolate celebration cake, 12 sausage rolls...                     0   \n",
       "\n",
       "     Favorite Least Favorite  Star Baker Eliminated Competed Winner  \\\n",
       "9         1.0              0           0          0        1      0   \n",
       "17        0.0              0           0          0        1      0   \n",
       "23        1.0              0           0          0        1      0   \n",
       "28        0.0              0           0          0        1      0   \n",
       "32        1.0              0           0          0        1      0   \n",
       "..        ...            ...         ...        ...      ...    ...   \n",
       "454       1.0              0           1          0        1      0   \n",
       "460       0.0              1           0          1        1      0   \n",
       "465       0.0              1           0          0        1      0   \n",
       "469       0.0              1           0          1        1      0   \n",
       "472       0.0              0           0          1        1      0   \n",
       "\n",
       "    UK viewers (millions)  \n",
       "9                     NaN  \n",
       "17                    NaN  \n",
       "23                    NaN  \n",
       "28                    NaN  \n",
       "32                    NaN  \n",
       "..                    ...  \n",
       "454                   NaN  \n",
       "460                   NaN  \n",
       "465                   NaN  \n",
       "469                   NaN  \n",
       "472                   NaN  \n",
       "\n",
       "[64 rows x 29 columns]"
      ],
      "text/html": "<div>\n<style scoped>\n    .dataframe tbody tr th:only-of-type {\n        vertical-align: middle;\n    }\n\n    .dataframe tbody tr th {\n        vertical-align: top;\n    }\n\n    .dataframe thead th {\n        text-align: right;\n    }\n</style>\n<table border=\"1\" class=\"dataframe\">\n  <thead>\n    <tr style=\"text-align: right;\">\n      <th></th>\n      <th>Season</th>\n      <th>Week Number</th>\n      <th>Baker</th>\n      <th>Week Name</th>\n      <th>Bake</th>\n      <th>Signature Bake</th>\n      <th>Signature Time Allotment (hours)</th>\n      <th>Signature Sweet (1) or Savory (0)</th>\n      <th>Signature Quantity</th>\n      <th>Signature Handshake</th>\n      <th>...</th>\n      <th>Showstopper Sweet (1) or Savory (0)</th>\n      <th>Showstopper Quantity</th>\n      <th>Showstopper Handshake</th>\n      <th>Favorite</th>\n      <th>Least Favorite</th>\n      <th>Star Baker</th>\n      <th>Eliminated</th>\n      <th>Competed</th>\n      <th>Winner</th>\n      <th>UK viewers (millions)</th>\n    </tr>\n  </thead>\n  <tbody>\n    <tr>\n      <th>9</th>\n      <td>Series 1</td>\n      <td>1</td>\n      <td>Ruth</td>\n      <td>Cake</td>\n      <td>Cake</td>\n      <td>Three Tiered Lemon Drizzle Cake with Fresh Cre...</td>\n      <td>3</td>\n      <td>1</td>\n      <td>1</td>\n      <td>0</td>\n      <td>...</td>\n      <td>1</td>\n      <td>1</td>\n      <td>0</td>\n      <td>1.0</td>\n      <td>0</td>\n      <td>0</td>\n      <td>0</td>\n      <td>1</td>\n      <td>0</td>\n      <td>NaN</td>\n    </tr>\n    <tr>\n      <th>17</th>\n      <td>Series 1</td>\n      <td>2</td>\n      <td>Ruth</td>\n      <td>Biscuits</td>\n      <td>Biscuits</td>\n      <td>Peanut Shortbread with Salted Peanut Caramel</td>\n      <td>2</td>\n      <td>1</td>\n      <td>NaN</td>\n      <td>0</td>\n      <td>...</td>\n      <td>1</td>\n      <td>NaN</td>\n      <td>0</td>\n      <td>0.0</td>\n      <td>0</td>\n      <td>0</td>\n      <td>0</td>\n      <td>1</td>\n      <td>0</td>\n      <td>NaN</td>\n    </tr>\n    <tr>\n      <th>23</th>\n      <td>Series 1</td>\n      <td>3</td>\n      <td>Ruth</td>\n      <td>Bread</td>\n      <td>Breads</td>\n      <td>Maple and Pecan Bread</td>\n      <td>3.5</td>\n      <td>1</td>\n      <td>1</td>\n      <td>0</td>\n      <td>...</td>\n      <td>1</td>\n      <td>24</td>\n      <td>0</td>\n      <td>1.0</td>\n      <td>0</td>\n      <td>0</td>\n      <td>0</td>\n      <td>1</td>\n      <td>0</td>\n      <td>NaN</td>\n    </tr>\n    <tr>\n      <th>28</th>\n      <td>Series 1</td>\n      <td>4</td>\n      <td>Ruth</td>\n      <td>Pudding</td>\n      <td>Puddings</td>\n      <td>Peach and Blueberry Boy Bait</td>\n      <td>2.5</td>\n      <td>1</td>\n      <td>NaN</td>\n      <td>0</td>\n      <td>...</td>\n      <td>1</td>\n      <td>3</td>\n      <td>0</td>\n      <td>0.0</td>\n      <td>0</td>\n      <td>0</td>\n      <td>0</td>\n      <td>1</td>\n      <td>0</td>\n      <td>NaN</td>\n    </tr>\n    <tr>\n      <th>32</th>\n      <td>Series 1</td>\n      <td>5</td>\n      <td>Ruth</td>\n      <td>Pastry</td>\n      <td>Pies</td>\n      <td>Minced Beef Pie</td>\n      <td>2.5</td>\n      <td>0</td>\n      <td>1</td>\n      <td>0</td>\n      <td>...</td>\n      <td>NaN</td>\n      <td>NaN</td>\n      <td>0</td>\n      <td>1.0</td>\n      <td>0</td>\n      <td>0</td>\n      <td>0</td>\n      <td>1</td>\n      <td>0</td>\n      <td>NaN</td>\n    </tr>\n    <tr>\n      <th>...</th>\n      <td>...</td>\n      <td>...</td>\n      <td>...</td>\n      <td>...</td>\n      <td>...</td>\n      <td>...</td>\n      <td>...</td>\n      <td>...</td>\n      <td>...</td>\n      <td>...</td>\n      <td>...</td>\n      <td>...</td>\n      <td>...</td>\n      <td>...</td>\n      <td>...</td>\n      <td>...</td>\n      <td>...</td>\n      <td>...</td>\n      <td>...</td>\n      <td>...</td>\n      <td>...</td>\n    </tr>\n    <tr>\n      <th>454</th>\n      <td>Series 7</td>\n      <td>6</td>\n      <td>Tom</td>\n      <td>Botanical</td>\n      <td>Citrus Meringue Pie</td>\n      <td>Blood Orange Halloween Pumpkin Pie</td>\n      <td>NaN</td>\n      <td>1</td>\n      <td>1</td>\n      <td>0</td>\n      <td>...</td>\n      <td>?</td>\n      <td>?</td>\n      <td>0</td>\n      <td>1.0</td>\n      <td>0</td>\n      <td>1</td>\n      <td>0</td>\n      <td>1</td>\n      <td>0</td>\n      <td>NaN</td>\n    </tr>\n    <tr>\n      <th>460</th>\n      <td>Series 7</td>\n      <td>7</td>\n      <td>Tom</td>\n      <td>Dessert</td>\n      <td>Family-Sized Roulade</td>\n      <td>Millionaire's Roulade</td>\n      <td>1.5</td>\n      <td>1</td>\n      <td>1</td>\n      <td>0</td>\n      <td>...</td>\n      <td>1</td>\n      <td>24</td>\n      <td>0</td>\n      <td>0.0</td>\n      <td>1</td>\n      <td>0</td>\n      <td>1</td>\n      <td>1</td>\n      <td>0</td>\n      <td>NaN</td>\n    </tr>\n    <tr>\n      <th>465</th>\n      <td>Series 7</td>\n      <td>8</td>\n      <td>Selasi</td>\n      <td>Tudor</td>\n      <td>Shaped Savoury Pies</td>\n      <td>Bouquet of Flowers</td>\n      <td>?</td>\n      <td>?</td>\n      <td>1</td>\n      <td>0</td>\n      <td>...</td>\n      <td>?</td>\n      <td>1</td>\n      <td>0</td>\n      <td>0.0</td>\n      <td>1</td>\n      <td>0</td>\n      <td>0</td>\n      <td>1</td>\n      <td>0</td>\n      <td>NaN</td>\n    </tr>\n    <tr>\n      <th>469</th>\n      <td>Series 7</td>\n      <td>9</td>\n      <td>Selasi</td>\n      <td>Pâtisserie</td>\n      <td>Savoury Palmiers</td>\n      <td>Sundried Tomato, Onion, Peppers and Parmesan P...</td>\n      <td>?</td>\n      <td>?</td>\n      <td>24</td>\n      <td>0</td>\n      <td>...</td>\n      <td>1</td>\n      <td>36</td>\n      <td>0</td>\n      <td>0.0</td>\n      <td>1</td>\n      <td>0</td>\n      <td>1</td>\n      <td>1</td>\n      <td>0</td>\n      <td>NaN</td>\n    </tr>\n    <tr>\n      <th>472</th>\n      <td>Series 7</td>\n      <td>10</td>\n      <td>Jane</td>\n      <td>Final</td>\n      <td>Meringue Crown</td>\n      <td>Red, White and Blue Meringue Crown</td>\n      <td>3</td>\n      <td>1</td>\n      <td>1</td>\n      <td>1</td>\n      <td>...</td>\n      <td>Both</td>\n      <td>1 chocolate celebration cake, 12 sausage rolls...</td>\n      <td>0</td>\n      <td>0.0</td>\n      <td>0</td>\n      <td>0</td>\n      <td>1</td>\n      <td>1</td>\n      <td>0</td>\n      <td>NaN</td>\n    </tr>\n  </tbody>\n</table>\n<p>64 rows × 29 columns</p>\n</div>"
     },
     "metadata": {},
     "execution_count": 7
    }
   ],
   "source": [
    "# Calculate percentage for paul vs prue and paul vs mary\n",
    "# 0-64 is mary, 65: is prue\n",
    "mary_episode_df = episodes_df[0:64]\n",
    "mary_episode_df"
   ]
  },
  {
   "cell_type": "code",
   "execution_count": 8,
   "metadata": {},
   "outputs": [
    {
     "output_type": "execute_result",
     "data": {
      "text/plain": [
       "  Recipe Writer  Number of Recipes Written\n",
       "0          Mary                         31\n",
       "1          Paul                         28"
      ],
      "text/html": "<div>\n<style scoped>\n    .dataframe tbody tr th:only-of-type {\n        vertical-align: middle;\n    }\n\n    .dataframe tbody tr th {\n        vertical-align: top;\n    }\n\n    .dataframe thead th {\n        text-align: right;\n    }\n</style>\n<table border=\"1\" class=\"dataframe\">\n  <thead>\n    <tr style=\"text-align: right;\">\n      <th></th>\n      <th>Recipe Writer</th>\n      <th>Number of Recipes Written</th>\n    </tr>\n  </thead>\n  <tbody>\n    <tr>\n      <th>0</th>\n      <td>Mary</td>\n      <td>31</td>\n    </tr>\n    <tr>\n      <th>1</th>\n      <td>Paul</td>\n      <td>28</td>\n    </tr>\n  </tbody>\n</table>\n</div>"
     },
     "metadata": {},
     "execution_count": 8
    }
   ],
   "source": [
    "# count the number of recipes written\n",
    "mary_judge_count = mary_episode_df['Technical Recipe Writer'].value_counts().reset_index()\n",
    "mary_judge_count = mary_judge_count.rename(columns={\"index\": \"Recipe Writer\", \"Technical Recipe Writer\": \"Number of Recipes Written\"})\n",
    "mary_judge_count"
   ]
  },
  {
   "cell_type": "code",
   "execution_count": 9,
   "metadata": {},
   "outputs": [
    {
     "output_type": "display_data",
     "data": {
      "application/vnd.plotly.v1+json": {
       "config": {
        "plotlyServerURL": "https://plot.ly"
       },
       "data": [
        {
         "domain": {
          "x": [
           0,
           1
          ],
          "y": [
           0,
           1
          ]
         },
         "hovertemplate": "label=%{label}<br>value=%{value}<extra></extra>",
         "labels": [
          "Mary",
          "Paul"
         ],
         "legendgroup": "",
         "name": "",
         "showlegend": true,
         "type": "pie",
         "values": [
          31,
          28
         ]
        }
       ],
       "layout": {
        "legend": {
         "tracegroupgap": 0
        },
        "template": {
         "data": {
          "bar": [
           {
            "error_x": {
             "color": "#2a3f5f"
            },
            "error_y": {
             "color": "#2a3f5f"
            },
            "marker": {
             "line": {
              "color": "#E5ECF6",
              "width": 0.5
             }
            },
            "type": "bar"
           }
          ],
          "barpolar": [
           {
            "marker": {
             "line": {
              "color": "#E5ECF6",
              "width": 0.5
             }
            },
            "type": "barpolar"
           }
          ],
          "carpet": [
           {
            "aaxis": {
             "endlinecolor": "#2a3f5f",
             "gridcolor": "white",
             "linecolor": "white",
             "minorgridcolor": "white",
             "startlinecolor": "#2a3f5f"
            },
            "baxis": {
             "endlinecolor": "#2a3f5f",
             "gridcolor": "white",
             "linecolor": "white",
             "minorgridcolor": "white",
             "startlinecolor": "#2a3f5f"
            },
            "type": "carpet"
           }
          ],
          "choropleth": [
           {
            "colorbar": {
             "outlinewidth": 0,
             "ticks": ""
            },
            "type": "choropleth"
           }
          ],
          "contour": [
           {
            "colorbar": {
             "outlinewidth": 0,
             "ticks": ""
            },
            "colorscale": [
             [
              0,
              "#0d0887"
             ],
             [
              0.1111111111111111,
              "#46039f"
             ],
             [
              0.2222222222222222,
              "#7201a8"
             ],
             [
              0.3333333333333333,
              "#9c179e"
             ],
             [
              0.4444444444444444,
              "#bd3786"
             ],
             [
              0.5555555555555556,
              "#d8576b"
             ],
             [
              0.6666666666666666,
              "#ed7953"
             ],
             [
              0.7777777777777778,
              "#fb9f3a"
             ],
             [
              0.8888888888888888,
              "#fdca26"
             ],
             [
              1,
              "#f0f921"
             ]
            ],
            "type": "contour"
           }
          ],
          "contourcarpet": [
           {
            "colorbar": {
             "outlinewidth": 0,
             "ticks": ""
            },
            "type": "contourcarpet"
           }
          ],
          "heatmap": [
           {
            "colorbar": {
             "outlinewidth": 0,
             "ticks": ""
            },
            "colorscale": [
             [
              0,
              "#0d0887"
             ],
             [
              0.1111111111111111,
              "#46039f"
             ],
             [
              0.2222222222222222,
              "#7201a8"
             ],
             [
              0.3333333333333333,
              "#9c179e"
             ],
             [
              0.4444444444444444,
              "#bd3786"
             ],
             [
              0.5555555555555556,
              "#d8576b"
             ],
             [
              0.6666666666666666,
              "#ed7953"
             ],
             [
              0.7777777777777778,
              "#fb9f3a"
             ],
             [
              0.8888888888888888,
              "#fdca26"
             ],
             [
              1,
              "#f0f921"
             ]
            ],
            "type": "heatmap"
           }
          ],
          "heatmapgl": [
           {
            "colorbar": {
             "outlinewidth": 0,
             "ticks": ""
            },
            "colorscale": [
             [
              0,
              "#0d0887"
             ],
             [
              0.1111111111111111,
              "#46039f"
             ],
             [
              0.2222222222222222,
              "#7201a8"
             ],
             [
              0.3333333333333333,
              "#9c179e"
             ],
             [
              0.4444444444444444,
              "#bd3786"
             ],
             [
              0.5555555555555556,
              "#d8576b"
             ],
             [
              0.6666666666666666,
              "#ed7953"
             ],
             [
              0.7777777777777778,
              "#fb9f3a"
             ],
             [
              0.8888888888888888,
              "#fdca26"
             ],
             [
              1,
              "#f0f921"
             ]
            ],
            "type": "heatmapgl"
           }
          ],
          "histogram": [
           {
            "marker": {
             "colorbar": {
              "outlinewidth": 0,
              "ticks": ""
             }
            },
            "type": "histogram"
           }
          ],
          "histogram2d": [
           {
            "colorbar": {
             "outlinewidth": 0,
             "ticks": ""
            },
            "colorscale": [
             [
              0,
              "#0d0887"
             ],
             [
              0.1111111111111111,
              "#46039f"
             ],
             [
              0.2222222222222222,
              "#7201a8"
             ],
             [
              0.3333333333333333,
              "#9c179e"
             ],
             [
              0.4444444444444444,
              "#bd3786"
             ],
             [
              0.5555555555555556,
              "#d8576b"
             ],
             [
              0.6666666666666666,
              "#ed7953"
             ],
             [
              0.7777777777777778,
              "#fb9f3a"
             ],
             [
              0.8888888888888888,
              "#fdca26"
             ],
             [
              1,
              "#f0f921"
             ]
            ],
            "type": "histogram2d"
           }
          ],
          "histogram2dcontour": [
           {
            "colorbar": {
             "outlinewidth": 0,
             "ticks": ""
            },
            "colorscale": [
             [
              0,
              "#0d0887"
             ],
             [
              0.1111111111111111,
              "#46039f"
             ],
             [
              0.2222222222222222,
              "#7201a8"
             ],
             [
              0.3333333333333333,
              "#9c179e"
             ],
             [
              0.4444444444444444,
              "#bd3786"
             ],
             [
              0.5555555555555556,
              "#d8576b"
             ],
             [
              0.6666666666666666,
              "#ed7953"
             ],
             [
              0.7777777777777778,
              "#fb9f3a"
             ],
             [
              0.8888888888888888,
              "#fdca26"
             ],
             [
              1,
              "#f0f921"
             ]
            ],
            "type": "histogram2dcontour"
           }
          ],
          "mesh3d": [
           {
            "colorbar": {
             "outlinewidth": 0,
             "ticks": ""
            },
            "type": "mesh3d"
           }
          ],
          "parcoords": [
           {
            "line": {
             "colorbar": {
              "outlinewidth": 0,
              "ticks": ""
             }
            },
            "type": "parcoords"
           }
          ],
          "pie": [
           {
            "automargin": true,
            "type": "pie"
           }
          ],
          "scatter": [
           {
            "marker": {
             "colorbar": {
              "outlinewidth": 0,
              "ticks": ""
             }
            },
            "type": "scatter"
           }
          ],
          "scatter3d": [
           {
            "line": {
             "colorbar": {
              "outlinewidth": 0,
              "ticks": ""
             }
            },
            "marker": {
             "colorbar": {
              "outlinewidth": 0,
              "ticks": ""
             }
            },
            "type": "scatter3d"
           }
          ],
          "scattercarpet": [
           {
            "marker": {
             "colorbar": {
              "outlinewidth": 0,
              "ticks": ""
             }
            },
            "type": "scattercarpet"
           }
          ],
          "scattergeo": [
           {
            "marker": {
             "colorbar": {
              "outlinewidth": 0,
              "ticks": ""
             }
            },
            "type": "scattergeo"
           }
          ],
          "scattergl": [
           {
            "marker": {
             "colorbar": {
              "outlinewidth": 0,
              "ticks": ""
             }
            },
            "type": "scattergl"
           }
          ],
          "scattermapbox": [
           {
            "marker": {
             "colorbar": {
              "outlinewidth": 0,
              "ticks": ""
             }
            },
            "type": "scattermapbox"
           }
          ],
          "scatterpolar": [
           {
            "marker": {
             "colorbar": {
              "outlinewidth": 0,
              "ticks": ""
             }
            },
            "type": "scatterpolar"
           }
          ],
          "scatterpolargl": [
           {
            "marker": {
             "colorbar": {
              "outlinewidth": 0,
              "ticks": ""
             }
            },
            "type": "scatterpolargl"
           }
          ],
          "scatterternary": [
           {
            "marker": {
             "colorbar": {
              "outlinewidth": 0,
              "ticks": ""
             }
            },
            "type": "scatterternary"
           }
          ],
          "surface": [
           {
            "colorbar": {
             "outlinewidth": 0,
             "ticks": ""
            },
            "colorscale": [
             [
              0,
              "#0d0887"
             ],
             [
              0.1111111111111111,
              "#46039f"
             ],
             [
              0.2222222222222222,
              "#7201a8"
             ],
             [
              0.3333333333333333,
              "#9c179e"
             ],
             [
              0.4444444444444444,
              "#bd3786"
             ],
             [
              0.5555555555555556,
              "#d8576b"
             ],
             [
              0.6666666666666666,
              "#ed7953"
             ],
             [
              0.7777777777777778,
              "#fb9f3a"
             ],
             [
              0.8888888888888888,
              "#fdca26"
             ],
             [
              1,
              "#f0f921"
             ]
            ],
            "type": "surface"
           }
          ],
          "table": [
           {
            "cells": {
             "fill": {
              "color": "#EBF0F8"
             },
             "line": {
              "color": "white"
             }
            },
            "header": {
             "fill": {
              "color": "#C8D4E3"
             },
             "line": {
              "color": "white"
             }
            },
            "type": "table"
           }
          ]
         },
         "layout": {
          "annotationdefaults": {
           "arrowcolor": "#2a3f5f",
           "arrowhead": 0,
           "arrowwidth": 1
          },
          "autotypenumbers": "strict",
          "coloraxis": {
           "colorbar": {
            "outlinewidth": 0,
            "ticks": ""
           }
          },
          "colorscale": {
           "diverging": [
            [
             0,
             "#8e0152"
            ],
            [
             0.1,
             "#c51b7d"
            ],
            [
             0.2,
             "#de77ae"
            ],
            [
             0.3,
             "#f1b6da"
            ],
            [
             0.4,
             "#fde0ef"
            ],
            [
             0.5,
             "#f7f7f7"
            ],
            [
             0.6,
             "#e6f5d0"
            ],
            [
             0.7,
             "#b8e186"
            ],
            [
             0.8,
             "#7fbc41"
            ],
            [
             0.9,
             "#4d9221"
            ],
            [
             1,
             "#276419"
            ]
           ],
           "sequential": [
            [
             0,
             "#0d0887"
            ],
            [
             0.1111111111111111,
             "#46039f"
            ],
            [
             0.2222222222222222,
             "#7201a8"
            ],
            [
             0.3333333333333333,
             "#9c179e"
            ],
            [
             0.4444444444444444,
             "#bd3786"
            ],
            [
             0.5555555555555556,
             "#d8576b"
            ],
            [
             0.6666666666666666,
             "#ed7953"
            ],
            [
             0.7777777777777778,
             "#fb9f3a"
            ],
            [
             0.8888888888888888,
             "#fdca26"
            ],
            [
             1,
             "#f0f921"
            ]
           ],
           "sequentialminus": [
            [
             0,
             "#0d0887"
            ],
            [
             0.1111111111111111,
             "#46039f"
            ],
            [
             0.2222222222222222,
             "#7201a8"
            ],
            [
             0.3333333333333333,
             "#9c179e"
            ],
            [
             0.4444444444444444,
             "#bd3786"
            ],
            [
             0.5555555555555556,
             "#d8576b"
            ],
            [
             0.6666666666666666,
             "#ed7953"
            ],
            [
             0.7777777777777778,
             "#fb9f3a"
            ],
            [
             0.8888888888888888,
             "#fdca26"
            ],
            [
             1,
             "#f0f921"
            ]
           ]
          },
          "colorway": [
           "#636efa",
           "#EF553B",
           "#00cc96",
           "#ab63fa",
           "#FFA15A",
           "#19d3f3",
           "#FF6692",
           "#B6E880",
           "#FF97FF",
           "#FECB52"
          ],
          "font": {
           "color": "#2a3f5f"
          },
          "geo": {
           "bgcolor": "white",
           "lakecolor": "white",
           "landcolor": "#E5ECF6",
           "showlakes": true,
           "showland": true,
           "subunitcolor": "white"
          },
          "hoverlabel": {
           "align": "left"
          },
          "hovermode": "closest",
          "mapbox": {
           "style": "light"
          },
          "paper_bgcolor": "white",
          "plot_bgcolor": "#E5ECF6",
          "polar": {
           "angularaxis": {
            "gridcolor": "white",
            "linecolor": "white",
            "ticks": ""
           },
           "bgcolor": "#E5ECF6",
           "radialaxis": {
            "gridcolor": "white",
            "linecolor": "white",
            "ticks": ""
           }
          },
          "scene": {
           "xaxis": {
            "backgroundcolor": "#E5ECF6",
            "gridcolor": "white",
            "gridwidth": 2,
            "linecolor": "white",
            "showbackground": true,
            "ticks": "",
            "zerolinecolor": "white"
           },
           "yaxis": {
            "backgroundcolor": "#E5ECF6",
            "gridcolor": "white",
            "gridwidth": 2,
            "linecolor": "white",
            "showbackground": true,
            "ticks": "",
            "zerolinecolor": "white"
           },
           "zaxis": {
            "backgroundcolor": "#E5ECF6",
            "gridcolor": "white",
            "gridwidth": 2,
            "linecolor": "white",
            "showbackground": true,
            "ticks": "",
            "zerolinecolor": "white"
           }
          },
          "shapedefaults": {
           "line": {
            "color": "#2a3f5f"
           }
          },
          "ternary": {
           "aaxis": {
            "gridcolor": "white",
            "linecolor": "white",
            "ticks": ""
           },
           "baxis": {
            "gridcolor": "white",
            "linecolor": "white",
            "ticks": ""
           },
           "bgcolor": "#E5ECF6",
           "caxis": {
            "gridcolor": "white",
            "linecolor": "white",
            "ticks": ""
           }
          },
          "title": {
           "x": 0.05
          },
          "xaxis": {
           "automargin": true,
           "gridcolor": "white",
           "linecolor": "white",
           "ticks": "",
           "title": {
            "standoff": 15
           },
           "zerolinecolor": "white",
           "zerolinewidth": 2
          },
          "yaxis": {
           "automargin": true,
           "gridcolor": "white",
           "linecolor": "white",
           "ticks": "",
           "title": {
            "standoff": 15
           },
           "zerolinecolor": "white",
           "zerolinewidth": 2
          }
         }
        },
        "title": {
         "text": "Who Wrote the Most Recipes (S1-S7)"
        }
       }
      }
     },
     "metadata": {}
    }
   ],
   "source": [
    "fig = px.pie(values=mary_judge_count['Number of Recipes Written'], names=mary_judge_count['Recipe Writer'], title='Who Wrote the Most Recipes (S1-S7)')\n",
    "fig.show()"
   ]
  },
  {
   "cell_type": "code",
   "execution_count": 10,
   "metadata": {},
   "outputs": [
    {
     "output_type": "execute_result",
     "data": {
      "text/plain": [
       "       Season  Week Number Baker Week Name Bake Signature Bake  \\\n",
       "484  Series 8            1   Yan      Cake  NaN            NaN   \n",
       "495  Series 8            2   Yan  Biscuits  NaN            NaN   \n",
       "505  Series 8            3   Yan     Bread  NaN            NaN   \n",
       "513  Series 8            4   Tom   Caramel  NaN            NaN   \n",
       "521  Series 8            5   Yan   Pudding  NaN            NaN   \n",
       "\n",
       "    Signature Time Allotment (hours) Signature Sweet (1) or Savory (0)  \\\n",
       "484                              NaN                               NaN   \n",
       "495                              NaN                               NaN   \n",
       "505                              NaN                               NaN   \n",
       "513                              NaN                               NaN   \n",
       "521                              NaN                               NaN   \n",
       "\n",
       "    Signature Quantity  Signature Handshake  ...  \\\n",
       "484                NaN                    0  ...   \n",
       "495                NaN                    0  ...   \n",
       "505                NaN                    0  ...   \n",
       "513                NaN                    0  ...   \n",
       "521                NaN                    1  ...   \n",
       "\n",
       "    Showstopper Sweet (1) or Savory (0) Showstopper Quantity  \\\n",
       "484                                 NaN                  NaN   \n",
       "495                                 NaN                  NaN   \n",
       "505                                 NaN                  NaN   \n",
       "513                                 NaN                  NaN   \n",
       "521                                 NaN                  NaN   \n",
       "\n",
       "    Showstopper Handshake  Favorite Least Favorite  Star Baker Eliminated  \\\n",
       "484                     0       0.0              0           0          0   \n",
       "495                     0       0.0              0           0          0   \n",
       "505                     0       0.0              0           0          0   \n",
       "513                     0       0.0              1           0          1   \n",
       "521                     0       0.0              0           0          0   \n",
       "\n",
       "    Competed Winner UK viewers (millions)  \n",
       "484        1      0                   NaN  \n",
       "495        1      0                   NaN  \n",
       "505        1      0                   NaN  \n",
       "513        1      0                   NaN  \n",
       "521        1      0                   NaN  \n",
       "\n",
       "[5 rows x 29 columns]"
      ],
      "text/html": "<div>\n<style scoped>\n    .dataframe tbody tr th:only-of-type {\n        vertical-align: middle;\n    }\n\n    .dataframe tbody tr th {\n        vertical-align: top;\n    }\n\n    .dataframe thead th {\n        text-align: right;\n    }\n</style>\n<table border=\"1\" class=\"dataframe\">\n  <thead>\n    <tr style=\"text-align: right;\">\n      <th></th>\n      <th>Season</th>\n      <th>Week Number</th>\n      <th>Baker</th>\n      <th>Week Name</th>\n      <th>Bake</th>\n      <th>Signature Bake</th>\n      <th>Signature Time Allotment (hours)</th>\n      <th>Signature Sweet (1) or Savory (0)</th>\n      <th>Signature Quantity</th>\n      <th>Signature Handshake</th>\n      <th>...</th>\n      <th>Showstopper Sweet (1) or Savory (0)</th>\n      <th>Showstopper Quantity</th>\n      <th>Showstopper Handshake</th>\n      <th>Favorite</th>\n      <th>Least Favorite</th>\n      <th>Star Baker</th>\n      <th>Eliminated</th>\n      <th>Competed</th>\n      <th>Winner</th>\n      <th>UK viewers (millions)</th>\n    </tr>\n  </thead>\n  <tbody>\n    <tr>\n      <th>484</th>\n      <td>Series 8</td>\n      <td>1</td>\n      <td>Yan</td>\n      <td>Cake</td>\n      <td>NaN</td>\n      <td>NaN</td>\n      <td>NaN</td>\n      <td>NaN</td>\n      <td>NaN</td>\n      <td>0</td>\n      <td>...</td>\n      <td>NaN</td>\n      <td>NaN</td>\n      <td>0</td>\n      <td>0.0</td>\n      <td>0</td>\n      <td>0</td>\n      <td>0</td>\n      <td>1</td>\n      <td>0</td>\n      <td>NaN</td>\n    </tr>\n    <tr>\n      <th>495</th>\n      <td>Series 8</td>\n      <td>2</td>\n      <td>Yan</td>\n      <td>Biscuits</td>\n      <td>NaN</td>\n      <td>NaN</td>\n      <td>NaN</td>\n      <td>NaN</td>\n      <td>NaN</td>\n      <td>0</td>\n      <td>...</td>\n      <td>NaN</td>\n      <td>NaN</td>\n      <td>0</td>\n      <td>0.0</td>\n      <td>0</td>\n      <td>0</td>\n      <td>0</td>\n      <td>1</td>\n      <td>0</td>\n      <td>NaN</td>\n    </tr>\n    <tr>\n      <th>505</th>\n      <td>Series 8</td>\n      <td>3</td>\n      <td>Yan</td>\n      <td>Bread</td>\n      <td>NaN</td>\n      <td>NaN</td>\n      <td>NaN</td>\n      <td>NaN</td>\n      <td>NaN</td>\n      <td>0</td>\n      <td>...</td>\n      <td>NaN</td>\n      <td>NaN</td>\n      <td>0</td>\n      <td>0.0</td>\n      <td>0</td>\n      <td>0</td>\n      <td>0</td>\n      <td>1</td>\n      <td>0</td>\n      <td>NaN</td>\n    </tr>\n    <tr>\n      <th>513</th>\n      <td>Series 8</td>\n      <td>4</td>\n      <td>Tom</td>\n      <td>Caramel</td>\n      <td>NaN</td>\n      <td>NaN</td>\n      <td>NaN</td>\n      <td>NaN</td>\n      <td>NaN</td>\n      <td>0</td>\n      <td>...</td>\n      <td>NaN</td>\n      <td>NaN</td>\n      <td>0</td>\n      <td>0.0</td>\n      <td>1</td>\n      <td>0</td>\n      <td>1</td>\n      <td>1</td>\n      <td>0</td>\n      <td>NaN</td>\n    </tr>\n    <tr>\n      <th>521</th>\n      <td>Series 8</td>\n      <td>5</td>\n      <td>Yan</td>\n      <td>Pudding</td>\n      <td>NaN</td>\n      <td>NaN</td>\n      <td>NaN</td>\n      <td>NaN</td>\n      <td>NaN</td>\n      <td>1</td>\n      <td>...</td>\n      <td>NaN</td>\n      <td>NaN</td>\n      <td>0</td>\n      <td>0.0</td>\n      <td>0</td>\n      <td>0</td>\n      <td>0</td>\n      <td>1</td>\n      <td>0</td>\n      <td>NaN</td>\n    </tr>\n  </tbody>\n</table>\n<p>5 rows × 29 columns</p>\n</div>"
     },
     "metadata": {},
     "execution_count": 10
    }
   ],
   "source": [
    "prue_episode_df = episodes_df[64:]\n",
    "prue_episode_df.head()"
   ]
  },
  {
   "cell_type": "code",
   "execution_count": 11,
   "metadata": {},
   "outputs": [
    {
     "output_type": "execute_result",
     "data": {
      "text/plain": [
       "  Recipe Writer  Number of Recipes Written\n",
       "0          Paul                         20\n",
       "1          Prue                         20"
      ],
      "text/html": "<div>\n<style scoped>\n    .dataframe tbody tr th:only-of-type {\n        vertical-align: middle;\n    }\n\n    .dataframe tbody tr th {\n        vertical-align: top;\n    }\n\n    .dataframe thead th {\n        text-align: right;\n    }\n</style>\n<table border=\"1\" class=\"dataframe\">\n  <thead>\n    <tr style=\"text-align: right;\">\n      <th></th>\n      <th>Recipe Writer</th>\n      <th>Number of Recipes Written</th>\n    </tr>\n  </thead>\n  <tbody>\n    <tr>\n      <th>0</th>\n      <td>Paul</td>\n      <td>20</td>\n    </tr>\n    <tr>\n      <th>1</th>\n      <td>Prue</td>\n      <td>20</td>\n    </tr>\n  </tbody>\n</table>\n</div>"
     },
     "metadata": {},
     "execution_count": 11
    }
   ],
   "source": [
    "# count the number of recipes written\n",
    "prue_judge_count = prue_episode_df['Technical Recipe Writer'].value_counts().reset_index()\n",
    "prue_judge_count = prue_judge_count.rename(columns={\"index\": \"Recipe Writer\", \"Technical Recipe Writer\": \"Number of Recipes Written\"})\n",
    "prue_judge_count"
   ]
  },
  {
   "cell_type": "code",
   "execution_count": 12,
   "metadata": {},
   "outputs": [
    {
     "output_type": "display_data",
     "data": {
      "application/vnd.plotly.v1+json": {
       "config": {
        "plotlyServerURL": "https://plot.ly"
       },
       "data": [
        {
         "domain": {
          "x": [
           0,
           1
          ],
          "y": [
           0,
           1
          ]
         },
         "hovertemplate": "label=%{label}<br>value=%{value}<extra></extra>",
         "labels": [
          "Paul",
          "Prue"
         ],
         "legendgroup": "",
         "name": "",
         "showlegend": true,
         "type": "pie",
         "values": [
          20,
          20
         ]
        }
       ],
       "layout": {
        "legend": {
         "tracegroupgap": 0
        },
        "template": {
         "data": {
          "bar": [
           {
            "error_x": {
             "color": "#2a3f5f"
            },
            "error_y": {
             "color": "#2a3f5f"
            },
            "marker": {
             "line": {
              "color": "#E5ECF6",
              "width": 0.5
             }
            },
            "type": "bar"
           }
          ],
          "barpolar": [
           {
            "marker": {
             "line": {
              "color": "#E5ECF6",
              "width": 0.5
             }
            },
            "type": "barpolar"
           }
          ],
          "carpet": [
           {
            "aaxis": {
             "endlinecolor": "#2a3f5f",
             "gridcolor": "white",
             "linecolor": "white",
             "minorgridcolor": "white",
             "startlinecolor": "#2a3f5f"
            },
            "baxis": {
             "endlinecolor": "#2a3f5f",
             "gridcolor": "white",
             "linecolor": "white",
             "minorgridcolor": "white",
             "startlinecolor": "#2a3f5f"
            },
            "type": "carpet"
           }
          ],
          "choropleth": [
           {
            "colorbar": {
             "outlinewidth": 0,
             "ticks": ""
            },
            "type": "choropleth"
           }
          ],
          "contour": [
           {
            "colorbar": {
             "outlinewidth": 0,
             "ticks": ""
            },
            "colorscale": [
             [
              0,
              "#0d0887"
             ],
             [
              0.1111111111111111,
              "#46039f"
             ],
             [
              0.2222222222222222,
              "#7201a8"
             ],
             [
              0.3333333333333333,
              "#9c179e"
             ],
             [
              0.4444444444444444,
              "#bd3786"
             ],
             [
              0.5555555555555556,
              "#d8576b"
             ],
             [
              0.6666666666666666,
              "#ed7953"
             ],
             [
              0.7777777777777778,
              "#fb9f3a"
             ],
             [
              0.8888888888888888,
              "#fdca26"
             ],
             [
              1,
              "#f0f921"
             ]
            ],
            "type": "contour"
           }
          ],
          "contourcarpet": [
           {
            "colorbar": {
             "outlinewidth": 0,
             "ticks": ""
            },
            "type": "contourcarpet"
           }
          ],
          "heatmap": [
           {
            "colorbar": {
             "outlinewidth": 0,
             "ticks": ""
            },
            "colorscale": [
             [
              0,
              "#0d0887"
             ],
             [
              0.1111111111111111,
              "#46039f"
             ],
             [
              0.2222222222222222,
              "#7201a8"
             ],
             [
              0.3333333333333333,
              "#9c179e"
             ],
             [
              0.4444444444444444,
              "#bd3786"
             ],
             [
              0.5555555555555556,
              "#d8576b"
             ],
             [
              0.6666666666666666,
              "#ed7953"
             ],
             [
              0.7777777777777778,
              "#fb9f3a"
             ],
             [
              0.8888888888888888,
              "#fdca26"
             ],
             [
              1,
              "#f0f921"
             ]
            ],
            "type": "heatmap"
           }
          ],
          "heatmapgl": [
           {
            "colorbar": {
             "outlinewidth": 0,
             "ticks": ""
            },
            "colorscale": [
             [
              0,
              "#0d0887"
             ],
             [
              0.1111111111111111,
              "#46039f"
             ],
             [
              0.2222222222222222,
              "#7201a8"
             ],
             [
              0.3333333333333333,
              "#9c179e"
             ],
             [
              0.4444444444444444,
              "#bd3786"
             ],
             [
              0.5555555555555556,
              "#d8576b"
             ],
             [
              0.6666666666666666,
              "#ed7953"
             ],
             [
              0.7777777777777778,
              "#fb9f3a"
             ],
             [
              0.8888888888888888,
              "#fdca26"
             ],
             [
              1,
              "#f0f921"
             ]
            ],
            "type": "heatmapgl"
           }
          ],
          "histogram": [
           {
            "marker": {
             "colorbar": {
              "outlinewidth": 0,
              "ticks": ""
             }
            },
            "type": "histogram"
           }
          ],
          "histogram2d": [
           {
            "colorbar": {
             "outlinewidth": 0,
             "ticks": ""
            },
            "colorscale": [
             [
              0,
              "#0d0887"
             ],
             [
              0.1111111111111111,
              "#46039f"
             ],
             [
              0.2222222222222222,
              "#7201a8"
             ],
             [
              0.3333333333333333,
              "#9c179e"
             ],
             [
              0.4444444444444444,
              "#bd3786"
             ],
             [
              0.5555555555555556,
              "#d8576b"
             ],
             [
              0.6666666666666666,
              "#ed7953"
             ],
             [
              0.7777777777777778,
              "#fb9f3a"
             ],
             [
              0.8888888888888888,
              "#fdca26"
             ],
             [
              1,
              "#f0f921"
             ]
            ],
            "type": "histogram2d"
           }
          ],
          "histogram2dcontour": [
           {
            "colorbar": {
             "outlinewidth": 0,
             "ticks": ""
            },
            "colorscale": [
             [
              0,
              "#0d0887"
             ],
             [
              0.1111111111111111,
              "#46039f"
             ],
             [
              0.2222222222222222,
              "#7201a8"
             ],
             [
              0.3333333333333333,
              "#9c179e"
             ],
             [
              0.4444444444444444,
              "#bd3786"
             ],
             [
              0.5555555555555556,
              "#d8576b"
             ],
             [
              0.6666666666666666,
              "#ed7953"
             ],
             [
              0.7777777777777778,
              "#fb9f3a"
             ],
             [
              0.8888888888888888,
              "#fdca26"
             ],
             [
              1,
              "#f0f921"
             ]
            ],
            "type": "histogram2dcontour"
           }
          ],
          "mesh3d": [
           {
            "colorbar": {
             "outlinewidth": 0,
             "ticks": ""
            },
            "type": "mesh3d"
           }
          ],
          "parcoords": [
           {
            "line": {
             "colorbar": {
              "outlinewidth": 0,
              "ticks": ""
             }
            },
            "type": "parcoords"
           }
          ],
          "pie": [
           {
            "automargin": true,
            "type": "pie"
           }
          ],
          "scatter": [
           {
            "marker": {
             "colorbar": {
              "outlinewidth": 0,
              "ticks": ""
             }
            },
            "type": "scatter"
           }
          ],
          "scatter3d": [
           {
            "line": {
             "colorbar": {
              "outlinewidth": 0,
              "ticks": ""
             }
            },
            "marker": {
             "colorbar": {
              "outlinewidth": 0,
              "ticks": ""
             }
            },
            "type": "scatter3d"
           }
          ],
          "scattercarpet": [
           {
            "marker": {
             "colorbar": {
              "outlinewidth": 0,
              "ticks": ""
             }
            },
            "type": "scattercarpet"
           }
          ],
          "scattergeo": [
           {
            "marker": {
             "colorbar": {
              "outlinewidth": 0,
              "ticks": ""
             }
            },
            "type": "scattergeo"
           }
          ],
          "scattergl": [
           {
            "marker": {
             "colorbar": {
              "outlinewidth": 0,
              "ticks": ""
             }
            },
            "type": "scattergl"
           }
          ],
          "scattermapbox": [
           {
            "marker": {
             "colorbar": {
              "outlinewidth": 0,
              "ticks": ""
             }
            },
            "type": "scattermapbox"
           }
          ],
          "scatterpolar": [
           {
            "marker": {
             "colorbar": {
              "outlinewidth": 0,
              "ticks": ""
             }
            },
            "type": "scatterpolar"
           }
          ],
          "scatterpolargl": [
           {
            "marker": {
             "colorbar": {
              "outlinewidth": 0,
              "ticks": ""
             }
            },
            "type": "scatterpolargl"
           }
          ],
          "scatterternary": [
           {
            "marker": {
             "colorbar": {
              "outlinewidth": 0,
              "ticks": ""
             }
            },
            "type": "scatterternary"
           }
          ],
          "surface": [
           {
            "colorbar": {
             "outlinewidth": 0,
             "ticks": ""
            },
            "colorscale": [
             [
              0,
              "#0d0887"
             ],
             [
              0.1111111111111111,
              "#46039f"
             ],
             [
              0.2222222222222222,
              "#7201a8"
             ],
             [
              0.3333333333333333,
              "#9c179e"
             ],
             [
              0.4444444444444444,
              "#bd3786"
             ],
             [
              0.5555555555555556,
              "#d8576b"
             ],
             [
              0.6666666666666666,
              "#ed7953"
             ],
             [
              0.7777777777777778,
              "#fb9f3a"
             ],
             [
              0.8888888888888888,
              "#fdca26"
             ],
             [
              1,
              "#f0f921"
             ]
            ],
            "type": "surface"
           }
          ],
          "table": [
           {
            "cells": {
             "fill": {
              "color": "#EBF0F8"
             },
             "line": {
              "color": "white"
             }
            },
            "header": {
             "fill": {
              "color": "#C8D4E3"
             },
             "line": {
              "color": "white"
             }
            },
            "type": "table"
           }
          ]
         },
         "layout": {
          "annotationdefaults": {
           "arrowcolor": "#2a3f5f",
           "arrowhead": 0,
           "arrowwidth": 1
          },
          "autotypenumbers": "strict",
          "coloraxis": {
           "colorbar": {
            "outlinewidth": 0,
            "ticks": ""
           }
          },
          "colorscale": {
           "diverging": [
            [
             0,
             "#8e0152"
            ],
            [
             0.1,
             "#c51b7d"
            ],
            [
             0.2,
             "#de77ae"
            ],
            [
             0.3,
             "#f1b6da"
            ],
            [
             0.4,
             "#fde0ef"
            ],
            [
             0.5,
             "#f7f7f7"
            ],
            [
             0.6,
             "#e6f5d0"
            ],
            [
             0.7,
             "#b8e186"
            ],
            [
             0.8,
             "#7fbc41"
            ],
            [
             0.9,
             "#4d9221"
            ],
            [
             1,
             "#276419"
            ]
           ],
           "sequential": [
            [
             0,
             "#0d0887"
            ],
            [
             0.1111111111111111,
             "#46039f"
            ],
            [
             0.2222222222222222,
             "#7201a8"
            ],
            [
             0.3333333333333333,
             "#9c179e"
            ],
            [
             0.4444444444444444,
             "#bd3786"
            ],
            [
             0.5555555555555556,
             "#d8576b"
            ],
            [
             0.6666666666666666,
             "#ed7953"
            ],
            [
             0.7777777777777778,
             "#fb9f3a"
            ],
            [
             0.8888888888888888,
             "#fdca26"
            ],
            [
             1,
             "#f0f921"
            ]
           ],
           "sequentialminus": [
            [
             0,
             "#0d0887"
            ],
            [
             0.1111111111111111,
             "#46039f"
            ],
            [
             0.2222222222222222,
             "#7201a8"
            ],
            [
             0.3333333333333333,
             "#9c179e"
            ],
            [
             0.4444444444444444,
             "#bd3786"
            ],
            [
             0.5555555555555556,
             "#d8576b"
            ],
            [
             0.6666666666666666,
             "#ed7953"
            ],
            [
             0.7777777777777778,
             "#fb9f3a"
            ],
            [
             0.8888888888888888,
             "#fdca26"
            ],
            [
             1,
             "#f0f921"
            ]
           ]
          },
          "colorway": [
           "#636efa",
           "#EF553B",
           "#00cc96",
           "#ab63fa",
           "#FFA15A",
           "#19d3f3",
           "#FF6692",
           "#B6E880",
           "#FF97FF",
           "#FECB52"
          ],
          "font": {
           "color": "#2a3f5f"
          },
          "geo": {
           "bgcolor": "white",
           "lakecolor": "white",
           "landcolor": "#E5ECF6",
           "showlakes": true,
           "showland": true,
           "subunitcolor": "white"
          },
          "hoverlabel": {
           "align": "left"
          },
          "hovermode": "closest",
          "mapbox": {
           "style": "light"
          },
          "paper_bgcolor": "white",
          "plot_bgcolor": "#E5ECF6",
          "polar": {
           "angularaxis": {
            "gridcolor": "white",
            "linecolor": "white",
            "ticks": ""
           },
           "bgcolor": "#E5ECF6",
           "radialaxis": {
            "gridcolor": "white",
            "linecolor": "white",
            "ticks": ""
           }
          },
          "scene": {
           "xaxis": {
            "backgroundcolor": "#E5ECF6",
            "gridcolor": "white",
            "gridwidth": 2,
            "linecolor": "white",
            "showbackground": true,
            "ticks": "",
            "zerolinecolor": "white"
           },
           "yaxis": {
            "backgroundcolor": "#E5ECF6",
            "gridcolor": "white",
            "gridwidth": 2,
            "linecolor": "white",
            "showbackground": true,
            "ticks": "",
            "zerolinecolor": "white"
           },
           "zaxis": {
            "backgroundcolor": "#E5ECF6",
            "gridcolor": "white",
            "gridwidth": 2,
            "linecolor": "white",
            "showbackground": true,
            "ticks": "",
            "zerolinecolor": "white"
           }
          },
          "shapedefaults": {
           "line": {
            "color": "#2a3f5f"
           }
          },
          "ternary": {
           "aaxis": {
            "gridcolor": "white",
            "linecolor": "white",
            "ticks": ""
           },
           "baxis": {
            "gridcolor": "white",
            "linecolor": "white",
            "ticks": ""
           },
           "bgcolor": "#E5ECF6",
           "caxis": {
            "gridcolor": "white",
            "linecolor": "white",
            "ticks": ""
           }
          },
          "title": {
           "x": 0.05
          },
          "xaxis": {
           "automargin": true,
           "gridcolor": "white",
           "linecolor": "white",
           "ticks": "",
           "title": {
            "standoff": 15
           },
           "zerolinecolor": "white",
           "zerolinewidth": 2
          },
          "yaxis": {
           "automargin": true,
           "gridcolor": "white",
           "linecolor": "white",
           "ticks": "",
           "title": {
            "standoff": 15
           },
           "zerolinecolor": "white",
           "zerolinewidth": 2
          }
         }
        },
        "title": {
         "text": "Who Wrote the Most Recipes (S8-S11)"
        }
       }
      }
     },
     "metadata": {}
    }
   ],
   "source": [
    "fig = px.pie(values=prue_judge_count['Number of Recipes Written'], names=prue_judge_count['Recipe Writer'], title='Who Wrote the Most Recipes (S8-S11)')\n",
    "fig.show()"
   ]
  },
  {
   "cell_type": "code",
   "execution_count": 13,
   "metadata": {},
   "outputs": [
    {
     "output_type": "execute_result",
     "data": {
      "text/plain": [
       "     Column1                                              title  \\\n",
       "14        14  Paul Hollywood’s Steamed Bao Buns with Crispy ...   \n",
       "15        15         Prue Leith’s Last-minute Christmas Pudding   \n",
       "16        16                  Prue Leith’s Coffee Walnut Whirls   \n",
       "17        17                 Paul Hollywood’s Danish Cornucopia   \n",
       "18        18                  Prue Leith’s Sussex Pond Puddings   \n",
       "..       ...                                                ...   \n",
       "124      124                    Mary Berry’s Hazelnut Dacquoise   \n",
       "125      125                           Mary Berry’s Religieuses   \n",
       "126      126                  Paul Hollywood’s Apricot Couronne   \n",
       "127      127          Mary Berry’s Tuiles with Chocolate Mousse   \n",
       "128      128                      Mary Berry’s Charlotte Royale   \n",
       "\n",
       "              judge  makes              difficulty  \\\n",
       "14   Paul Hollywood      6                    Easy   \n",
       "15       Prue Leith      9                    Easy   \n",
       "16       Prue Leith      8             Challenging   \n",
       "17   Paul Hollywood     10             Challenging   \n",
       "18       Prue Leith      3                    Easy   \n",
       "..              ...    ...                     ...   \n",
       "124  Paul Hollywood     12  30 mins, plus chilling   \n",
       "125  Paul Hollywood      8  30 mins, plus chilling   \n",
       "126  Paul Hollywood      1  30 mins, plus chilling   \n",
       "127  Paul Hollywood      8  30 mins, plus chilling   \n",
       "128  Paul Hollywood     11  30 mins, plus chilling   \n",
       "\n",
       "                   hands_on_time baking_time  \\\n",
       "14         30 mins, plus proving     10 mins   \n",
       "15                       20 mins     40 mins   \n",
       "16   1 hr 40 mins, plus chilling     20 mins   \n",
       "17          2 hrs, plus chilling     12 mins   \n",
       "18                       30 mins       2 hrs   \n",
       "..                           ...         ...   \n",
       "124                   25–30 mins     18 mins   \n",
       "125                   25–30 mins     18 mins   \n",
       "126                   25–30 mins     18 mins   \n",
       "127                   25–30 mins     18 mins   \n",
       "128                   25–30 mins     18 mins   \n",
       "\n",
       "                                           ingredients  \\\n",
       "14   [<h5>For the bao buns:</h5>, <p>130g plain flo...   \n",
       "15   [<h5>For the fruit:</h5>, <p>150g raisins</p>,...   \n",
       "16   [<h5>For the walnut sable biscuit:</h5>, <p>60...   \n",
       "17   [<h5>For the dough:</h5>, <p>250g ground almon...   \n",
       "18   [<h5>For the pastry:</h5>, <p>110g self-raisin...   \n",
       "..                                                 ...   \n",
       "124  [<h5>For the dacquoise:</h5>, <p>250g blanched...   \n",
       "125  [<h5>For the choux pastry:</h5>, <p>60g unsalt...   \n",
       "126  [<h5>For the dough:</h5>, <p>250g strong white...   \n",
       "127  [<h5>For the tuiles:</h5>, <p>200g unsalted bu...   \n",
       "128  [<h5>For the jam:</h5>, <p>400g strawberries, ...   \n",
       "\n",
       "                                          recipe_image  \\\n",
       "14   https://thegreatbritishbakeoff.co.uk/wp-conten...   \n",
       "15   https://thegreatbritishbakeoff.co.uk/wp-conten...   \n",
       "16   https://thegreatbritishbakeoff.co.uk/wp-conten...   \n",
       "17   https://thegreatbritishbakeoff.co.uk/wp-conten...   \n",
       "18   https://thegreatbritishbakeoff.co.uk/wp-conten...   \n",
       "..                                                 ...   \n",
       "124  https://thegreatbritishbakeoff.co.uk/wp-conten...   \n",
       "125  https://thegreatbritishbakeoff.co.uk/wp-conten...   \n",
       "126  https://thegreatbritishbakeoff.co.uk/wp-conten...   \n",
       "127  https://thegreatbritishbakeoff.co.uk/wp-conten...   \n",
       "128  https://thegreatbritishbakeoff.co.uk/wp-conten...   \n",
       "\n",
       "                                           judge_image  calories  cholesterol  \\\n",
       "14   https://thegreatbritishbakeoff.co.uk/wp-conten...      0.00          0.0   \n",
       "15   https://thegreatbritishbakeoff.co.uk/wp-conten...   2162.00          0.0   \n",
       "16   https://thegreatbritishbakeoff.co.uk/wp-conten...    802.50        117.7   \n",
       "17   https://thegreatbritishbakeoff.co.uk/wp-conten...    502.50        230.0   \n",
       "18   https://thegreatbritishbakeoff.co.uk/wp-conten...   2818.75         58.5   \n",
       "..                                                 ...       ...          ...   \n",
       "124  https://thegreatbritishbakeoff.co.uk/wp-conten...   7746.25          0.0   \n",
       "125  https://thegreatbritishbakeoff.co.uk/wp-conten...   1258.50          0.0   \n",
       "126  https://thegreatbritishbakeoff.co.uk/wp-conten...   3822.75          0.0   \n",
       "127  https://thegreatbritishbakeoff.co.uk/wp-conten...   3188.00          0.0   \n",
       "128  https://thegreatbritishbakeoff.co.uk/wp-conten...    120.00          0.0   \n",
       "\n",
       "        fat  protein   sugar  \n",
       "14     0.00     0.00    0.00  \n",
       "15     0.53    16.49  359.32  \n",
       "16    83.21    10.00    2.61  \n",
       "17    25.77    67.85    0.00  \n",
       "18    72.26     8.24    2.64  \n",
       "..      ...      ...     ...  \n",
       "124  153.81    35.41  307.72  \n",
       "125    2.62     6.83   19.16  \n",
       "126    4.65    38.58    0.00  \n",
       "127    7.00    18.20    4.42  \n",
       "128    0.00     0.00    7.60  \n",
       "\n",
       "[108 rows x 15 columns]"
      ],
      "text/html": "<div>\n<style scoped>\n    .dataframe tbody tr th:only-of-type {\n        vertical-align: middle;\n    }\n\n    .dataframe tbody tr th {\n        vertical-align: top;\n    }\n\n    .dataframe thead th {\n        text-align: right;\n    }\n</style>\n<table border=\"1\" class=\"dataframe\">\n  <thead>\n    <tr style=\"text-align: right;\">\n      <th></th>\n      <th>Column1</th>\n      <th>title</th>\n      <th>judge</th>\n      <th>makes</th>\n      <th>difficulty</th>\n      <th>hands_on_time</th>\n      <th>baking_time</th>\n      <th>ingredients</th>\n      <th>recipe_image</th>\n      <th>judge_image</th>\n      <th>calories</th>\n      <th>cholesterol</th>\n      <th>fat</th>\n      <th>protein</th>\n      <th>sugar</th>\n    </tr>\n  </thead>\n  <tbody>\n    <tr>\n      <th>14</th>\n      <td>14</td>\n      <td>Paul Hollywood’s Steamed Bao Buns with Crispy ...</td>\n      <td>Paul Hollywood</td>\n      <td>6</td>\n      <td>Easy</td>\n      <td>30 mins, plus proving</td>\n      <td>10 mins</td>\n      <td>[&lt;h5&gt;For the bao buns:&lt;/h5&gt;, &lt;p&gt;130g plain flo...</td>\n      <td>https://thegreatbritishbakeoff.co.uk/wp-conten...</td>\n      <td>https://thegreatbritishbakeoff.co.uk/wp-conten...</td>\n      <td>0.00</td>\n      <td>0.0</td>\n      <td>0.00</td>\n      <td>0.00</td>\n      <td>0.00</td>\n    </tr>\n    <tr>\n      <th>15</th>\n      <td>15</td>\n      <td>Prue Leith’s Last-minute Christmas Pudding</td>\n      <td>Prue Leith</td>\n      <td>9</td>\n      <td>Easy</td>\n      <td>20 mins</td>\n      <td>40 mins</td>\n      <td>[&lt;h5&gt;For the fruit:&lt;/h5&gt;, &lt;p&gt;150g raisins&lt;/p&gt;,...</td>\n      <td>https://thegreatbritishbakeoff.co.uk/wp-conten...</td>\n      <td>https://thegreatbritishbakeoff.co.uk/wp-conten...</td>\n      <td>2162.00</td>\n      <td>0.0</td>\n      <td>0.53</td>\n      <td>16.49</td>\n      <td>359.32</td>\n    </tr>\n    <tr>\n      <th>16</th>\n      <td>16</td>\n      <td>Prue Leith’s Coffee Walnut Whirls</td>\n      <td>Prue Leith</td>\n      <td>8</td>\n      <td>Challenging</td>\n      <td>1 hr 40 mins, plus chilling</td>\n      <td>20 mins</td>\n      <td>[&lt;h5&gt;For the walnut sable biscuit:&lt;/h5&gt;, &lt;p&gt;60...</td>\n      <td>https://thegreatbritishbakeoff.co.uk/wp-conten...</td>\n      <td>https://thegreatbritishbakeoff.co.uk/wp-conten...</td>\n      <td>802.50</td>\n      <td>117.7</td>\n      <td>83.21</td>\n      <td>10.00</td>\n      <td>2.61</td>\n    </tr>\n    <tr>\n      <th>17</th>\n      <td>17</td>\n      <td>Paul Hollywood’s Danish Cornucopia</td>\n      <td>Paul Hollywood</td>\n      <td>10</td>\n      <td>Challenging</td>\n      <td>2 hrs, plus chilling</td>\n      <td>12 mins</td>\n      <td>[&lt;h5&gt;For the dough:&lt;/h5&gt;, &lt;p&gt;250g ground almon...</td>\n      <td>https://thegreatbritishbakeoff.co.uk/wp-conten...</td>\n      <td>https://thegreatbritishbakeoff.co.uk/wp-conten...</td>\n      <td>502.50</td>\n      <td>230.0</td>\n      <td>25.77</td>\n      <td>67.85</td>\n      <td>0.00</td>\n    </tr>\n    <tr>\n      <th>18</th>\n      <td>18</td>\n      <td>Prue Leith’s Sussex Pond Puddings</td>\n      <td>Prue Leith</td>\n      <td>3</td>\n      <td>Easy</td>\n      <td>30 mins</td>\n      <td>2 hrs</td>\n      <td>[&lt;h5&gt;For the pastry:&lt;/h5&gt;, &lt;p&gt;110g self-raisin...</td>\n      <td>https://thegreatbritishbakeoff.co.uk/wp-conten...</td>\n      <td>https://thegreatbritishbakeoff.co.uk/wp-conten...</td>\n      <td>2818.75</td>\n      <td>58.5</td>\n      <td>72.26</td>\n      <td>8.24</td>\n      <td>2.64</td>\n    </tr>\n    <tr>\n      <th>...</th>\n      <td>...</td>\n      <td>...</td>\n      <td>...</td>\n      <td>...</td>\n      <td>...</td>\n      <td>...</td>\n      <td>...</td>\n      <td>...</td>\n      <td>...</td>\n      <td>...</td>\n      <td>...</td>\n      <td>...</td>\n      <td>...</td>\n      <td>...</td>\n      <td>...</td>\n    </tr>\n    <tr>\n      <th>124</th>\n      <td>124</td>\n      <td>Mary Berry’s Hazelnut Dacquoise</td>\n      <td>Paul Hollywood</td>\n      <td>12</td>\n      <td>30 mins, plus chilling</td>\n      <td>25–30 mins</td>\n      <td>18 mins</td>\n      <td>[&lt;h5&gt;For the dacquoise:&lt;/h5&gt;, &lt;p&gt;250g blanched...</td>\n      <td>https://thegreatbritishbakeoff.co.uk/wp-conten...</td>\n      <td>https://thegreatbritishbakeoff.co.uk/wp-conten...</td>\n      <td>7746.25</td>\n      <td>0.0</td>\n      <td>153.81</td>\n      <td>35.41</td>\n      <td>307.72</td>\n    </tr>\n    <tr>\n      <th>125</th>\n      <td>125</td>\n      <td>Mary Berry’s Religieuses</td>\n      <td>Paul Hollywood</td>\n      <td>8</td>\n      <td>30 mins, plus chilling</td>\n      <td>25–30 mins</td>\n      <td>18 mins</td>\n      <td>[&lt;h5&gt;For the choux pastry:&lt;/h5&gt;, &lt;p&gt;60g unsalt...</td>\n      <td>https://thegreatbritishbakeoff.co.uk/wp-conten...</td>\n      <td>https://thegreatbritishbakeoff.co.uk/wp-conten...</td>\n      <td>1258.50</td>\n      <td>0.0</td>\n      <td>2.62</td>\n      <td>6.83</td>\n      <td>19.16</td>\n    </tr>\n    <tr>\n      <th>126</th>\n      <td>126</td>\n      <td>Paul Hollywood’s Apricot Couronne</td>\n      <td>Paul Hollywood</td>\n      <td>1</td>\n      <td>30 mins, plus chilling</td>\n      <td>25–30 mins</td>\n      <td>18 mins</td>\n      <td>[&lt;h5&gt;For the dough:&lt;/h5&gt;, &lt;p&gt;250g strong white...</td>\n      <td>https://thegreatbritishbakeoff.co.uk/wp-conten...</td>\n      <td>https://thegreatbritishbakeoff.co.uk/wp-conten...</td>\n      <td>3822.75</td>\n      <td>0.0</td>\n      <td>4.65</td>\n      <td>38.58</td>\n      <td>0.00</td>\n    </tr>\n    <tr>\n      <th>127</th>\n      <td>127</td>\n      <td>Mary Berry’s Tuiles with Chocolate Mousse</td>\n      <td>Paul Hollywood</td>\n      <td>8</td>\n      <td>30 mins, plus chilling</td>\n      <td>25–30 mins</td>\n      <td>18 mins</td>\n      <td>[&lt;h5&gt;For the tuiles:&lt;/h5&gt;, &lt;p&gt;200g unsalted bu...</td>\n      <td>https://thegreatbritishbakeoff.co.uk/wp-conten...</td>\n      <td>https://thegreatbritishbakeoff.co.uk/wp-conten...</td>\n      <td>3188.00</td>\n      <td>0.0</td>\n      <td>7.00</td>\n      <td>18.20</td>\n      <td>4.42</td>\n    </tr>\n    <tr>\n      <th>128</th>\n      <td>128</td>\n      <td>Mary Berry’s Charlotte Royale</td>\n      <td>Paul Hollywood</td>\n      <td>11</td>\n      <td>30 mins, plus chilling</td>\n      <td>25–30 mins</td>\n      <td>18 mins</td>\n      <td>[&lt;h5&gt;For the jam:&lt;/h5&gt;, &lt;p&gt;400g strawberries, ...</td>\n      <td>https://thegreatbritishbakeoff.co.uk/wp-conten...</td>\n      <td>https://thegreatbritishbakeoff.co.uk/wp-conten...</td>\n      <td>120.00</td>\n      <td>0.0</td>\n      <td>0.00</td>\n      <td>0.00</td>\n      <td>7.60</td>\n    </tr>\n  </tbody>\n</table>\n<p>108 rows × 15 columns</p>\n</div>"
     },
     "metadata": {},
     "execution_count": 13
    }
   ],
   "source": [
    "# only look at the three judges\n",
    "judges = ['Paul Hollywood', 'Prue Leith', 'Mary Berry']\n",
    "nutrition_df = bakes_df.loc[bakes_df['judge'].isin(judges)]\n",
    "nutrition_df"
   ]
  },
  {
   "cell_type": "code",
   "execution_count": 14,
   "metadata": {
    "tags": []
   },
   "outputs": [
    {
     "output_type": "stream",
     "name": "stderr",
     "text": [
      "ipykernel_launcher:5: SettingWithCopyWarning:\n\n\nA value is trying to be set on a copy of a slice from a DataFrame.\nTry using .loc[row_indexer,col_indexer] = value instead\n\nSee the caveats in the documentation: https://pandas.pydata.org/pandas-docs/stable/user_guide/indexing.html#returning-a-view-versus-a-copy\n\nipykernel_launcher:7: SettingWithCopyWarning:\n\n\nA value is trying to be set on a copy of a slice from a DataFrame.\nTry using .loc[row_indexer,col_indexer] = value instead\n\nSee the caveats in the documentation: https://pandas.pydata.org/pandas-docs/stable/user_guide/indexing.html#returning-a-view-versus-a-copy\n\nipykernel_launcher:9: SettingWithCopyWarning:\n\n\nA value is trying to be set on a copy of a slice from a DataFrame.\nTry using .loc[row_indexer,col_indexer] = value instead\n\nSee the caveats in the documentation: https://pandas.pydata.org/pandas-docs/stable/user_guide/indexing.html#returning-a-view-versus-a-copy\n\n"
     ]
    },
    {
     "output_type": "execute_result",
     "data": {
      "text/plain": [
       "Paul Hollywood    52\n",
       "Prue Leith        37\n",
       "Mary Berry        19\n",
       "Name: judge_fixed, dtype: int64"
      ]
     },
     "metadata": {},
     "execution_count": 14
    }
   ],
   "source": [
    "# some judges are incorrect, need to extract mary berry\n",
    "judge_list = ['Mary Berry', 'Paul Hollywood', 'Prue Leith']\n",
    "\n",
    "# split on the ’ (a special character) to get the recipe writer\n",
    "nutrition_df['judge_fixed'] = nutrition_df['title'].apply(lambda row: row.split('’')[0])\n",
    "# change mary berry berry to marry berry\n",
    "nutrition_df['judge_fixed'] = nutrition_df['judge_fixed'].apply(lambda row: 'Mary Berry' if ('Mary' in row) else row)\n",
    "# fix the missing judges with the other column values.\n",
    "nutrition_df['judge_fixed'] = nutrition_df.apply(lambda row: row['judge_fixed'] if (row['judge_fixed'] in judge_list) else row['judge'], axis = 1)\n",
    "\n",
    "nutrition_df['judge_fixed'].value_counts()"
   ]
  },
  {
   "cell_type": "code",
   "execution_count": 15,
   "metadata": {},
   "outputs": [
    {
     "output_type": "execute_result",
     "data": {
      "text/plain": [
       "12    26\n",
       "6     21\n",
       "8     14\n",
       "9      9\n",
       "4      8\n",
       "1      6\n",
       "10     5\n",
       "11     3\n",
       "13     3\n",
       "14     2\n",
       "7      2\n",
       "16     2\n",
       "3      2\n",
       "2      2\n",
       "18     1\n",
       "15     1\n",
       "20     1\n",
       "Name: makes, dtype: int64"
      ]
     },
     "metadata": {},
     "execution_count": 15
    }
   ],
   "source": [
    "# check how many of each values their are\n",
    "nutrition_df['makes'].value_counts()\n"
   ]
  },
  {
   "cell_type": "code",
   "execution_count": 16,
   "metadata": {},
   "outputs": [
    {
     "output_type": "execute_result",
     "data": {
      "text/plain": [
       "Paul Hollywood    47\n",
       "Prue Leith        33\n",
       "Mary Berry        18\n",
       "Name: judge_fixed, dtype: int64"
      ]
     },
     "metadata": {},
     "execution_count": 16
    }
   ],
   "source": [
    "# drop if it makes 3 or less, probably a loaf and not actual servings\n",
    "nutrition_df_filtered = nutrition_df[nutrition_df['makes'] >= 4] \n",
    "nutrition_df_filtered['judge_fixed'].value_counts()"
   ]
  },
  {
   "cell_type": "code",
   "execution_count": 17,
   "metadata": {},
   "outputs": [
    {
     "output_type": "stream",
     "name": "stderr",
     "text": [
      "ipykernel_launcher:2: SettingWithCopyWarning:\n\n\nA value is trying to be set on a copy of a slice from a DataFrame.\nTry using .loc[row_indexer,col_indexer] = value instead\n\nSee the caveats in the documentation: https://pandas.pydata.org/pandas-docs/stable/user_guide/indexing.html#returning-a-view-versus-a-copy\n\n"
     ]
    },
    {
     "output_type": "execute_result",
     "data": {
      "text/plain": [
       "14       0.000000\n",
       "15     240.222222\n",
       "16     100.312500\n",
       "17      50.250000\n",
       "19     661.625000\n",
       "          ...    \n",
       "123    657.437500\n",
       "124    645.520833\n",
       "125    157.312500\n",
       "127    398.500000\n",
       "128     10.909091\n",
       "Name: calories_per_serving, Length: 98, dtype: float64"
      ]
     },
     "metadata": {},
     "execution_count": 17
    }
   ],
   "source": [
    "# Get the calories per serving\n",
    "nutrition_df_filtered['calories_per_serving'] = nutrition_df_filtered.apply(lambda row: row['calories'] / row['makes'], axis = 1)\n",
    "nutrition_df_filtered['calories_per_serving']"
   ]
  },
  {
   "cell_type": "code",
   "execution_count": 18,
   "metadata": {},
   "outputs": [
    {
     "output_type": "display_data",
     "data": {
      "application/vnd.plotly.v1+json": {
       "config": {
        "plotlyServerURL": "https://plot.ly"
       },
       "data": [
        {
         "hovertemplate": "x=%{x}<br>y=%{y}<extra></extra>",
         "legendgroup": "",
         "marker": {
          "color": "#636efa",
          "symbol": "circle"
         },
         "mode": "markers",
         "name": "",
         "orientation": "v",
         "showlegend": false,
         "type": "scatter",
         "x": [
          14,
          15,
          16,
          17,
          19,
          20,
          21,
          23,
          24,
          25,
          26,
          27,
          29,
          30,
          31,
          32,
          33,
          35,
          38,
          40,
          44,
          46,
          47,
          48,
          49,
          50,
          51,
          52,
          53,
          54,
          55,
          56,
          57,
          58,
          59,
          60,
          61,
          62,
          63,
          64,
          65,
          66,
          67,
          68,
          69,
          70,
          71,
          72,
          73,
          74,
          75,
          76,
          77,
          78,
          80,
          81,
          82,
          84,
          85,
          86,
          88,
          89,
          90,
          91,
          92,
          93,
          95,
          96,
          97,
          98,
          99,
          100,
          101,
          102,
          103,
          104,
          105,
          106,
          107,
          108,
          109,
          110,
          111,
          112,
          114,
          115,
          116,
          117,
          118,
          119,
          120,
          121,
          122,
          123,
          124,
          125,
          127,
          128
         ],
         "xaxis": "x",
         "y": [
          0,
          240.22222222222223,
          100.3125,
          50.25,
          661.625,
          242.48499999999999,
          308.9166666666667,
          952.7083333333334,
          3.75,
          0,
          661.4250000000001,
          83.8875,
          0,
          0,
          221.17499999999998,
          0,
          971.55,
          409.325,
          1042.75,
          20.804166666666667,
          26.125,
          223.25,
          195.08333333333334,
          0,
          164.5,
          30.833333333333332,
          16,
          21.816666666666666,
          46.5,
          60.7375,
          24.133333333333336,
          76.8,
          59.5,
          418.4583333333333,
          215.20833333333334,
          519,
          182.77777777777777,
          93.26666666666667,
          423.48,
          1297.9166666666667,
          205.52857142857144,
          79.95,
          204.1142857142857,
          292.23333333333335,
          null,
          null,
          null,
          null,
          434.5,
          0,
          0,
          449.275,
          218.78571428571428,
          1129.1833333333334,
          0,
          448.4583333333333,
          43.642857142857146,
          199.25,
          743,
          421.1958333333334,
          118.34166666666665,
          60.5,
          370.25,
          641.2222222222222,
          72,
          685.7954545454545,
          140.20833333333334,
          242.95833333333334,
          39.5,
          129.42307692307693,
          136.0625,
          219.755,
          75.12222222222222,
          182.15,
          31.858333333333334,
          81.45,
          14.45,
          103.38461538461539,
          620.0846153846154,
          326.4583333333333,
          206.65,
          223.6375,
          171.55,
          361.1666666666667,
          402.73333333333335,
          826.875,
          246.98749999999998,
          152,
          615.8000000000001,
          434.75,
          350.8,
          466.25,
          null,
          657.4375,
          645.5208333333334,
          157.3125,
          398.5,
          10.909090909090908
         ],
         "yaxis": "y"
        }
       ],
       "layout": {
        "legend": {
         "tracegroupgap": 0
        },
        "template": {
         "data": {
          "bar": [
           {
            "error_x": {
             "color": "#2a3f5f"
            },
            "error_y": {
             "color": "#2a3f5f"
            },
            "marker": {
             "line": {
              "color": "#E5ECF6",
              "width": 0.5
             }
            },
            "type": "bar"
           }
          ],
          "barpolar": [
           {
            "marker": {
             "line": {
              "color": "#E5ECF6",
              "width": 0.5
             }
            },
            "type": "barpolar"
           }
          ],
          "carpet": [
           {
            "aaxis": {
             "endlinecolor": "#2a3f5f",
             "gridcolor": "white",
             "linecolor": "white",
             "minorgridcolor": "white",
             "startlinecolor": "#2a3f5f"
            },
            "baxis": {
             "endlinecolor": "#2a3f5f",
             "gridcolor": "white",
             "linecolor": "white",
             "minorgridcolor": "white",
             "startlinecolor": "#2a3f5f"
            },
            "type": "carpet"
           }
          ],
          "choropleth": [
           {
            "colorbar": {
             "outlinewidth": 0,
             "ticks": ""
            },
            "type": "choropleth"
           }
          ],
          "contour": [
           {
            "colorbar": {
             "outlinewidth": 0,
             "ticks": ""
            },
            "colorscale": [
             [
              0,
              "#0d0887"
             ],
             [
              0.1111111111111111,
              "#46039f"
             ],
             [
              0.2222222222222222,
              "#7201a8"
             ],
             [
              0.3333333333333333,
              "#9c179e"
             ],
             [
              0.4444444444444444,
              "#bd3786"
             ],
             [
              0.5555555555555556,
              "#d8576b"
             ],
             [
              0.6666666666666666,
              "#ed7953"
             ],
             [
              0.7777777777777778,
              "#fb9f3a"
             ],
             [
              0.8888888888888888,
              "#fdca26"
             ],
             [
              1,
              "#f0f921"
             ]
            ],
            "type": "contour"
           }
          ],
          "contourcarpet": [
           {
            "colorbar": {
             "outlinewidth": 0,
             "ticks": ""
            },
            "type": "contourcarpet"
           }
          ],
          "heatmap": [
           {
            "colorbar": {
             "outlinewidth": 0,
             "ticks": ""
            },
            "colorscale": [
             [
              0,
              "#0d0887"
             ],
             [
              0.1111111111111111,
              "#46039f"
             ],
             [
              0.2222222222222222,
              "#7201a8"
             ],
             [
              0.3333333333333333,
              "#9c179e"
             ],
             [
              0.4444444444444444,
              "#bd3786"
             ],
             [
              0.5555555555555556,
              "#d8576b"
             ],
             [
              0.6666666666666666,
              "#ed7953"
             ],
             [
              0.7777777777777778,
              "#fb9f3a"
             ],
             [
              0.8888888888888888,
              "#fdca26"
             ],
             [
              1,
              "#f0f921"
             ]
            ],
            "type": "heatmap"
           }
          ],
          "heatmapgl": [
           {
            "colorbar": {
             "outlinewidth": 0,
             "ticks": ""
            },
            "colorscale": [
             [
              0,
              "#0d0887"
             ],
             [
              0.1111111111111111,
              "#46039f"
             ],
             [
              0.2222222222222222,
              "#7201a8"
             ],
             [
              0.3333333333333333,
              "#9c179e"
             ],
             [
              0.4444444444444444,
              "#bd3786"
             ],
             [
              0.5555555555555556,
              "#d8576b"
             ],
             [
              0.6666666666666666,
              "#ed7953"
             ],
             [
              0.7777777777777778,
              "#fb9f3a"
             ],
             [
              0.8888888888888888,
              "#fdca26"
             ],
             [
              1,
              "#f0f921"
             ]
            ],
            "type": "heatmapgl"
           }
          ],
          "histogram": [
           {
            "marker": {
             "colorbar": {
              "outlinewidth": 0,
              "ticks": ""
             }
            },
            "type": "histogram"
           }
          ],
          "histogram2d": [
           {
            "colorbar": {
             "outlinewidth": 0,
             "ticks": ""
            },
            "colorscale": [
             [
              0,
              "#0d0887"
             ],
             [
              0.1111111111111111,
              "#46039f"
             ],
             [
              0.2222222222222222,
              "#7201a8"
             ],
             [
              0.3333333333333333,
              "#9c179e"
             ],
             [
              0.4444444444444444,
              "#bd3786"
             ],
             [
              0.5555555555555556,
              "#d8576b"
             ],
             [
              0.6666666666666666,
              "#ed7953"
             ],
             [
              0.7777777777777778,
              "#fb9f3a"
             ],
             [
              0.8888888888888888,
              "#fdca26"
             ],
             [
              1,
              "#f0f921"
             ]
            ],
            "type": "histogram2d"
           }
          ],
          "histogram2dcontour": [
           {
            "colorbar": {
             "outlinewidth": 0,
             "ticks": ""
            },
            "colorscale": [
             [
              0,
              "#0d0887"
             ],
             [
              0.1111111111111111,
              "#46039f"
             ],
             [
              0.2222222222222222,
              "#7201a8"
             ],
             [
              0.3333333333333333,
              "#9c179e"
             ],
             [
              0.4444444444444444,
              "#bd3786"
             ],
             [
              0.5555555555555556,
              "#d8576b"
             ],
             [
              0.6666666666666666,
              "#ed7953"
             ],
             [
              0.7777777777777778,
              "#fb9f3a"
             ],
             [
              0.8888888888888888,
              "#fdca26"
             ],
             [
              1,
              "#f0f921"
             ]
            ],
            "type": "histogram2dcontour"
           }
          ],
          "mesh3d": [
           {
            "colorbar": {
             "outlinewidth": 0,
             "ticks": ""
            },
            "type": "mesh3d"
           }
          ],
          "parcoords": [
           {
            "line": {
             "colorbar": {
              "outlinewidth": 0,
              "ticks": ""
             }
            },
            "type": "parcoords"
           }
          ],
          "pie": [
           {
            "automargin": true,
            "type": "pie"
           }
          ],
          "scatter": [
           {
            "marker": {
             "colorbar": {
              "outlinewidth": 0,
              "ticks": ""
             }
            },
            "type": "scatter"
           }
          ],
          "scatter3d": [
           {
            "line": {
             "colorbar": {
              "outlinewidth": 0,
              "ticks": ""
             }
            },
            "marker": {
             "colorbar": {
              "outlinewidth": 0,
              "ticks": ""
             }
            },
            "type": "scatter3d"
           }
          ],
          "scattercarpet": [
           {
            "marker": {
             "colorbar": {
              "outlinewidth": 0,
              "ticks": ""
             }
            },
            "type": "scattercarpet"
           }
          ],
          "scattergeo": [
           {
            "marker": {
             "colorbar": {
              "outlinewidth": 0,
              "ticks": ""
             }
            },
            "type": "scattergeo"
           }
          ],
          "scattergl": [
           {
            "marker": {
             "colorbar": {
              "outlinewidth": 0,
              "ticks": ""
             }
            },
            "type": "scattergl"
           }
          ],
          "scattermapbox": [
           {
            "marker": {
             "colorbar": {
              "outlinewidth": 0,
              "ticks": ""
             }
            },
            "type": "scattermapbox"
           }
          ],
          "scatterpolar": [
           {
            "marker": {
             "colorbar": {
              "outlinewidth": 0,
              "ticks": ""
             }
            },
            "type": "scatterpolar"
           }
          ],
          "scatterpolargl": [
           {
            "marker": {
             "colorbar": {
              "outlinewidth": 0,
              "ticks": ""
             }
            },
            "type": "scatterpolargl"
           }
          ],
          "scatterternary": [
           {
            "marker": {
             "colorbar": {
              "outlinewidth": 0,
              "ticks": ""
             }
            },
            "type": "scatterternary"
           }
          ],
          "surface": [
           {
            "colorbar": {
             "outlinewidth": 0,
             "ticks": ""
            },
            "colorscale": [
             [
              0,
              "#0d0887"
             ],
             [
              0.1111111111111111,
              "#46039f"
             ],
             [
              0.2222222222222222,
              "#7201a8"
             ],
             [
              0.3333333333333333,
              "#9c179e"
             ],
             [
              0.4444444444444444,
              "#bd3786"
             ],
             [
              0.5555555555555556,
              "#d8576b"
             ],
             [
              0.6666666666666666,
              "#ed7953"
             ],
             [
              0.7777777777777778,
              "#fb9f3a"
             ],
             [
              0.8888888888888888,
              "#fdca26"
             ],
             [
              1,
              "#f0f921"
             ]
            ],
            "type": "surface"
           }
          ],
          "table": [
           {
            "cells": {
             "fill": {
              "color": "#EBF0F8"
             },
             "line": {
              "color": "white"
             }
            },
            "header": {
             "fill": {
              "color": "#C8D4E3"
             },
             "line": {
              "color": "white"
             }
            },
            "type": "table"
           }
          ]
         },
         "layout": {
          "annotationdefaults": {
           "arrowcolor": "#2a3f5f",
           "arrowhead": 0,
           "arrowwidth": 1
          },
          "autotypenumbers": "strict",
          "coloraxis": {
           "colorbar": {
            "outlinewidth": 0,
            "ticks": ""
           }
          },
          "colorscale": {
           "diverging": [
            [
             0,
             "#8e0152"
            ],
            [
             0.1,
             "#c51b7d"
            ],
            [
             0.2,
             "#de77ae"
            ],
            [
             0.3,
             "#f1b6da"
            ],
            [
             0.4,
             "#fde0ef"
            ],
            [
             0.5,
             "#f7f7f7"
            ],
            [
             0.6,
             "#e6f5d0"
            ],
            [
             0.7,
             "#b8e186"
            ],
            [
             0.8,
             "#7fbc41"
            ],
            [
             0.9,
             "#4d9221"
            ],
            [
             1,
             "#276419"
            ]
           ],
           "sequential": [
            [
             0,
             "#0d0887"
            ],
            [
             0.1111111111111111,
             "#46039f"
            ],
            [
             0.2222222222222222,
             "#7201a8"
            ],
            [
             0.3333333333333333,
             "#9c179e"
            ],
            [
             0.4444444444444444,
             "#bd3786"
            ],
            [
             0.5555555555555556,
             "#d8576b"
            ],
            [
             0.6666666666666666,
             "#ed7953"
            ],
            [
             0.7777777777777778,
             "#fb9f3a"
            ],
            [
             0.8888888888888888,
             "#fdca26"
            ],
            [
             1,
             "#f0f921"
            ]
           ],
           "sequentialminus": [
            [
             0,
             "#0d0887"
            ],
            [
             0.1111111111111111,
             "#46039f"
            ],
            [
             0.2222222222222222,
             "#7201a8"
            ],
            [
             0.3333333333333333,
             "#9c179e"
            ],
            [
             0.4444444444444444,
             "#bd3786"
            ],
            [
             0.5555555555555556,
             "#d8576b"
            ],
            [
             0.6666666666666666,
             "#ed7953"
            ],
            [
             0.7777777777777778,
             "#fb9f3a"
            ],
            [
             0.8888888888888888,
             "#fdca26"
            ],
            [
             1,
             "#f0f921"
            ]
           ]
          },
          "colorway": [
           "#636efa",
           "#EF553B",
           "#00cc96",
           "#ab63fa",
           "#FFA15A",
           "#19d3f3",
           "#FF6692",
           "#B6E880",
           "#FF97FF",
           "#FECB52"
          ],
          "font": {
           "color": "#2a3f5f"
          },
          "geo": {
           "bgcolor": "white",
           "lakecolor": "white",
           "landcolor": "#E5ECF6",
           "showlakes": true,
           "showland": true,
           "subunitcolor": "white"
          },
          "hoverlabel": {
           "align": "left"
          },
          "hovermode": "closest",
          "mapbox": {
           "style": "light"
          },
          "paper_bgcolor": "white",
          "plot_bgcolor": "#E5ECF6",
          "polar": {
           "angularaxis": {
            "gridcolor": "white",
            "linecolor": "white",
            "ticks": ""
           },
           "bgcolor": "#E5ECF6",
           "radialaxis": {
            "gridcolor": "white",
            "linecolor": "white",
            "ticks": ""
           }
          },
          "scene": {
           "xaxis": {
            "backgroundcolor": "#E5ECF6",
            "gridcolor": "white",
            "gridwidth": 2,
            "linecolor": "white",
            "showbackground": true,
            "ticks": "",
            "zerolinecolor": "white"
           },
           "yaxis": {
            "backgroundcolor": "#E5ECF6",
            "gridcolor": "white",
            "gridwidth": 2,
            "linecolor": "white",
            "showbackground": true,
            "ticks": "",
            "zerolinecolor": "white"
           },
           "zaxis": {
            "backgroundcolor": "#E5ECF6",
            "gridcolor": "white",
            "gridwidth": 2,
            "linecolor": "white",
            "showbackground": true,
            "ticks": "",
            "zerolinecolor": "white"
           }
          },
          "shapedefaults": {
           "line": {
            "color": "#2a3f5f"
           }
          },
          "ternary": {
           "aaxis": {
            "gridcolor": "white",
            "linecolor": "white",
            "ticks": ""
           },
           "baxis": {
            "gridcolor": "white",
            "linecolor": "white",
            "ticks": ""
           },
           "bgcolor": "#E5ECF6",
           "caxis": {
            "gridcolor": "white",
            "linecolor": "white",
            "ticks": ""
           }
          },
          "title": {
           "x": 0.05
          },
          "xaxis": {
           "automargin": true,
           "gridcolor": "white",
           "linecolor": "white",
           "ticks": "",
           "title": {
            "standoff": 15
           },
           "zerolinecolor": "white",
           "zerolinewidth": 2
          },
          "yaxis": {
           "automargin": true,
           "gridcolor": "white",
           "linecolor": "white",
           "ticks": "",
           "title": {
            "standoff": 15
           },
           "zerolinecolor": "white",
           "zerolinewidth": 2
          }
         }
        },
        "title": {
         "text": "Calories per serving"
        },
        "xaxis": {
         "anchor": "y",
         "domain": [
          0,
          1
         ],
         "title": {
          "text": "x"
         }
        },
        "yaxis": {
         "anchor": "x",
         "domain": [
          0,
          1
         ],
         "range": [
          0,
          400
         ],
         "title": {
          "text": "y"
         }
        }
       }
      }
     },
     "metadata": {}
    }
   ],
   "source": [
    "fig = px.scatter(y=nutrition_df_filtered['calories_per_serving'], x=nutrition_df_filtered.index, title='Calories per serving')\n",
    "fig.update_layout(yaxis_range=[0,400])\n",
    "fig.show()"
   ]
  },
  {
   "cell_type": "code",
   "execution_count": 21,
   "metadata": {},
   "outputs": [
    {
     "output_type": "execute_result",
     "data": {
      "text/plain": [
       "Paul Hollywood    32\n",
       "Prue Leith        22\n",
       "Mary Berry        17\n",
       "Name: judge_fixed, dtype: int64"
      ]
     },
     "metadata": {},
     "execution_count": 21
    }
   ],
   "source": [
    "# drop if less than 50 cal per serving\n",
    "nutrition_df_filtered = nutrition_df_filtered[nutrition_df_filtered['calories_per_serving'] >= 50] \n",
    "nutrition_df_filtered['judge_fixed'].value_counts()"
   ]
  },
  {
   "cell_type": "code",
   "execution_count": 23,
   "metadata": {},
   "outputs": [
    {
     "output_type": "execute_result",
     "data": {
      "text/plain": [
       "      judge_fixed  calories_per_serving\n",
       "0      Prue Leith            307.090092\n",
       "1  Paul Hollywood            424.693456\n",
       "2      Mary Berry            287.002930"
      ],
      "text/html": "<div>\n<style scoped>\n    .dataframe tbody tr th:only-of-type {\n        vertical-align: middle;\n    }\n\n    .dataframe tbody tr th {\n        vertical-align: top;\n    }\n\n    .dataframe thead th {\n        text-align: right;\n    }\n</style>\n<table border=\"1\" class=\"dataframe\">\n  <thead>\n    <tr style=\"text-align: right;\">\n      <th></th>\n      <th>judge_fixed</th>\n      <th>calories_per_serving</th>\n    </tr>\n  </thead>\n  <tbody>\n    <tr>\n      <th>0</th>\n      <td>Prue Leith</td>\n      <td>307.090092</td>\n    </tr>\n    <tr>\n      <th>1</th>\n      <td>Paul Hollywood</td>\n      <td>424.693456</td>\n    </tr>\n    <tr>\n      <th>2</th>\n      <td>Mary Berry</td>\n      <td>287.002930</td>\n    </tr>\n  </tbody>\n</table>\n</div>"
     },
     "metadata": {},
     "execution_count": 23
    }
   ],
   "source": [
    "judges_avg_cal = nutrition_df_filtered.groupby([\"judge_fixed\"], sort = False)[\"calories_per_serving\"].mean().reset_index()\n",
    "judges_avg_cal"
   ]
  },
  {
   "cell_type": "code",
   "execution_count": 28,
   "metadata": {},
   "outputs": [
    {
     "output_type": "display_data",
     "data": {
      "application/vnd.plotly.v1+json": {
       "config": {
        "plotlyServerURL": "https://plot.ly"
       },
       "data": [
        {
         "alignmentgroup": "True",
         "hovertemplate": "x=%{x}<br>y=%{y}<extra></extra>",
         "legendgroup": "",
         "marker": {
          "color": "#636efa"
         },
         "name": "",
         "offsetgroup": "",
         "orientation": "v",
         "showlegend": false,
         "textposition": "auto",
         "type": "bar",
         "x": [
          "Prue Leith",
          "Paul Hollywood",
          "Mary Berry"
         ],
         "xaxis": "x",
         "y": [
          307.0900919913419,
          424.6934564827534,
          287.0029302070479
         ],
         "yaxis": "y"
        }
       ],
       "layout": {
        "barmode": "relative",
        "legend": {
         "tracegroupgap": 0
        },
        "template": {
         "data": {
          "bar": [
           {
            "error_x": {
             "color": "#2a3f5f"
            },
            "error_y": {
             "color": "#2a3f5f"
            },
            "marker": {
             "line": {
              "color": "#E5ECF6",
              "width": 0.5
             }
            },
            "type": "bar"
           }
          ],
          "barpolar": [
           {
            "marker": {
             "line": {
              "color": "#E5ECF6",
              "width": 0.5
             }
            },
            "type": "barpolar"
           }
          ],
          "carpet": [
           {
            "aaxis": {
             "endlinecolor": "#2a3f5f",
             "gridcolor": "white",
             "linecolor": "white",
             "minorgridcolor": "white",
             "startlinecolor": "#2a3f5f"
            },
            "baxis": {
             "endlinecolor": "#2a3f5f",
             "gridcolor": "white",
             "linecolor": "white",
             "minorgridcolor": "white",
             "startlinecolor": "#2a3f5f"
            },
            "type": "carpet"
           }
          ],
          "choropleth": [
           {
            "colorbar": {
             "outlinewidth": 0,
             "ticks": ""
            },
            "type": "choropleth"
           }
          ],
          "contour": [
           {
            "colorbar": {
             "outlinewidth": 0,
             "ticks": ""
            },
            "colorscale": [
             [
              0,
              "#0d0887"
             ],
             [
              0.1111111111111111,
              "#46039f"
             ],
             [
              0.2222222222222222,
              "#7201a8"
             ],
             [
              0.3333333333333333,
              "#9c179e"
             ],
             [
              0.4444444444444444,
              "#bd3786"
             ],
             [
              0.5555555555555556,
              "#d8576b"
             ],
             [
              0.6666666666666666,
              "#ed7953"
             ],
             [
              0.7777777777777778,
              "#fb9f3a"
             ],
             [
              0.8888888888888888,
              "#fdca26"
             ],
             [
              1,
              "#f0f921"
             ]
            ],
            "type": "contour"
           }
          ],
          "contourcarpet": [
           {
            "colorbar": {
             "outlinewidth": 0,
             "ticks": ""
            },
            "type": "contourcarpet"
           }
          ],
          "heatmap": [
           {
            "colorbar": {
             "outlinewidth": 0,
             "ticks": ""
            },
            "colorscale": [
             [
              0,
              "#0d0887"
             ],
             [
              0.1111111111111111,
              "#46039f"
             ],
             [
              0.2222222222222222,
              "#7201a8"
             ],
             [
              0.3333333333333333,
              "#9c179e"
             ],
             [
              0.4444444444444444,
              "#bd3786"
             ],
             [
              0.5555555555555556,
              "#d8576b"
             ],
             [
              0.6666666666666666,
              "#ed7953"
             ],
             [
              0.7777777777777778,
              "#fb9f3a"
             ],
             [
              0.8888888888888888,
              "#fdca26"
             ],
             [
              1,
              "#f0f921"
             ]
            ],
            "type": "heatmap"
           }
          ],
          "heatmapgl": [
           {
            "colorbar": {
             "outlinewidth": 0,
             "ticks": ""
            },
            "colorscale": [
             [
              0,
              "#0d0887"
             ],
             [
              0.1111111111111111,
              "#46039f"
             ],
             [
              0.2222222222222222,
              "#7201a8"
             ],
             [
              0.3333333333333333,
              "#9c179e"
             ],
             [
              0.4444444444444444,
              "#bd3786"
             ],
             [
              0.5555555555555556,
              "#d8576b"
             ],
             [
              0.6666666666666666,
              "#ed7953"
             ],
             [
              0.7777777777777778,
              "#fb9f3a"
             ],
             [
              0.8888888888888888,
              "#fdca26"
             ],
             [
              1,
              "#f0f921"
             ]
            ],
            "type": "heatmapgl"
           }
          ],
          "histogram": [
           {
            "marker": {
             "colorbar": {
              "outlinewidth": 0,
              "ticks": ""
             }
            },
            "type": "histogram"
           }
          ],
          "histogram2d": [
           {
            "colorbar": {
             "outlinewidth": 0,
             "ticks": ""
            },
            "colorscale": [
             [
              0,
              "#0d0887"
             ],
             [
              0.1111111111111111,
              "#46039f"
             ],
             [
              0.2222222222222222,
              "#7201a8"
             ],
             [
              0.3333333333333333,
              "#9c179e"
             ],
             [
              0.4444444444444444,
              "#bd3786"
             ],
             [
              0.5555555555555556,
              "#d8576b"
             ],
             [
              0.6666666666666666,
              "#ed7953"
             ],
             [
              0.7777777777777778,
              "#fb9f3a"
             ],
             [
              0.8888888888888888,
              "#fdca26"
             ],
             [
              1,
              "#f0f921"
             ]
            ],
            "type": "histogram2d"
           }
          ],
          "histogram2dcontour": [
           {
            "colorbar": {
             "outlinewidth": 0,
             "ticks": ""
            },
            "colorscale": [
             [
              0,
              "#0d0887"
             ],
             [
              0.1111111111111111,
              "#46039f"
             ],
             [
              0.2222222222222222,
              "#7201a8"
             ],
             [
              0.3333333333333333,
              "#9c179e"
             ],
             [
              0.4444444444444444,
              "#bd3786"
             ],
             [
              0.5555555555555556,
              "#d8576b"
             ],
             [
              0.6666666666666666,
              "#ed7953"
             ],
             [
              0.7777777777777778,
              "#fb9f3a"
             ],
             [
              0.8888888888888888,
              "#fdca26"
             ],
             [
              1,
              "#f0f921"
             ]
            ],
            "type": "histogram2dcontour"
           }
          ],
          "mesh3d": [
           {
            "colorbar": {
             "outlinewidth": 0,
             "ticks": ""
            },
            "type": "mesh3d"
           }
          ],
          "parcoords": [
           {
            "line": {
             "colorbar": {
              "outlinewidth": 0,
              "ticks": ""
             }
            },
            "type": "parcoords"
           }
          ],
          "pie": [
           {
            "automargin": true,
            "type": "pie"
           }
          ],
          "scatter": [
           {
            "marker": {
             "colorbar": {
              "outlinewidth": 0,
              "ticks": ""
             }
            },
            "type": "scatter"
           }
          ],
          "scatter3d": [
           {
            "line": {
             "colorbar": {
              "outlinewidth": 0,
              "ticks": ""
             }
            },
            "marker": {
             "colorbar": {
              "outlinewidth": 0,
              "ticks": ""
             }
            },
            "type": "scatter3d"
           }
          ],
          "scattercarpet": [
           {
            "marker": {
             "colorbar": {
              "outlinewidth": 0,
              "ticks": ""
             }
            },
            "type": "scattercarpet"
           }
          ],
          "scattergeo": [
           {
            "marker": {
             "colorbar": {
              "outlinewidth": 0,
              "ticks": ""
             }
            },
            "type": "scattergeo"
           }
          ],
          "scattergl": [
           {
            "marker": {
             "colorbar": {
              "outlinewidth": 0,
              "ticks": ""
             }
            },
            "type": "scattergl"
           }
          ],
          "scattermapbox": [
           {
            "marker": {
             "colorbar": {
              "outlinewidth": 0,
              "ticks": ""
             }
            },
            "type": "scattermapbox"
           }
          ],
          "scatterpolar": [
           {
            "marker": {
             "colorbar": {
              "outlinewidth": 0,
              "ticks": ""
             }
            },
            "type": "scatterpolar"
           }
          ],
          "scatterpolargl": [
           {
            "marker": {
             "colorbar": {
              "outlinewidth": 0,
              "ticks": ""
             }
            },
            "type": "scatterpolargl"
           }
          ],
          "scatterternary": [
           {
            "marker": {
             "colorbar": {
              "outlinewidth": 0,
              "ticks": ""
             }
            },
            "type": "scatterternary"
           }
          ],
          "surface": [
           {
            "colorbar": {
             "outlinewidth": 0,
             "ticks": ""
            },
            "colorscale": [
             [
              0,
              "#0d0887"
             ],
             [
              0.1111111111111111,
              "#46039f"
             ],
             [
              0.2222222222222222,
              "#7201a8"
             ],
             [
              0.3333333333333333,
              "#9c179e"
             ],
             [
              0.4444444444444444,
              "#bd3786"
             ],
             [
              0.5555555555555556,
              "#d8576b"
             ],
             [
              0.6666666666666666,
              "#ed7953"
             ],
             [
              0.7777777777777778,
              "#fb9f3a"
             ],
             [
              0.8888888888888888,
              "#fdca26"
             ],
             [
              1,
              "#f0f921"
             ]
            ],
            "type": "surface"
           }
          ],
          "table": [
           {
            "cells": {
             "fill": {
              "color": "#EBF0F8"
             },
             "line": {
              "color": "white"
             }
            },
            "header": {
             "fill": {
              "color": "#C8D4E3"
             },
             "line": {
              "color": "white"
             }
            },
            "type": "table"
           }
          ]
         },
         "layout": {
          "annotationdefaults": {
           "arrowcolor": "#2a3f5f",
           "arrowhead": 0,
           "arrowwidth": 1
          },
          "autotypenumbers": "strict",
          "coloraxis": {
           "colorbar": {
            "outlinewidth": 0,
            "ticks": ""
           }
          },
          "colorscale": {
           "diverging": [
            [
             0,
             "#8e0152"
            ],
            [
             0.1,
             "#c51b7d"
            ],
            [
             0.2,
             "#de77ae"
            ],
            [
             0.3,
             "#f1b6da"
            ],
            [
             0.4,
             "#fde0ef"
            ],
            [
             0.5,
             "#f7f7f7"
            ],
            [
             0.6,
             "#e6f5d0"
            ],
            [
             0.7,
             "#b8e186"
            ],
            [
             0.8,
             "#7fbc41"
            ],
            [
             0.9,
             "#4d9221"
            ],
            [
             1,
             "#276419"
            ]
           ],
           "sequential": [
            [
             0,
             "#0d0887"
            ],
            [
             0.1111111111111111,
             "#46039f"
            ],
            [
             0.2222222222222222,
             "#7201a8"
            ],
            [
             0.3333333333333333,
             "#9c179e"
            ],
            [
             0.4444444444444444,
             "#bd3786"
            ],
            [
             0.5555555555555556,
             "#d8576b"
            ],
            [
             0.6666666666666666,
             "#ed7953"
            ],
            [
             0.7777777777777778,
             "#fb9f3a"
            ],
            [
             0.8888888888888888,
             "#fdca26"
            ],
            [
             1,
             "#f0f921"
            ]
           ],
           "sequentialminus": [
            [
             0,
             "#0d0887"
            ],
            [
             0.1111111111111111,
             "#46039f"
            ],
            [
             0.2222222222222222,
             "#7201a8"
            ],
            [
             0.3333333333333333,
             "#9c179e"
            ],
            [
             0.4444444444444444,
             "#bd3786"
            ],
            [
             0.5555555555555556,
             "#d8576b"
            ],
            [
             0.6666666666666666,
             "#ed7953"
            ],
            [
             0.7777777777777778,
             "#fb9f3a"
            ],
            [
             0.8888888888888888,
             "#fdca26"
            ],
            [
             1,
             "#f0f921"
            ]
           ]
          },
          "colorway": [
           "#636efa",
           "#EF553B",
           "#00cc96",
           "#ab63fa",
           "#FFA15A",
           "#19d3f3",
           "#FF6692",
           "#B6E880",
           "#FF97FF",
           "#FECB52"
          ],
          "font": {
           "color": "#2a3f5f"
          },
          "geo": {
           "bgcolor": "white",
           "lakecolor": "white",
           "landcolor": "#E5ECF6",
           "showlakes": true,
           "showland": true,
           "subunitcolor": "white"
          },
          "hoverlabel": {
           "align": "left"
          },
          "hovermode": "closest",
          "mapbox": {
           "style": "light"
          },
          "paper_bgcolor": "white",
          "plot_bgcolor": "#E5ECF6",
          "polar": {
           "angularaxis": {
            "gridcolor": "white",
            "linecolor": "white",
            "ticks": ""
           },
           "bgcolor": "#E5ECF6",
           "radialaxis": {
            "gridcolor": "white",
            "linecolor": "white",
            "ticks": ""
           }
          },
          "scene": {
           "xaxis": {
            "backgroundcolor": "#E5ECF6",
            "gridcolor": "white",
            "gridwidth": 2,
            "linecolor": "white",
            "showbackground": true,
            "ticks": "",
            "zerolinecolor": "white"
           },
           "yaxis": {
            "backgroundcolor": "#E5ECF6",
            "gridcolor": "white",
            "gridwidth": 2,
            "linecolor": "white",
            "showbackground": true,
            "ticks": "",
            "zerolinecolor": "white"
           },
           "zaxis": {
            "backgroundcolor": "#E5ECF6",
            "gridcolor": "white",
            "gridwidth": 2,
            "linecolor": "white",
            "showbackground": true,
            "ticks": "",
            "zerolinecolor": "white"
           }
          },
          "shapedefaults": {
           "line": {
            "color": "#2a3f5f"
           }
          },
          "ternary": {
           "aaxis": {
            "gridcolor": "white",
            "linecolor": "white",
            "ticks": ""
           },
           "baxis": {
            "gridcolor": "white",
            "linecolor": "white",
            "ticks": ""
           },
           "bgcolor": "#E5ECF6",
           "caxis": {
            "gridcolor": "white",
            "linecolor": "white",
            "ticks": ""
           }
          },
          "title": {
           "x": 0.05
          },
          "xaxis": {
           "automargin": true,
           "gridcolor": "white",
           "linecolor": "white",
           "ticks": "",
           "title": {
            "standoff": 15
           },
           "zerolinecolor": "white",
           "zerolinewidth": 2
          },
          "yaxis": {
           "automargin": true,
           "gridcolor": "white",
           "linecolor": "white",
           "ticks": "",
           "title": {
            "standoff": 15
           },
           "zerolinecolor": "white",
           "zerolinewidth": 2
          }
         }
        },
        "title": {
         "text": "Judges Average Calories per Serving"
        },
        "xaxis": {
         "anchor": "y",
         "domain": [
          0,
          1
         ],
         "title": {
          "text": "Judge"
         }
        },
        "yaxis": {
         "anchor": "x",
         "domain": [
          0,
          1
         ],
         "range": [
          0,
          500
         ],
         "title": {
          "text": "Average Calories per Serving"
         }
        }
       }
      }
     },
     "metadata": {}
    }
   ],
   "source": [
    "fig = px.bar(y=judges_avg_cal['calories_per_serving'], x=judges_avg_cal['judge_fixed'], title='Judges Average Calories per Serving')\n",
    "fig.update_layout(yaxis_range=[0,500])\n",
    "fig.update_layout(\n",
    "    yaxis_title=\"Average Calories per Serving\"\n",
    ")  \n",
    "fig.update_layout(\n",
    "    xaxis_title=\"Judge\"\n",
    ")  \n",
    "fig.show()"
   ]
  },
  {
   "cell_type": "code",
   "execution_count": 30,
   "metadata": {},
   "outputs": [
    {
     "output_type": "execute_result",
     "data": {
      "text/plain": [
       "          Column1      makes     calories  cholesterol         fat  \\\n",
       "count   71.000000  71.000000    71.000000    71.000000   71.000000   \n",
       "mean    77.507042   9.140845  2901.665070    58.171831   38.291972   \n",
       "std     33.258242   3.364927  2010.287584   133.370024   57.746050   \n",
       "min     15.000000   4.000000   242.950000     0.000000    0.000000   \n",
       "25%     56.500000   6.000000  1382.050000     0.000000    2.750000   \n",
       "50%     84.000000   9.000000  2510.750000     0.000000   11.960000   \n",
       "75%    106.500000  12.000000  3969.150000    49.200000   49.895000   \n",
       "max    127.000000  20.000000  8061.100000   849.000000  307.350000   \n",
       "\n",
       "          protein       sugar  calories_per_serving  \n",
       "count   71.000000   71.000000             71.000000  \n",
       "mean    24.055775   84.972535            355.284823  \n",
       "std     27.317179  112.620332            281.807065  \n",
       "min      0.000000    0.000000             50.250000  \n",
       "25%      6.525000    5.945000            154.656250  \n",
       "50%     18.200000   43.210000            242.485000  \n",
       "75%     31.445000  115.280000            448.866667  \n",
       "max    162.080000  471.300000           1297.916667  "
      ],
      "text/html": "<div>\n<style scoped>\n    .dataframe tbody tr th:only-of-type {\n        vertical-align: middle;\n    }\n\n    .dataframe tbody tr th {\n        vertical-align: top;\n    }\n\n    .dataframe thead th {\n        text-align: right;\n    }\n</style>\n<table border=\"1\" class=\"dataframe\">\n  <thead>\n    <tr style=\"text-align: right;\">\n      <th></th>\n      <th>Column1</th>\n      <th>makes</th>\n      <th>calories</th>\n      <th>cholesterol</th>\n      <th>fat</th>\n      <th>protein</th>\n      <th>sugar</th>\n      <th>calories_per_serving</th>\n    </tr>\n  </thead>\n  <tbody>\n    <tr>\n      <th>count</th>\n      <td>71.000000</td>\n      <td>71.000000</td>\n      <td>71.000000</td>\n      <td>71.000000</td>\n      <td>71.000000</td>\n      <td>71.000000</td>\n      <td>71.000000</td>\n      <td>71.000000</td>\n    </tr>\n    <tr>\n      <th>mean</th>\n      <td>77.507042</td>\n      <td>9.140845</td>\n      <td>2901.665070</td>\n      <td>58.171831</td>\n      <td>38.291972</td>\n      <td>24.055775</td>\n      <td>84.972535</td>\n      <td>355.284823</td>\n    </tr>\n    <tr>\n      <th>std</th>\n      <td>33.258242</td>\n      <td>3.364927</td>\n      <td>2010.287584</td>\n      <td>133.370024</td>\n      <td>57.746050</td>\n      <td>27.317179</td>\n      <td>112.620332</td>\n      <td>281.807065</td>\n    </tr>\n    <tr>\n      <th>min</th>\n      <td>15.000000</td>\n      <td>4.000000</td>\n      <td>242.950000</td>\n      <td>0.000000</td>\n      <td>0.000000</td>\n      <td>0.000000</td>\n      <td>0.000000</td>\n      <td>50.250000</td>\n    </tr>\n    <tr>\n      <th>25%</th>\n      <td>56.500000</td>\n      <td>6.000000</td>\n      <td>1382.050000</td>\n      <td>0.000000</td>\n      <td>2.750000</td>\n      <td>6.525000</td>\n      <td>5.945000</td>\n      <td>154.656250</td>\n    </tr>\n    <tr>\n      <th>50%</th>\n      <td>84.000000</td>\n      <td>9.000000</td>\n      <td>2510.750000</td>\n      <td>0.000000</td>\n      <td>11.960000</td>\n      <td>18.200000</td>\n      <td>43.210000</td>\n      <td>242.485000</td>\n    </tr>\n    <tr>\n      <th>75%</th>\n      <td>106.500000</td>\n      <td>12.000000</td>\n      <td>3969.150000</td>\n      <td>49.200000</td>\n      <td>49.895000</td>\n      <td>31.445000</td>\n      <td>115.280000</td>\n      <td>448.866667</td>\n    </tr>\n    <tr>\n      <th>max</th>\n      <td>127.000000</td>\n      <td>20.000000</td>\n      <td>8061.100000</td>\n      <td>849.000000</td>\n      <td>307.350000</td>\n      <td>162.080000</td>\n      <td>471.300000</td>\n      <td>1297.916667</td>\n    </tr>\n  </tbody>\n</table>\n</div>"
     },
     "metadata": {},
     "execution_count": 30
    }
   ],
   "source": [
    "nutrition_df_filtered.describe()"
   ]
  },
  {
   "cell_type": "code",
   "execution_count": null,
   "metadata": {},
   "outputs": [],
   "source": []
  }
 ]
}