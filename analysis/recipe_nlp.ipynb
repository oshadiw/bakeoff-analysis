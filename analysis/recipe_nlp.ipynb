{
 "metadata": {
  "language_info": {
   "codemirror_mode": {
    "name": "ipython",
    "version": 3
   },
   "file_extension": ".py",
   "mimetype": "text/x-python",
   "name": "python",
   "nbconvert_exporter": "python",
   "pygments_lexer": "ipython3",
   "version": "3.7.7-final"
  },
  "orig_nbformat": 2,
  "kernelspec": {
   "name": "pythondata",
   "display_name": "PythonData",
   "language": "python"
  }
 },
 "nbformat": 4,
 "nbformat_minor": 2,
 "cells": [
  {
   "source": [
    "# NLP and Nutition Information\n",
    "This notebook is used to get nutrition information such as Fat, Calories, Sugar, Carbohydrates, and Protein."
   ],
   "cell_type": "markdown",
   "metadata": {}
  },
  {
   "source": [
    "# import dependencies\n",
    "import pandas as pd\n",
    "import numpy as np\n",
    "import re\n",
    "from re import search\n",
    "from fractions import Fraction\n",
    "\n",
    "# import dependencies\n",
    "import requests\n",
    "import json\n",
    "\n",
    "# import API key\n",
    "from config import API_KEY"
   ],
   "cell_type": "code",
   "metadata": {},
   "execution_count": 1,
   "outputs": []
  },
  {
   "cell_type": "code",
   "execution_count": 48,
   "metadata": {},
   "outputs": [
    {
     "output_type": "execute_result",
     "data": {
      "text/plain": [
       "<bound method NDFrame.head of                                                  title           judge  \\\n",
       "0                   Rav Gill’s Macaron Snack-Cessories    Ravneet Gill   \n",
       "1    Liam Charles’s Biscuit Card Tower & Deck of Cards    Liam Charles   \n",
       "2                 Rav Gill’s Cherry & Almond Deco Roll    Ravneet Gill   \n",
       "3               Liam Charles’s Yorkshire Pudding Wraps    Liam Charles   \n",
       "4          Rav Gill’s Churros with Banana Butterscotch    Ravneet Gill   \n",
       "..                                                 ...             ...   \n",
       "124                    Mary Berry’s Hazelnut Dacquoise  Paul Hollywood   \n",
       "125                           Mary Berry’s Religieuses  Paul Hollywood   \n",
       "126                  Paul Hollywood’s Apricot Couronne  Paul Hollywood   \n",
       "127          Mary Berry’s Tuiles with Chocolate Mousse  Paul Hollywood   \n",
       "128                      Mary Berry’s Charlotte Royale  Paul Hollywood   \n",
       "\n",
       "            makes              difficulty hands_on_time baking_time  \\\n",
       "0               8             Needs skill       50 mins     30 mins   \n",
       "1              12             Needs skill       45 mins     15 mins   \n",
       "2               6             Needs skill       50 mins     10 mins   \n",
       "3               2             Needs skill       25 mins     30 mins   \n",
       "4               6             Needs skill       30 mins     25 mins   \n",
       "..            ...                     ...           ...         ...   \n",
       "124            12  30 mins, plus chilling    25–30 mins     18 mins   \n",
       "125             8  30 mins, plus chilling    25–30 mins     18 mins   \n",
       "126  1 large loaf  30 mins, plus chilling    25–30 mins     18 mins   \n",
       "127             8  30 mins, plus chilling    25–30 mins     18 mins   \n",
       "128         10-12  30 mins, plus chilling    25–30 mins     18 mins   \n",
       "\n",
       "                                           ingredients  \\\n",
       "0    [<h5>For the macarons:</h5>, <p>150g ground al...   \n",
       "1    [<h5>For the gingerbread:</h5>, <p>225g plain ...   \n",
       "2    [<h5>For the filling:</h5>, <p>2 tsp powdered ...   \n",
       "3    [<h5>For the batter:</h5>, <p>100g plain flour...   \n",
       "4    [<h5>For the churros:</h5>, <p>20g caster suga...   \n",
       "..                                                 ...   \n",
       "124  [<h5>For the dacquoise:</h5>, <p>250g blanched...   \n",
       "125  [<h5>For the choux pastry:</h5>, <p>60g unsalt...   \n",
       "126  [<h5>For the dough:</h5>, <p>250g strong white...   \n",
       "127  [<h5>For the tuiles:</h5>, <p>200g unsalted bu...   \n",
       "128  [<h5>For the jam:</h5>, <p>400g strawberries, ...   \n",
       "\n",
       "                                          recipe_image  \\\n",
       "0    https://thegreatbritishbakeoff.co.uk/wp-conten...   \n",
       "1    https://thegreatbritishbakeoff.co.uk/wp-conten...   \n",
       "2    https://thegreatbritishbakeoff.co.uk/wp-conten...   \n",
       "3    https://thegreatbritishbakeoff.co.uk/wp-conten...   \n",
       "4    https://thegreatbritishbakeoff.co.uk/wp-conten...   \n",
       "..                                                 ...   \n",
       "124  https://thegreatbritishbakeoff.co.uk/wp-conten...   \n",
       "125  https://thegreatbritishbakeoff.co.uk/wp-conten...   \n",
       "126  https://thegreatbritishbakeoff.co.uk/wp-conten...   \n",
       "127  https://thegreatbritishbakeoff.co.uk/wp-conten...   \n",
       "128  https://thegreatbritishbakeoff.co.uk/wp-conten...   \n",
       "\n",
       "                                           judge_image  \n",
       "0    https://thegreatbritishbakeoff.co.uk/wp-conten...  \n",
       "1    https://thegreatbritishbakeoff.co.uk/wp-conten...  \n",
       "2    https://thegreatbritishbakeoff.co.uk/wp-conten...  \n",
       "3    https://thegreatbritishbakeoff.co.uk/wp-conten...  \n",
       "4    https://thegreatbritishbakeoff.co.uk/wp-conten...  \n",
       "..                                                 ...  \n",
       "124  https://thegreatbritishbakeoff.co.uk/wp-conten...  \n",
       "125  https://thegreatbritishbakeoff.co.uk/wp-conten...  \n",
       "126  https://thegreatbritishbakeoff.co.uk/wp-conten...  \n",
       "127  https://thegreatbritishbakeoff.co.uk/wp-conten...  \n",
       "128  https://thegreatbritishbakeoff.co.uk/wp-conten...  \n",
       "\n",
       "[129 rows x 9 columns]>"
      ]
     },
     "metadata": {},
     "execution_count": 48
    }
   ],
   "source": [
    "# import the raw csv\n",
    "recipes_df_raw = pd.read_csv('../static/data/technical_list.csv', encoding=\"utf-8\")\n",
    "recipes_df = recipes_df_raw.copy()\n",
    "recipes_df_raw.head"
   ]
  },
  {
   "cell_type": "code",
   "execution_count": 3,
   "metadata": {},
   "outputs": [],
   "source": [
    "# Formats for ingredients\n",
    "# 1g unsalted butter\n",
    "# 1 tsp vanilla extract\n",
    "# slivered pistachios\n",
    "# 2 large eggs\n",
    "# 2 dill pickles, quartered lengthways\n",
    "# juice of 1/2 lemon\n",
    "\n",
    "def split_ingredient(ingredient):\n",
    "    '''\n",
    "    The split_ingredients funcion takes an ingredient in a string format i.e. 10g sugar. The function then splits the ingredient into quantity, measurement, and any comments like temperature, or preparation.\n",
    "    '''\n",
    "    # create variable defaults\n",
    "    comment = 'na'\n",
    "    quantity = '0'\n",
    "    measurement = 'na'\n",
    "    item = 'na'\n",
    "\n",
    "    # if the ingredient contains a comment\n",
    "    if ',' in ingredient:\n",
    "        comment = ingredient.split(',')[1]\n",
    "        ingredient = ingredient.split(',')[0]\n",
    "\n",
    "    # if measurement is weight or volume (works for g or ml)\n",
    "    elif re.match('^\\d+[a-zA-Z]',ingredient) is not None:\n",
    "        quantity = re.findall('\\d+', ingredient)[0]\n",
    "        measurement = re.findall('^\\d+([a-zA-Z]+) ', ingredient)[0]\n",
    "        item = re.findall('\\d+[a-zA-Z]+ (.*)', ingredient)[0]\n",
    "\n",
    "    # if ingredient is eggs\n",
    "    elif 'egg' in ingredient:\n",
    "        quantity = re.findall('\\d+', ingredient)[0]\n",
    "        measurement = re.findall('\\d+(.*) ', ingredient)[0]\n",
    "        item = 'egg'\n",
    "\n",
    "    # Juice of\n",
    "    elif 'juice of' in ingredient:\n",
    "        item = re.findall('juice of [^a-z]+([a-z ]+)', ingredient, re.IGNORECASE)[0]\n",
    "        if 'zest' in ingredient:\n",
    "            comment = 'juice and zest'\n",
    "        else:\n",
    "            comment = 'juice'\n",
    "        if re.findall('[0-9]+', ingredient) is not None:\n",
    "            quantity = re.findall('[0-9]+', ingredient)[0]\n",
    "        else:\n",
    "            quantity = '1'\n",
    "\n",
    "\n",
    "    # if ingredient uses tsp or tbsp\n",
    "    elif 'tbsp' in ingredient: \n",
    "        try:\n",
    "            quantity = re.findall('^([0-9]+/*[0-9]*)', ingredient)[0]\n",
    "        except IndexError:\n",
    "            quantity = \"0.5\"\n",
    "        measurement = 'tbsp'\n",
    "        item = re.findall('tbsp (.*)', ingredient)[0]\n",
    "\n",
    "    elif 'tsp' in ingredient:\n",
    "        try:\n",
    "            quantity = re.findall('^([0-9]+/*[0-9]*)', ingredient)[0]\n",
    "        except IndexError:\n",
    "            quantity = \"0.5\"\n",
    "        measurement = 'tsp'\n",
    "        item = re.findall('tsp (.*)', ingredient)[0]\n",
    "    \n",
    "    # if it just a number and ingredient (2 pickles)\n",
    "    elif re.match('^[0-9]+/*[0-9]* ', ingredient) is not None:\n",
    "        quantity = re.findall('^([0-9]+/*[0-9]*)', ingredient)[0]\n",
    "        measurement = \"whole\"\n",
    "        item = re.findall('^[0-9]+/*[0-9]* (.*)', ingredient)[0]\n",
    "    \n",
    "    # a pinch of something\n",
    "    elif search('pinch', ingredient) is not None:\n",
    "        measurement = re.findall('(.*pinch)', ingredient)[0]\n",
    "        item = re.findall('.*pinch of (.*)', ingredient)[0]\n",
    "        if re.match('^[0-9]', ingredient) is not None:\n",
    "            quantity = re.findall('^([0-9])', ingredient)[0]\n",
    "\n",
    "    # Other\n",
    "    else:\n",
    "        comment = \"Could not parse ingredient\"\n",
    "        # format into dict\n",
    "        ingredient_list_split = {'quantity':quantity, 'measurement':measurement, 'ingredient':item,'comment':comment}\n",
    "        return ingredient_list_split\n",
    "\n",
    "    # make sure the quantity is the right data type\n",
    "    if '/' in quantity:\n",
    "        quantity = Fraction(quantity)\n",
    "    \n",
    "    # format into dict\n",
    "    ingredient_list_split = {'quantity':float(quantity), 'measurement':measurement, 'ingredient':item, 'comment':comment}\n",
    "    \n",
    "    return ingredient_list_split"
   ]
  },
  {
   "cell_type": "code",
   "execution_count": 4,
   "metadata": {},
   "outputs": [],
   "source": [
    "def seperate_ingredients(ingredient_string):\n",
    "    '''\n",
    "    The seperate_ingredients funcion takes an ingredient list with each ingredient inside a <p></p> tag and returns a list containing all the ingredients in a string format.\n",
    "    '''\n",
    "    ingredient_list = re.findall('<p>(.*?)</p>', ingredient_string)\n",
    "    \n",
    "    return ingredient_list"
   ]
  },
  {
   "cell_type": "code",
   "execution_count": 5,
   "metadata": {},
   "outputs": [
    {
     "output_type": "stream",
     "name": "stdout",
     "text": [
      "{'quantity': 0.5, 'measurement': 'whole', 'ingredient': 'lime', 'comment': 'na'}\n"
     ]
    }
   ],
   "source": [
    "# test of the split ingredient function\n",
    "test_ingredient = '1/2 lime'\n",
    "test_ingredient_split = (split_ingredient(test_ingredient))\n",
    "test_item = test_ingredient_split['ingredient']\n",
    "print(test_ingredient_split)"
   ]
  },
  {
   "source": [
    "# Nutrtion API\n",
    "The API used is the Food Data Central Nutrition API from the FDA. "
   ],
   "cell_type": "markdown",
   "metadata": {}
  },
  {
   "cell_type": "code",
   "execution_count": 6,
   "metadata": {},
   "outputs": [],
   "source": [
    "def get_fdcid (food_item, api_key = \"DEMO_KEY\"):\n",
    "    '''\n",
    "    Pass in a string of the ingredient requested (i.e. \"whole milk\") and the API key (defaults to the API demo key). The function then returns the fdcid of the ingredient by using the foods/search endpoint. The function uses the Foundation data type and select the first item found. \n",
    "    '''\n",
    "\n",
    "    # create base URL\n",
    "    search_request_url = 'https://api.nal.usda.gov/fdc/v1/search?api_key='\n",
    "\n",
    "    # make call\n",
    "    response = requests.get(f'{search_request_url}{api_key}&query={food_item}&datatype=Foundation')\n",
    "\n",
    "    # parse the returned JSON\n",
    "    parsed = response.json()\n",
    "\n",
    "    # Select first fdcId\n",
    "    fdcId = parsed['foods'][0]['fdcId']\n",
    "\n",
    "    return(fdcId)\n"
   ]
  },
  {
   "cell_type": "code",
   "execution_count": 7,
   "metadata": {},
   "outputs": [],
   "source": [
    "def get_macros(item_fdcid, api_key = \"DEMO_KEY\"):\n",
    "    '''\n",
    "    This function takes in an fdcid and an API key (defaults to the API demo key) and returns the key macro nutrients for the item. These macros are fat, protein, energy, cholesterol, and sugars.\n",
    "    '''\n",
    "\n",
    "    # create the url base\n",
    "    requested_nutr_url = f'https://api.nal.usda.gov/fdc/v1/food/'\n",
    "\n",
    "    # make call\n",
    "    response = requests.get(f'{requested_nutr_url}{item_fdcid}?api_key={api_key}')\n",
    "\n",
    "    # parse the returned json\n",
    "    parsed_nutr = response.json()\n",
    "\n",
    "    # select the nutrients you'd like\n",
    "    nutrients = ['Total lipid (fat)', 'Protein', 'Energy' , 'Cholesterol', 'Sugars, total including NLEA']\n",
    "    nutr_return = {'Total lipid (fat)': 0.0, 'Protein': 0.0, 'Energy': 0.0, 'Cholesterol': 0.0, 'Sugars, total including NLEA': 0.0}\n",
    "\n",
    "    # get the serving size\n",
    "    #nutr_return['Serving Size'] = parsed_nutr['servingSize']\n",
    "    #nutr_return['Serving Size Unit'] = parsed_nutr['servingSizeUnit']\n",
    "\n",
    "    # parse the JSON for the nutrients and append them to the dict\n",
    "    for nutrient in nutrients:\n",
    "        for nutr in parsed_nutr['foodNutrients']:\n",
    "            if nutr['nutrient']['name'] == nutrient:\n",
    "                nutr_return[nutrient] = nutr['amount']\n",
    "        \n",
    "\n",
    "    return (nutr_return)"
   ]
  },
  {
   "cell_type": "code",
   "execution_count": 58,
   "metadata": {},
   "outputs": [],
   "source": [
    "def get_macro_total(ing_list, api_key = \"DEMO_KEY\"):\n",
    "\n",
    "    # seperate the ingredients on the p tag\n",
    "    ingredient_list = seperate_ingredients(ing_list)\n",
    "\n",
    "    # for each ingredient split it using nlp\n",
    "    ingredients = []\n",
    "    for ingredient in ingredient_list:\n",
    "            ingredients.append(split_ingredient(ingredient))\n",
    "\n",
    "    #for each ingredient, get the nutrition information and add to total\n",
    "    nutrition_totals = {'Total lipid (fat)': 0.0, 'Protein': 0.0, 'Calories': 0.0, 'Cholesterol': 0.0, 'Sugars, total including NLEA': 0.0}\n",
    "\n",
    "    ingredients_not_included = []\n",
    "\n",
    "    for ingredient_to_exam in ingredients:\n",
    "        # set default values\n",
    "        fat = 0\n",
    "        protein = 0\n",
    "        calories = 0\n",
    "        cholesterol = 0\n",
    "        sugar = 0\n",
    "        macros = {}\n",
    "\n",
    "        try:\n",
    "            macros = get_macros(get_fdcid(ingredient_to_exam['ingredient'], api_key), api_key)\n",
    "        except:\n",
    "            ingredients_not_included.append(ingredient_to_exam)\n",
    "        \n",
    "        # use the macros that have a measurement in ml or g\n",
    "        if any(macros):\n",
    "            if (ingredient_to_exam['measurement'] == 'g' or ingredient_to_exam['measurement'] == 'ml'):\n",
    "                quantity = float(ingredient_to_exam['quantity'])  \n",
    "                fat = (macros['Total lipid (fat)'] * quantity)/100\n",
    "                protein = (macros['Protein'] * quantity)/100\n",
    "                calories = (macros['Energy'] * quantity)/100\n",
    "                cholesterol = (macros['Cholesterol'] * quantity)/100\n",
    "                sugar = (macros['Sugars, total including NLEA'] * quantity)/100\n",
    "        \n",
    "        nutrition_totals['Total lipid (fat)'] += round(fat,2)\n",
    "        nutrition_totals['Protein'] += round(protein,2)\n",
    "        nutrition_totals['Calories'] += round(calories,2)\n",
    "        nutrition_totals['Cholesterol'] += round(cholesterol,2)\n",
    "        nutrition_totals['Sugars, total including NLEA'] += round(sugar,2)\n",
    "        \n",
    "    # nutrition_totals['Unused Ingredients'] = str(ingredients_not_included)\n",
    "\n",
    "    return(nutrition_totals)"
   ]
  },
  {
   "cell_type": "code",
   "execution_count": 59,
   "metadata": {},
   "outputs": [],
   "source": [
    "# add new columns for the nutrients\n",
    "df_headers = ['title', 'judge', 'makes', 'difficulty', 'hands_on_time', 'baking_time', 'ingredients', 'recipe_image', 'judge_image', 'calories', 'cholesterol', 'fat', 'protein', 'sugar']\n",
    "\n",
    "recipes_df = recipes_df.reindex(columns = df_headers) "
   ]
  },
  {
   "cell_type": "code",
   "execution_count": 67,
   "metadata": {},
   "outputs": [],
   "source": [
    "# test for one recipe\n",
    "nutr_test_dict = get_macro_total(recipes_df['ingredients'][68], API_KEY)\n",
    "\n",
    "recipes_df.at[68,'calories'] = nutr_test_dict['Calories']\n",
    "recipes_df.at[68,'cholesterol'] = nutr_test_dict['Cholesterol']\n",
    "recipes_df.at[68,'fat'] = nutr_test_dict['Total lipid (fat)']\n",
    "recipes_df.at[68,'protein'] = nutr_test_dict['Protein']\n",
    "recipes_df.at[68,'sugar'] = nutr_test_dict['Sugars, total including NLEA']"
   ]
  },
  {
   "cell_type": "code",
   "execution_count": 55,
   "metadata": {},
   "outputs": [],
   "source": [
    "recipes_df.at[55,'calories'] = nutr_test_dict['Calories']\n",
    "recipes_df.at[55,'cholesterol'] = nutr_test_dict['Cholesterol']\n",
    "recipes_df.at[55,'fat'] = nutr_test_dict['Total lipid (fat)']\n",
    "recipes_df.at[55,'protein'] = nutr_test_dict['Protein']\n",
    "recipes_df.at[55,'sugar'] = nutr_test_dict['Sugars, total including NLEA']\n",
    "#recipes_df.at[55,'unused_ingredients'] = str(nutr_test_dict['Unused Ingredients'])"
   ]
  },
  {
   "cell_type": "code",
   "execution_count": 92,
   "metadata": {},
   "outputs": [],
   "source": [
    "# iterate through the df and add values for the totals\n",
    "for i in range(123,len(recipes_df.index)):\n",
    "    nutr_dict = get_macro_total(recipes_df['ingredients'][i], API_KEY)\n",
    "    recipes_df.at[i,'calories'] = nutr_dict['Calories']\n",
    "    recipes_df.at[i,'cholesterol'] = nutr_dict['Cholesterol']\n",
    "    recipes_df.at[i,'fat'] = nutr_dict['Total lipid (fat)']\n",
    "    recipes_df.at[i,'protein'] = nutr_dict['Protein']\n",
    "    recipes_df.at[i,'sugar'] = nutr_dict['Sugars, total including NLEA']\n",
    "    "
   ]
  },
  {
   "cell_type": "code",
   "execution_count": 93,
   "metadata": {},
   "outputs": [],
   "source": [
    "recipes_df.to_csv('nutr_test.csv')"
   ]
  },
  {
   "cell_type": "code",
   "execution_count": 71,
   "metadata": {},
   "outputs": [],
   "source": [
    "# create base URL\n",
    "search_request_url = 'https://api.nal.usda.gov/fdc/v1/search?api_key='\n",
    "\n",
    "# make call\n",
    "response = requests.get(f'{search_request_url}{API_KEY}&query=milk&datatype=Foundation')\n",
    "\n",
    "# parse the returned JSON\n",
    "parsed = response.json()\n",
    "\n",
    "par"
   ]
  },
  {
   "cell_type": "code",
   "execution_count": 87,
   "metadata": {},
   "outputs": [
    {
     "output_type": "stream",
     "name": "stdout",
     "text": [
      "{'quantity': 200.0, 'measurement': 'g', 'ingredient': 'plain flour', 'comment': 'na'}\n{'quantity': 0.0, 'measurement': 'pinch', 'ingredient': 'salt', 'comment': 'na'}\n{'quantity': 0.0, 'measurement': 'na', 'ingredient': 'na', 'comment': ' diced'}\n{'quantity': 75.0, 'measurement': 'g', 'ingredient': 'caster sugar', 'comment': 'na'}\n{'quantity': 1.0, 'measurement': 'tbsp', 'ingredient': 'vanilla paste', 'comment': 'na'}\n{'quantity': 1.0, 'measurement': ' egg', 'ingredient': 'egg', 'comment': 'na'}\n{'quantity': 0.0, 'measurement': 'na', 'ingredient': 'na', 'comment': ' melted'}\n"
     ]
    }
   ],
   "source": [
    "split_ing_list = seperate_ingredients(recipes_df['ingredients'][73])\n",
    "for j in split_ing_list:\n",
    "    split_test = split_ingredient(j)\n",
    "    print(split_test)"
   ]
  },
  {
   "cell_type": "code",
   "execution_count": 90,
   "metadata": {},
   "outputs": [
    {
     "output_type": "execute_result",
     "data": {
      "text/plain": [
       "'[<h5>For the dough:</h5>, <p>500g strong white bread flour</p>, <p>10g salt</p>, <p>7g sachet fast-action dried yeast</p>, <p>40g unsalted butter, softened</p>, <p>1 tablespoon malt extract</p>, <p>280ml milk, at room temperature</p>, <p>finely grated zest of 2 oranges</p>, <p>50g poppy seeds</p>]'"
      ]
     },
     "metadata": {},
     "execution_count": 90
    }
   ],
   "source": [
    "recipes_df['ingredients'][123]"
   ]
  },
  {
   "cell_type": "code",
   "execution_count": null,
   "metadata": {},
   "outputs": [],
   "source": []
  }
 ]
}