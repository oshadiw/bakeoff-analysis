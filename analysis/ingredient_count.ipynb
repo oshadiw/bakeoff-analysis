{
 "metadata": {
  "language_info": {
   "codemirror_mode": {
    "name": "ipython",
    "version": 3
   },
   "file_extension": ".py",
   "mimetype": "text/x-python",
   "name": "python",
   "nbconvert_exporter": "python",
   "pygments_lexer": "ipython3",
   "version": "3.7.7-final"
  },
  "orig_nbformat": 2,
  "kernelspec": {
   "name": "pythondata",
   "display_name": "PythonData",
   "language": "python"
  }
 },
 "nbformat": 4,
 "nbformat_minor": 2,
 "cells": [
  {
   "source": [
    "# NLP and Nutition Information\n",
    "This notebook is used to get nutrition information such as Fat, Calories, Sugar, Carbohydrates, and Protein."
   ],
   "cell_type": "markdown",
   "metadata": {}
  },
  {
   "source": [
    "# import dependencies\n",
    "import pandas as pd\n",
    "import numpy as np\n",
    "import re\n",
    "from re import search\n",
    "from fractions import Fraction\n",
    "\n",
    "# import dependencies\n",
    "import requests\n",
    "import json\n"
   ],
   "cell_type": "code",
   "metadata": {},
   "execution_count": 21,
   "outputs": []
  },
  {
   "cell_type": "code",
   "execution_count": 22,
   "metadata": {},
   "outputs": [
    {
     "output_type": "execute_result",
     "data": {
      "text/plain": [
       "<bound method NDFrame.head of                                                  title           judge  \\\n",
       "0                   Rav Gill’s Macaron Snack-Cessories    Ravneet Gill   \n",
       "1    Liam Charles’s Biscuit Card Tower & Deck of Cards    Liam Charles   \n",
       "2                 Rav Gill’s Cherry & Almond Deco Roll    Ravneet Gill   \n",
       "3               Liam Charles’s Yorkshire Pudding Wraps    Liam Charles   \n",
       "4          Rav Gill’s Churros with Banana Butterscotch    Ravneet Gill   \n",
       "..                                                 ...             ...   \n",
       "124                    Mary Berry’s Hazelnut Dacquoise  Paul Hollywood   \n",
       "125                           Mary Berry’s Religieuses  Paul Hollywood   \n",
       "126                  Paul Hollywood’s Apricot Couronne  Paul Hollywood   \n",
       "127          Mary Berry’s Tuiles with Chocolate Mousse  Paul Hollywood   \n",
       "128                      Mary Berry’s Charlotte Royale  Paul Hollywood   \n",
       "\n",
       "            makes              difficulty hands_on_time baking_time  \\\n",
       "0               8             Needs skill       50 mins     30 mins   \n",
       "1              12             Needs skill       45 mins     15 mins   \n",
       "2               6             Needs skill       50 mins     10 mins   \n",
       "3               2             Needs skill       25 mins     30 mins   \n",
       "4               6             Needs skill       30 mins     25 mins   \n",
       "..            ...                     ...           ...         ...   \n",
       "124            12  30 mins, plus chilling    25–30 mins     18 mins   \n",
       "125             8  30 mins, plus chilling    25–30 mins     18 mins   \n",
       "126  1 large loaf  30 mins, plus chilling    25–30 mins     18 mins   \n",
       "127             8  30 mins, plus chilling    25–30 mins     18 mins   \n",
       "128         10-12  30 mins, plus chilling    25–30 mins     18 mins   \n",
       "\n",
       "                                           ingredients  \\\n",
       "0    [<h5>For the macarons:</h5>, <p>150g ground al...   \n",
       "1    [<h5>For the gingerbread:</h5>, <p>225g plain ...   \n",
       "2    [<h5>For the filling:</h5>, <p>2 tsp powdered ...   \n",
       "3    [<h5>For the batter:</h5>, <p>100g plain flour...   \n",
       "4    [<h5>For the churros:</h5>, <p>20g caster suga...   \n",
       "..                                                 ...   \n",
       "124  [<h5>For the dacquoise:</h5>, <p>250g blanched...   \n",
       "125  [<h5>For the choux pastry:</h5>, <p>60g unsalt...   \n",
       "126  [<h5>For the dough:</h5>, <p>250g strong white...   \n",
       "127  [<h5>For the tuiles:</h5>, <p>200g unsalted bu...   \n",
       "128  [<h5>For the jam:</h5>, <p>400g strawberries, ...   \n",
       "\n",
       "                                          recipe_image  \\\n",
       "0    https://thegreatbritishbakeoff.co.uk/wp-conten...   \n",
       "1    https://thegreatbritishbakeoff.co.uk/wp-conten...   \n",
       "2    https://thegreatbritishbakeoff.co.uk/wp-conten...   \n",
       "3    https://thegreatbritishbakeoff.co.uk/wp-conten...   \n",
       "4    https://thegreatbritishbakeoff.co.uk/wp-conten...   \n",
       "..                                                 ...   \n",
       "124  https://thegreatbritishbakeoff.co.uk/wp-conten...   \n",
       "125  https://thegreatbritishbakeoff.co.uk/wp-conten...   \n",
       "126  https://thegreatbritishbakeoff.co.uk/wp-conten...   \n",
       "127  https://thegreatbritishbakeoff.co.uk/wp-conten...   \n",
       "128  https://thegreatbritishbakeoff.co.uk/wp-conten...   \n",
       "\n",
       "                                           judge_image  \n",
       "0    https://thegreatbritishbakeoff.co.uk/wp-conten...  \n",
       "1    https://thegreatbritishbakeoff.co.uk/wp-conten...  \n",
       "2    https://thegreatbritishbakeoff.co.uk/wp-conten...  \n",
       "3    https://thegreatbritishbakeoff.co.uk/wp-conten...  \n",
       "4    https://thegreatbritishbakeoff.co.uk/wp-conten...  \n",
       "..                                                 ...  \n",
       "124  https://thegreatbritishbakeoff.co.uk/wp-conten...  \n",
       "125  https://thegreatbritishbakeoff.co.uk/wp-conten...  \n",
       "126  https://thegreatbritishbakeoff.co.uk/wp-conten...  \n",
       "127  https://thegreatbritishbakeoff.co.uk/wp-conten...  \n",
       "128  https://thegreatbritishbakeoff.co.uk/wp-conten...  \n",
       "\n",
       "[129 rows x 9 columns]>"
      ]
     },
     "metadata": {},
     "execution_count": 22
    }
   ],
   "source": [
    "# import the raw csv\n",
    "recipes_df_raw = pd.read_csv('../static/data/technical_list.csv', encoding=\"utf-8\")\n",
    "recipes_df = recipes_df_raw.copy()\n",
    "recipes_df_raw.head"
   ]
  },
  {
   "cell_type": "code",
   "execution_count": 27,
   "metadata": {},
   "outputs": [],
   "source": [
    "# Formats for ingredients\n",
    "# 1g unsalted butter\n",
    "# 1 tsp vanilla extract\n",
    "# slivered pistachios\n",
    "# 2 large eggs\n",
    "# 2 dill pickles, quartered lengthways\n",
    "# juice of 1/2 lemon\n",
    "\n",
    "def split_ingredient(ingredient):\n",
    "    '''\n",
    "    The split_ingredients funcion takes an ingredient in a string format i.e. 10g sugar. The function then splits the ingredient into quantity, measurement, and any comments like temperature, or preparation.\n",
    "    '''\n",
    "    # create variable defaults\n",
    "    comment = 'na'\n",
    "    quantity = '0'\n",
    "    measurement = 'na'\n",
    "    item = 'na'\n",
    "\n",
    "    # if the ingredient contains a comment\n",
    "    if ',' in ingredient:\n",
    "        comment = ingredient.split(',')[1]\n",
    "        ingredient = ingredient.split(',')[0]\n",
    "\n",
    "    # if measurement is weight or volume (works for g or ml)\n",
    "    if re.match('^\\d+[a-zA-Z]',ingredient) is not None:\n",
    "        quantity = re.findall('\\d+', ingredient)[0]\n",
    "        measurement = re.findall('^\\d+([a-zA-Z]+) ', ingredient)[0]\n",
    "        item = re.findall('\\d+[a-zA-Z]+ (.*)', ingredient)[0]\n",
    "\n",
    "    # if ingredient is eggs\n",
    "    elif 'egg' in ingredient:\n",
    "        quantity = re.findall('\\d+', ingredient)[0]\n",
    "        measurement = re.findall('\\d+(.*) ', ingredient)[0]\n",
    "        item = 'egg'\n",
    "\n",
    "    # Juice of\n",
    "    elif 'juice of' in ingredient:\n",
    "        item = re.findall('juice of [^a-z]+([a-z ]+)', ingredient, re.IGNORECASE)[0]\n",
    "        if 'zest' in ingredient:\n",
    "            comment = 'juice and zest'\n",
    "        else:\n",
    "            comment = 'juice'\n",
    "        if re.findall('[0-9]+', ingredient) is not None:\n",
    "            quantity = re.findall('[0-9]+', ingredient)[0]\n",
    "        else:\n",
    "            quantity = '1'\n",
    "\n",
    "\n",
    "    # if ingredient uses tsp or tbsp\n",
    "    elif 'tbsp' in ingredient: \n",
    "        try:\n",
    "            quantity = re.findall('^([0-9]+/*[0-9]*)', ingredient)[0]\n",
    "        except IndexError:\n",
    "            quantity = \"0.5\"\n",
    "        measurement = 'tbsp'\n",
    "        item = re.findall('tbsp (.*)', ingredient)[0]\n",
    "\n",
    "    elif 'tsp' in ingredient:\n",
    "        try:\n",
    "            quantity = re.findall('^([0-9]+/*[0-9]*)', ingredient)[0]\n",
    "        except IndexError:\n",
    "            quantity = \"0.5\"\n",
    "        measurement = 'tsp'\n",
    "        item = re.findall('tsp (.*)', ingredient)[0]\n",
    "    \n",
    "    # if it just a number and ingredient (2 pickles)\n",
    "    elif re.match('^[0-9]+/*[0-9]* ', ingredient) is not None:\n",
    "        quantity = re.findall('^([0-9]+/*[0-9]*)', ingredient)[0]\n",
    "        measurement = \"whole\"\n",
    "        item = re.findall('^[0-9]+/*[0-9]* (.*)', ingredient)[0]\n",
    "    \n",
    "    # a pinch of something\n",
    "    elif search('pinch', ingredient) is not None:\n",
    "        measurement = re.findall('(.*pinch)', ingredient)[0]\n",
    "        item = re.findall('.*pinch of (.*)', ingredient)[0]\n",
    "        if re.match('^[0-9]', ingredient) is not None:\n",
    "            quantity = re.findall('^([0-9])', ingredient)[0]\n",
    "\n",
    "    # Other\n",
    "    else:\n",
    "        comment = \"Could not parse ingredient\"\n",
    "        # format into dict\n",
    "        ingredient_list_split = {'quantity':quantity, 'measurement':measurement, 'ingredient':ingredient,'comment':item}\n",
    "        return ingredient_list_split\n",
    "\n",
    "    # make sure the quantity is the right data type\n",
    "    if '/' in quantity:\n",
    "        quantity = Fraction(quantity)\n",
    "    \n",
    "    # format into dict\n",
    "    ingredient_list_split = {'quantity':float(quantity), 'measurement':measurement, 'ingredient':item, 'comment':comment}\n",
    "    \n",
    "    return ingredient_list_split"
   ]
  },
  {
   "cell_type": "code",
   "execution_count": 24,
   "metadata": {},
   "outputs": [],
   "source": [
    "def seperate_ingredients(ingredient_string):\n",
    "    '''\n",
    "    The seperate_ingredients funcion takes an ingredient list with each ingredient inside a <p></p> tag and returns a list containing all the ingredients in a string format.\n",
    "    '''\n",
    "    ingredient_list = re.findall('<p>(.*?)</p>', ingredient_string)\n",
    "    \n",
    "    return ingredient_list"
   ]
  },
  {
   "cell_type": "code",
   "execution_count": 25,
   "metadata": {},
   "outputs": [
    {
     "output_type": "stream",
     "name": "stdout",
     "text": [
      "{'quantity': 0.5, 'measurement': 'whole', 'ingredient': '1/2 lime', 'comment': 'na'}\n"
     ]
    }
   ],
   "source": [
    "# test of the split ingredient function\n",
    "test_ingredient = '1/2 lime'\n",
    "test_ingredient_split = (split_ingredient(test_ingredient))\n",
    "test_item = test_ingredient_split['ingredient']\n",
    "print(test_ingredient_split)"
   ]
  },
  {
   "cell_type": "code",
   "execution_count": 60,
   "metadata": {
    "tags": [
     "outputPrepend"
    ]
   },
   "outputs": [
    {
     "output_type": "stream",
     "name": "stdout",
     "text": [
      "t': 3}, 'currants': {'quantity': 250.0, 'measurement': 'g', 'count': 2}, 'dried cranberries ': {'quantity': 100.0, 'measurement': 'g', 'count': 1}, 'mixed peel ': {'quantity': 50.0, 'measurement': 'g', 'count': 1}, 'Juice and finely grated zest of 1 large unwaxed orange': {'quantity': '0', 'measurement': 'na', 'count': 1}, 'brandy': {'quantity': 100.0, 'measurement': 'ml', 'count': 1}, 'molasses': {'quantity': 77.0, 'measurement': 'g', 'count': 2}, 'bicarbonate of soda': {'quantity': 3.0, 'measurement': 'tsp', 'count': 4}, 'walnuts': {'quantity': 160.0, 'measurement': 'g', 'count': 2}, 'unsalted butter ': {'quantity': 55.0, 'measurement': 'g', 'count': 1}, 'icing sugar ': {'quantity': 40.0, 'measurement': 'g', 'count': 1}, 'egg': {'quantity': 169.0, 'measurement': ' egg yolk', 'count': 68}, 'ground almonds': {'quantity': 254.0, 'measurement': 'g', 'count': 2}, 'icing sugar': {'quantity': 1124.0, 'measurement': 'g', 'count': 7}, 'almond extract ': {'quantity': 1.5, 'measurement': 'tsp', 'count': 2}, 'self-raising flour': {'quantity': 1045.0, 'measurement': 'g', 'count': 6}, 'fresh white breadcrumbs': {'quantity': 50.0, 'measurement': 'g', 'count': 1}, 'Finely grated zest of 1 small unwaxed lemon': {'quantity': '0', 'measurement': 'na', 'count': 1}, 'vegetable suet ': {'quantity': 75.0, 'measurement': 'g', 'count': 1}, 'whole milk ': {'quantity': 825.0, 'measurement': 'ml', 'count': 3}, 'strong white bread flour': {'quantity': 4030.0, 'measurement': 'g', 'count': 14}, 'unsalted butter': {'quantity': 3645.0, 'measurement': 'g', 'count': 45}, 'fast-action dried yeast ': {'quantity': 5.0, 'measurement': 'g', 'count': 1}, 'fine salt ': {'quantity': 5.5, 'measurement': 'g', 'count': 2}, 'caster sugar': {'quantity': 4535.5, 'measurement': 'g', 'count': 40}, 'cornflour': {'quantity': 121.0, 'measurement': 'g', 'count': 7}, 'matcha powder': {'quantity': 15.0, 'measurement': 'g', 'count': 1}, 'Sunflower oil': {'quantity': '0', 'measurement': 'na', 'count': 1}, 'salt': {'quantity': 57.0, 'measurement': 'tsp', 'count': 33}, 'blanched hazelnuts': {'quantity': 190.0, 'measurement': 'g', 'count': 2}, '70% dark chocolate': {'quantity': 305.0, 'measurement': 'g', 'count': 2}, 'cocoa powder': {'quantity': 220.5, 'measurement': 'g', 'count': 8}, 'strong white bread flour ': {'quantity': 375.0, 'measurement': 'g', 'count': 1}, 'fine salt': {'quantity': 12.5, 'measurement': 'tsp', 'count': 5}, 'lukewarm water ': {'quantity': 240.0, 'measurement': 'ml', 'count': 1}, 'Red': {'quantity': '0', 'measurement': 'na', 'count': 1}, 'bicarbonate of soda ': {'quantity': 1.0, 'measurement': 'tsp', 'count': 1}, 'mango purée': {'quantity': 75.0, 'measurement': 'g', 'count': 1}, 'lime juice ': {'quantity': 2.0, 'measurement': 'tsp', 'count': 1}, 'butter': {'quantity': 1316.0, 'measurement': 'g', 'count': 12}, 'sachet instant yeast': {'quantity': 7.0, 'measurement': 'g', 'count': 1}, 'warm milk': {'quantity': 180.0, 'measurement': 'ml', 'count': 2}, 'water': {'quantity': 1936.0, 'measurement': 'ml', 'count': 8}, 'plain flour ': {'quantity': 275.0, 'measurement': 'g', 'count': 2}, 'salt ': {'quantity': 2.0, 'measurement': 'tsp', 'count': 6}, 'Ground black pepper': {'quantity': '0', 'measurement': 'na', 'count': 1}, 'milk ': {'quantity': 50.0, 'measurement': 'ml', 'count': 1}, 'vegetable oil ': {'quantity': 60.0, 'measurement': 'ml', 'count': 1}, 'gluten free self-raising flour': {'quantity': 175.0, 'measurement': 'g', 'count': 1}, 'Orange food colouring paste ': {'quantity': '0', 'measurement': 'na', 'count': 1}, 'Black food colouring paste': {'quantity': '0', 'measurement': 'na', 'count': 1}, 'ground cinnamon': {'quantity': 4.5, 'measurement': 'tsp', 'count': 5}, 'Marsala ': {'quantity': 3.0, 'measurement': 'tbsp', 'count': 1}, 'plain four': {'quantity': 225.0, 'measurement': 'g', 'count': 1}, 'grated': {'quantity': 90.0, 'measurement': 'g', 'count': 1}, 'olive oil ': {'quantity': 7.0, 'measurement': 'tbsp', 'count': 3}, 'sesame seeds': {'quantity': 2.0, 'measurement': 'tbsp', 'count': 2}, 'black sesame seeds': {'quantity': 1.0, 'measurement': 'tbsp', 'count': 1}, 'very cold water ': {'quantity': 135.0, 'measurement': 'ml', 'count': 1}, 'baking soda ': {'quantity': 0.5, 'measurement': 'tsp', 'count': 1}, 'apricot jam': {'quantity': 40.0, 'measurement': 'g', 'count': 1}, 'apple cider vinegar ': {'quantity': 0.5, 'measurement': 'tsp', 'count': 1}, 'vegetable oil': {'quantity': 1.0, 'measurement': 'tbsp', 'count': 1}, 'vanilla extract ': {'quantity': 0.5, 'measurement': 'tsp', 'count': 1}, 'fromage frais': {'quantity': 135.0, 'measurement': 'g', 'count': 1}, 'Jazz apple': {'quantity': 1.0, 'measurement': 'whole', 'count': 1}, 'light brown soft sugar': {'quantity': 55.0, 'measurement': 'g', 'count': 1}, 'golden caster sugar ': {'quantity': 100.0, 'measurement': 'g', 'count': 1}, 'self-raising flour ': {'quantity': 100.0, 'measurement': 'g', 'count': 1}, 'baking powder ': {'quantity': 1.0, 'measurement': 'tsp', 'count': 1}, 'vanilla bean paste ': {'quantity': 1.0, 'measurement': 'tsp', 'count': 1}, 'wholemeal flour ': {'quantity': 25.0, 'measurement': 'g', 'count': 1}, 'golden linseeds': {'quantity': 1.0, 'measurement': 'tbsp', 'count': 1}, 'fennel seeds': {'quantity': 2.0, 'measurement': 'tsp', 'count': 2}, 'sea salt flakes': {'quantity': 0.0, 'measurement': 'pinch', 'count': 1}, 'boneless': {'quantity': 4.0, 'measurement': 'whole', 'count': 1}, 'diced butternut squash and sweet potato ': {'quantity': 700.0, 'measurement': 'g', 'count': 1}, 'ras el hanout': {'quantity': 2.0, 'measurement': 'tsp', 'count': 1}, 'crushed sea salt': {'quantity': 0.5, 'measurement': 'tsp', 'count': 1}, 'large onions': {'quantity': 2.0, 'measurement': 'whole', 'count': 1}, 'garlic cloves': {'quantity': 5.0, 'measurement': 'whole', 'count': 2}, 'harissa paste': {'quantity': 1.0, 'measurement': 'tbsp', 'count': 1}, 'cumin seeds': {'quantity': 1.0, 'measurement': 'tsp', 'count': 1}, 'ground ginger': {'quantity': 2.5, 'measurement': 'tsp', 'count': 3}, 'pomegranate molasses': {'quantity': 2.0, 'measurement': 'tbsp', 'count': 1}, 'pitted dried dates': {'quantity': 100.0, 'measurement': 'g', 'count': 1}, 'pitted dried apricots': {'quantity': 100.0, 'measurement': 'g', 'count': 1}, 'can of chickpeas': {'quantity': 400.0, 'measurement': 'g', 'count': 1}, 'vegetable stock cube': {'quantity': 1.0, 'measurement': 'whole', 'count': 1}, 'coriander': {'quantity': 25.0, 'measurement': 'g', 'count': 1}, 'flat-leaf parsley': {'quantity': 25.0, 'measurement': 'g', 'count': 1}, 'large or ': {'quantity': 1.0, 'measurement': 'na', 'count': 1}, 'ricotta ': {'quantity': 250.0, 'measurement': 'g', 'count': 1}, 'finely grated zest of 1 small unwaxed orange ': {'quantity': '0', 'measurement': 'na', 'count': 1}, 'dark chocolate chips': {'quantity': 50.0, 'measurement': 'g', 'count': 1}, 'white wine vinegar': {'quantity': 47.0, 'measurement': 'ml', 'count': 3}, 'vegetarian shortening': {'quantity': 30.0, 'measurement': 'g', 'count': 1}, 'water ': {'quantity': 250.0, 'measurement': 'ml', 'count': 1}, 'light muscovado sugar': {'quantity': 140.0, 'measurement': 'g', 'count': 2}, 'vanilla extract': {'quantity': 4.0, 'measurement': 'tsp', 'count': 6}, 'natural raspberry flavouring': {'quantity': 0.5, 'measurement': 'tsp', 'count': 1}, 'pink food-colouring gel': {'quantity': '0', 'measurement': 'na', 'count': 1}, 'finely grated zest of 1 small unwaxed lemon': {'quantity': '0', 'measurement': 'na', 'count': 1}, 'yellow food-colouring gel': {'quantity': '0', 'measurement': 'na', 'count': 1}, 'strong white flour': {'quantity': 1875.0, 'measurement': 'g', 'count': 4}, 'warm whole milk': {'quantity': 325.0, 'measurement': 'ml', 'count': 2}, 'warm water': {'quantity': 425.0, 'measurement': 'ml', 'count': 2}, 'sunflower oil': {'quantity': '00', 'measurement': 'na', 'count': 2}, 'Bramley apples': {'quantity': 400.0, 'measurement': 'g', 'count': 1}, 'soft light brown sugar': {'quantity': 200.0, 'measurement': 'g', 'count': 1}, '½ onion': {'quantity': '0', 'measurement': 'na', 'count': 1}, 'mustard seeds': {'quantity': 1.0, 'measurement': 'tsp', 'count': 1}, 'mixed spice': {'quantity': 1.0, 'measurement': 'tsp', 'count': 1}, 'cider vinegar': {'quantity': 175.0, 'measurement': 'ml', 'count': 1}, 'raspberries': {'quantity': 525.0, 'measurement': 'g', 'count': 3}, 'strawberries': {'quantity': 525.0, 'measurement': 'g', 'count': 2}, 'jam sugar': {'quantity': 750.0, 'measurement': 'g', 'count': 3}, 'double cream': {'quantity': 600.0, 'measurement': 'ml', 'count': 3}, 'vanilla paste': {'quantity': 3.5, 'measurement': 'tsp', 'count': 3}, 'wholemeal flour': {'quantity': 125.0, 'measurement': 'g', 'count': 1}, 'olive oil': {'quantity': 6.0, 'measurement': 'tsp', 'count': 3}, 'cold water\\xa0\\xa0': {'quantity': 160.0, 'measurement': 'ml', 'count': 1}, 'plain flour\\xa0': {'quantity': 757.0, 'measurement': 'g', 'count': 7}, 'cocoa\\xa0': {'quantity': 50.0, 'measurement': 'g', 'count': 1}, 'caster sugar\\xa0\\xa0': {'quantity': 180.0, 'measurement': 'g', 'count': 1}, 'caster sugar\\xa0': {'quantity': 592.0, 'measurement': 'tsp', 'count': 7}, 'salt\\xa0': {'quantity': 1.0, 'measurement': 'pinch', 'count': 4}, 'bicarbonate of soda\\xa0': {'quantity': 0.5, 'measurement': 'tsp', 'count': 1}, 'buttermilk\\xa0': {'quantity': 135.0, 'measurement': 'ml', 'count': 1}, 'aquafaba (drained from 1½ cans of chickpeas)\\xa0': {'quantity': 200.0, 'measurement': 'ml', 'count': 1}, 'cream of tartar\\xa0': {'quantity': 0.5, 'measurement': 'tsp', 'count': 1}, '½ vanilla pod': {'quantity': '0', 'measurement': 'na', 'count': 1}, 'xanthum gum\\xa0\\xa0': {'quantity': 1.0, 'measurement': 'tsp', 'count': 1}, 'salted butter': {'quantity': 265.0, 'measurement': 'g', 'count': 2}, 'chilled water\\xa0': {'quantity': 6.0, 'measurement': 'tbsp', 'count': 1}, 'mastic\\xa0': {'quantity': 0.0, 'measurement': 'pinch', 'count': 1}, 'fine\\xa0semolina\\xa0': {'quantity': 175.0, 'measurement': 'g', 'count': 1}, 'ground\\xa0mahleb\\xa0': {'quantity': 0.5, 'measurement': 'tsp', 'count': 1}, 'chilled ghee\\xa0': {'quantity': 90.0, 'measurement': 'g', 'count': 1}, 'rose water\\xa0\\xa0': {'quantity': 2.0, 'measurement': 'tsp', 'count': 1}, '8\\xa0gelatine\\xa0leaves\\xa0\\xa0': {'quantity': '0', 'measurement': 'na', 'count': 1}, 'raspberries\\xa0': {'quantity': 750.0, 'measurement': 'g', 'count': 1}, 'whole milk\\xa0': {'quantity': 500.0, 'measurement': 'ml', 'count': 2}, 'ground almonds\\xa0': {'quantity': 40.0, 'measurement': 'g', 'count': 1}, 'almond extract\\xa0': {'quantity': 1.0, 'measurement': 'tsp', 'count': 1}, 'double cream\\xa0': {'quantity': 450.0, 'measurement': 'ml', 'count': 1}, 'crystallised\\xa0rose petals': {'quantity': '0', 'measurement': 'na', 'count': 1}, 'plain flour\\xa0\\xa0': {'quantity': 450.0, 'measurement': 'g', 'count': 1}, 'baking powder\\xa0\\xa0': {'quantity': 1.0, 'measurement': 'tsp', 'count': 1}, 'natural yogurt\\xa0': {'quantity': 100.0, 'measurement': 'ml', 'count': 1}, 'small bunch of coriander': {'quantity': '0', 'measurement': 'na', 'count': 1}, 'pistachio kernels\\xa0': {'quantity': 300.0, 'measurement': 'g', 'count': 1}, 'icing sugar\\xa0': {'quantity': 225.0, 'measurement': 'g', 'count': 1}, 'pistachio essence\\xa0': {'quantity': 1.0, 'measurement': 'tsp', 'count': 1}, 'cold water': {'quantity': 54.0, 'measurement': 'tbsp', 'count': 3}, 'all purpose flour': {'quantity': 300.0, 'measurement': 'g', 'count': 1}, 'very soft unsalted butter': {'quantity': 200.0, 'measurement': 'g', 'count': 1}, 'coffee liqueur': {'quantity': 2.0, 'measurement': 'tbsp', 'count': 1}, 'instant espresso powder': {'quantity': 0.5, 'measurement': 'tsp', 'count': 1}, 'dark chocolate (36% cocoa solids)': {'quantity': 450.0, 'measurement': 'g', 'count': 1}, 'full-fat milk': {'quantity': 355.0, 'measurement': 'ml', 'count': 2}, 'blanched almonds': {'quantity': 880.0, 'measurement': 'g', 'count': 4}, 'almond extract': {'quantity': 1.5, 'measurement': 'tsp', 'count': 2}, 'Iranian pistachios': {'quantity': 300.0, 'measurement': 'g', 'count': 1}, 'ground cloves': {'quantity': 0.5, 'measurement': 'tsp', 'count': 1}, 'medjool dates': {'quantity': 250.0, 'measurement': 'g', 'count': 1}, 'dried apricots': {'quantity': 100.0, 'measurement': 'g', 'count': 1}, 'crystallised ginger': {'quantity': 50.0, 'measurement': 'g', 'count': 1}, 'dark rum': {'quantity': 50.0, 'measurement': 'ml', 'count': 1}, 'dark brown soft sugar': {'quantity': 50.0, 'measurement': 'g', 'count': 1}, '‘00’ flour': {'quantity': 200.0, 'measurement': 'g', 'count': 1}, 'fresh yeast': {'quantity': 10.0, 'measurement': 'g', 'count': 1}, 'lukewarm water': {'quantity': 115.0, 'measurement': 'ml', 'count': 1}, 'semolina': {'quantity': '0', 'measurement': 'na', 'count': 1}, '50–75ml chilled water': {'quantity': '0', 'measurement': 'na', 'count': 1}, '70% dark chocolate\\xa0': {'quantity': 165.0, 'measurement': 'g', 'count': 1}, 'unsalted butter\\xa0': {'quantity': 230.0, 'measurement': 'g', 'count': 2}, 'smooth peanut butter': {'quantity': 6.0, 'measurement': 'tsp', 'count': 1}, 'fast-action dried yeast\\xa0': {'quantity': 14.0, 'measurement': 'g', 'count': 2}, 'ground cinnamon\\xa0': {'quantity': 0.5, 'measurement': 'tsp', 'count': 1}, 'warm water\\xa0': {'quantity': 65.0, 'measurement': 'ml', 'count': 1}, 'fine salt\\xa0': {'quantity': 7.0, 'measurement': 'g', 'count': 1}, 'lard': {'quantity': 50.0, 'measurement': 'g', 'count': 1}, 'vegetable oil\\xa0': {'quantity': 3.0, 'measurement': 'tbsp', 'count': 1}, 'cornflour\\xa0': {'quantity': 1.0, 'measurement': 'tsp', 'count': 1}, 'boiling water': {'quantity': 154.0, 'measurement': 'tbsp', 'count': 2}, 'instant yeast': {'quantity': 65.0, 'measurement': 'g', 'count': 6}, 'milk': {'quantity': 1287.0, 'measurement': 'tbsp', 'count': 6}, 'finely grated zest of 1 large orange': {'quantity': '0', 'measurement': 'na', 'count': 1}, 'finely grated zest of 1 large lemon': {'quantity': '0', 'measurement': 'na', 'count': 1}, 'caraway seeds': {'quantity': 1.0, 'measurement': 'tsp', 'count': 1}, 'ground aniseed': {'quantity': 0.5, 'measurement': 'tsp', 'count': 1}, 'ground mace': {'quantity': 1.0, 'measurement': 'tsp', 'count': 2}, 'finely grated zest 1 large or 2 small lemons': {'quantity': '0', 'measurement': 'na', 'count': 1}, 'chopped fresh rosemary': {'quantity': 2.0, 'measurement': 'tsp', 'count': 1}, 'chopped fresh thyme': {'quantity': 4.0, 'measurement': 'tsp', 'count': 2}, 'chopped fresh sage': {'quantity': 2.0, 'measurement': 'tsp', 'count': 1}, 'fine semolina for dusting': {'quantity': '0', 'measurement': 'na', 'count': 1}, 'dried oregano': {'quantity': 0.5, 'measurement': 'tsp', 'count': 1}, 'finely grated zest of 1 lemon': {'quantity': '000', 'measurement': 'na', 'count': 3}, 'packet orange jelly': {'quantity': 135.0, 'measurement': 'g', 'count': 1}, 'finely grated zest of 1 small orange': {'quantity': '0', 'measurement': 'na', 'count': 1}, 'strong flour': {'quantity': 112.0, 'measurement': 'g', 'count': 1}, 'table salt': {'quantity': 0.0, 'measurement': 'pinch', 'count': 1}, 'handful of flaked almonds': {'quantity': '0', 'measurement': 'na', 'count': 1}, 'dried active yeast': {'quantity': 10.0, 'measurement': 'g', 'count': 1}, 'finely grated zest of 1 orange': {'quantity': '0', 'measurement': 'na', 'count': 1}, 'softened butter': {'quantity': 150.0, 'measurement': 'g', 'count': 1}, 'large orange': {'quantity': 1.0, 'measurement': 'whole', 'count': 1}, 'Grand Marnier': {'quantity': 50.0, 'measurement': 'ml', 'count': 1}, 'chilled butter': {'quantity': 215.0, 'measurement': 'g', 'count': 2}, 'frozen butter': {'quantity': 160.0, 'measurement': 'g', 'count': 1}, '150–180ml cold water': {'quantity': '0', 'measurement': 'na', 'count': 1}, 'ready to eat': {'quantity': 250.0, 'measurement': 'g', 'count': 1}, 'dried': {'quantity': 150.0, 'measurement': 'g', 'count': 1}, 'dried pineapple': {'quantity': 150.0, 'measurement': 'g', 'count': 1}, 'sachet fast-acting yeast': {'quantity': 15.0, 'measurement': 'g', 'count': 1}, 'baking soda': {'quantity': 3.0, 'measurement': 'tsp', 'count': 1}, 'ground mixed spice': {'quantity': 1.0, 'measurement': 'tsp', 'count': 1}, 'golden syrup': {'quantity': 2.0, 'measurement': 'tbsp', 'count': 1}, 'black treacle': {'quantity': 2.0, 'measurement': 'tbsp', 'count': 1}, 'light or dark brown muscovado sugar': {'quantity': 100.0, 'measurement': 'g', 'count': 1}, 'milk (whole or semi-skimmed)': {'quantity': 100.0, 'measurement': 'ml', 'count': 1}, 'fine sea salt': {'quantity': 0.5, 'measurement': 'tsp', 'count': 1}, 'plain chocolate (minimum 36% cocoa solids)': {'quantity': 180.0, 'measurement': 'g', 'count': 1}, 'boneless mixed game meat': {'quantity': 700.0, 'measurement': 'g', 'count': 1}, 'rindless back bacon': {'quantity': 200.0, 'measurement': 'g', 'count': 1}, 'minced pork belly (unsmoked)': {'quantity': 200.0, 'measurement': 'g', 'count': 1}, 'banana shallots': {'quantity': 2.0, 'measurement': 'whole', 'count': 1}, 'Madeira': {'quantity': 2.0, 'measurement': 'tbsp', 'count': 1}, 'ground allspice': {'quantity': 0.5, 'measurement': 'tsp', 'count': 1}, 'chopped fresh parsley': {'quantity': 2.0, 'measurement': 'tbsp', 'count': 1}, 'salt and pepper': {'quantity': '0', 'measurement': 'na', 'count': 1}, 'red or natural glacé cherries': {'quantity': 350.0, 'measurement': 'g', 'count': 1}, 'can of pineapple in natural juice': {'quantity': 225.0, 'measurement': 'g', 'count': 1}, 'ready-to-eat dried apricots': {'quantity': 350.0, 'measurement': 'g', 'count': 1}, 'finely grated zest of 2 lemons': {'quantity': '0', 'measurement': 'na', 'count': 1}, 'pecorino romano': {'quantity': 500.0, 'measurement': 'g', 'count': 1}, 'haloumi': {'quantity': 250.0, 'measurement': 'g', 'count': 1}, 'fine semolina': {'quantity': 90.0, 'measurement': 'g', 'count': 1}, 'dried mint': {'quantity': 2.0, 'measurement': 'tsp', 'count': 1}, 'plus 2 tsp custard powder': {'quantity': 1.0, 'measurement': 'tbsp', 'count': 1}, 'golden caster sugar': {'quantity': 2.0, 'measurement': 'tsp', 'count': 1}, 'milk (preferably full-fat)': {'quantity': 175.0, 'measurement': 'ml', 'count': 1}, 'full-fat crème fraiche': {'quantity': 4.0, 'measurement': 'tbsp', 'count': 1}, 'nectarines': {'quantity': 3.0, 'measurement': 'whole', 'count': 1}, 'demerara sugar': {'quantity': '0', 'measurement': 'na', 'count': 1}, 'cherries': {'quantity': 4.0, 'measurement': 'whole', 'count': 1}, 'psyllium powder': {'quantity': 30.0, 'measurement': 'g', 'count': 1}, 'Doves Farm gluten-free strong bread flour blend': {'quantity': 750.0, 'measurement': 'g', 'count': 1}, 'nigella seeds': {'quantity': 3.0, 'measurement': 'tbsp', 'count': 1}, 'sugar': {'quantity': 15.0, 'measurement': 'g', 'count': 1}, 'tbsp olive oil': {'quantity': 90.0, 'measurement': 'ml', 'count': 1}, 'cream of tartar': {'quantity': 0.5, 'measurement': 'tsp', 'count': 1}, 'single cream': {'quantity': 300.0, 'measurement': 'ml', 'count': 1}, 'instant coffee granules': {'quantity': 2.0, 'measurement': 'tsp', 'count': 1}, 'olive oil for greasing': {'quantity': '0', 'measurement': 'na', 'count': 1}, 'cool water': {'quantity': 370.0, 'measurement': 'ml', 'count': 1}, 'fast action yeast': {'quantity': 10.0, 'measurement': 'g', 'count': 1}, 'drops almond extract': {'quantity': 2.0, 'measurement': 'whole', 'count': 1}, 'mixed peel': {'quantity': 125.0, 'measurement': 'g', 'count': 1}, 'marzipan': {'quantity': 225.0, 'measurement': 'g', 'count': 1}, 'sachet fast-action dried yeast': {'quantity': 14.0, 'measurement': 'g', 'count': 2}, 'tablespoon malt extract': {'quantity': 1.0, 'measurement': 'whole', 'count': 1}, 'finely grated zest of 2 oranges': {'quantity': '0', 'measurement': 'na', 'count': 1}, 'poppy seeds': {'quantity': 50.0, 'measurement': 'g', 'count': 1}, 'blanched (skinned) whole hazelnuts': {'quantity': 250.0, 'measurement': 'g', 'count': 1}, 'dark chocolate (your favourite)': {'quantity': 50.0, 'measurement': 'g', 'count': 1}, 'jam sugar (sugar with added pectin)': {'quantity': 500.0, 'measurement': 'g', 'count': 1}, 'small knob of butter': {'quantity': '0', 'measurement': 'na', 'count': 1}}\n"
     ]
    }
   ],
   "source": [
    "# dict to hold totals\n",
    "total_ingredients = {}\n",
    "\n",
    "# include only the judges from the show\n",
    "judge_list = ['Mary Berry', 'Paul Hollywood', 'Prue Leith']\n",
    "tech_rec_df = recipes_df[recipes_df['judge'].isin(judge_list)]\n",
    "tech_rec_df.reset_index(inplace=True)\n",
    "\n",
    "# iterate through df\n",
    "for rec_num in range(0,len(tech_rec_df.index)):\n",
    "\n",
    "\n",
    "    # list to hold the output of the split\n",
    "    split_ing_list = []\n",
    "\n",
    "    # split the ingredient list\n",
    "    split_ing_list = seperate_ingredients(tech_rec_df['ingredients'][rec_num])\n",
    "\n",
    "    nlp_ingredients = []\n",
    "    # for each ingredient split it using nlp\n",
    "    for ingredient in split_ing_list:\n",
    "        try:\n",
    "            nlp_ingredients.append(split_ingredient(ingredient))\n",
    "        except:\n",
    "            print(f'Couldn\\'t parse {ingredient}')\n",
    "    \n",
    "    # check if it has been added to ing_list\n",
    "    for ing in nlp_ingredients:\n",
    "\n",
    "        # if it has, add the quantity to quantity and increment the count\n",
    "        if ing['ingredient'] in total_ingredients:\n",
    "            try:\n",
    "                quantity = ing['quantity']\n",
    "                total_ingredients[ing['ingredient']]['quantity'] += quantity\n",
    "                total_ingredients[ing['ingredient']]['count'] += 1\n",
    "            except:\n",
    "                print(f'Could not parse {ing}')\n",
    "        # if it hasn't, create a new key in the dict\n",
    "        else: \n",
    "            new_ing_dict = {'quantity': ing['quantity'], 'measurement':ing['measurement'], 'count':1,}\n",
    "            total_ingredients[ing['ingredient']] = new_ing_dict\n",
    "\n",
    "print(total_ingredients)\n"
   ]
  },
  {
   "cell_type": "code",
   "execution_count": 65,
   "metadata": {},
   "outputs": [],
   "source": [
    "#create data frame for the answer\n",
    "ing_totals_df = pd.DataFrame()\n",
    "\n",
    "#loop through the dict and add the values to a dict which is then appended to the df\n",
    "for key in total_ingredients:\n",
    "    item = key\n",
    "    quantity = total_ingredients[key]['quantity']\n",
    "    count = total_ingredients[key]['count']\n",
    "    measurement = total_ingredients[key]['measurement']\n",
    "    item_dict = {'item': item, 'quantity':quantity, 'count':count, 'measurement':measurement}\n",
    "    ing_totals_df = ing_totals_df.append(item_dict, ignore_index=True)"
   ]
  },
  {
   "cell_type": "code",
   "execution_count": 66,
   "metadata": {},
   "outputs": [
    {
     "output_type": "execute_result",
     "data": {
      "text/plain": [
       "     count                      item measurement  quantity\n",
       "0       39               plain flour           g      6345\n",
       "32      40              caster sugar           g      4535\n",
       "28      14  strong white bread flour           g      4030\n",
       "29      45           unsalted butter           g      3645\n",
       "3       11                whole milk        tbsp      2246\n",
       "..     ...                       ...         ...       ...\n",
       "166      1   instant espresso powder         tsp         0\n",
       "158      1  small bunch of coriander          na         0\n",
       "154      1  crystallised rose petals          na         0\n",
       "148      1       8 gelatine leaves            na         0\n",
       "277      1      small knob of butter          na         0\n",
       "\n",
       "[278 rows x 4 columns]"
      ],
      "text/html": "<div>\n<style scoped>\n    .dataframe tbody tr th:only-of-type {\n        vertical-align: middle;\n    }\n\n    .dataframe tbody tr th {\n        vertical-align: top;\n    }\n\n    .dataframe thead th {\n        text-align: right;\n    }\n</style>\n<table border=\"1\" class=\"dataframe\">\n  <thead>\n    <tr style=\"text-align: right;\">\n      <th></th>\n      <th>count</th>\n      <th>item</th>\n      <th>measurement</th>\n      <th>quantity</th>\n    </tr>\n  </thead>\n  <tbody>\n    <tr>\n      <th>0</th>\n      <td>39</td>\n      <td>plain flour</td>\n      <td>g</td>\n      <td>6345</td>\n    </tr>\n    <tr>\n      <th>32</th>\n      <td>40</td>\n      <td>caster sugar</td>\n      <td>g</td>\n      <td>4535</td>\n    </tr>\n    <tr>\n      <th>28</th>\n      <td>14</td>\n      <td>strong white bread flour</td>\n      <td>g</td>\n      <td>4030</td>\n    </tr>\n    <tr>\n      <th>29</th>\n      <td>45</td>\n      <td>unsalted butter</td>\n      <td>g</td>\n      <td>3645</td>\n    </tr>\n    <tr>\n      <th>3</th>\n      <td>11</td>\n      <td>whole milk</td>\n      <td>tbsp</td>\n      <td>2246</td>\n    </tr>\n    <tr>\n      <th>...</th>\n      <td>...</td>\n      <td>...</td>\n      <td>...</td>\n      <td>...</td>\n    </tr>\n    <tr>\n      <th>166</th>\n      <td>1</td>\n      <td>instant espresso powder</td>\n      <td>tsp</td>\n      <td>0</td>\n    </tr>\n    <tr>\n      <th>158</th>\n      <td>1</td>\n      <td>small bunch of coriander</td>\n      <td>na</td>\n      <td>0</td>\n    </tr>\n    <tr>\n      <th>154</th>\n      <td>1</td>\n      <td>crystallised rose petals</td>\n      <td>na</td>\n      <td>0</td>\n    </tr>\n    <tr>\n      <th>148</th>\n      <td>1</td>\n      <td>8 gelatine leaves</td>\n      <td>na</td>\n      <td>0</td>\n    </tr>\n    <tr>\n      <th>277</th>\n      <td>1</td>\n      <td>small knob of butter</td>\n      <td>na</td>\n      <td>0</td>\n    </tr>\n  </tbody>\n</table>\n<p>278 rows × 4 columns</p>\n</div>"
     },
     "metadata": {},
     "execution_count": 66
    }
   ],
   "source": [
    "# set the dtypes\n",
    "ing_totals_df = ing_totals_df.astype({'quantity': 'int32', 'count':'int32', 'item':'string'})\n",
    "# sort the values in decending order by total quantity\n",
    "ing_totals_df.sort_values(by=['quantity'], ascending=False)\n"
   ]
  },
  {
   "cell_type": "code",
   "execution_count": 67,
   "metadata": {},
   "outputs": [
    {
     "output_type": "execute_result",
     "data": {
      "text/plain": [
       "     count                  item measurement  quantity\n",
       "19      68                   egg    egg yolk       169\n",
       "29      45       unsalted butter           g      3645\n",
       "32      40          caster sugar           g      4535\n",
       "0       39           plain flour           g      6345\n",
       "36      33                  salt         tsp        57\n",
       "..     ...                   ...         ...       ...\n",
       "120      1           mixed spice         tsp         1\n",
       "121      1         cider vinegar          ml       175\n",
       "127      1       wholemeal flour           g       125\n",
       "129      1          cold water            ml       160\n",
       "277      1  small knob of butter          na         0\n",
       "\n",
       "[278 rows x 4 columns]"
      ],
      "text/html": "<div>\n<style scoped>\n    .dataframe tbody tr th:only-of-type {\n        vertical-align: middle;\n    }\n\n    .dataframe tbody tr th {\n        vertical-align: top;\n    }\n\n    .dataframe thead th {\n        text-align: right;\n    }\n</style>\n<table border=\"1\" class=\"dataframe\">\n  <thead>\n    <tr style=\"text-align: right;\">\n      <th></th>\n      <th>count</th>\n      <th>item</th>\n      <th>measurement</th>\n      <th>quantity</th>\n    </tr>\n  </thead>\n  <tbody>\n    <tr>\n      <th>19</th>\n      <td>68</td>\n      <td>egg</td>\n      <td>egg yolk</td>\n      <td>169</td>\n    </tr>\n    <tr>\n      <th>29</th>\n      <td>45</td>\n      <td>unsalted butter</td>\n      <td>g</td>\n      <td>3645</td>\n    </tr>\n    <tr>\n      <th>32</th>\n      <td>40</td>\n      <td>caster sugar</td>\n      <td>g</td>\n      <td>4535</td>\n    </tr>\n    <tr>\n      <th>0</th>\n      <td>39</td>\n      <td>plain flour</td>\n      <td>g</td>\n      <td>6345</td>\n    </tr>\n    <tr>\n      <th>36</th>\n      <td>33</td>\n      <td>salt</td>\n      <td>tsp</td>\n      <td>57</td>\n    </tr>\n    <tr>\n      <th>...</th>\n      <td>...</td>\n      <td>...</td>\n      <td>...</td>\n      <td>...</td>\n    </tr>\n    <tr>\n      <th>120</th>\n      <td>1</td>\n      <td>mixed spice</td>\n      <td>tsp</td>\n      <td>1</td>\n    </tr>\n    <tr>\n      <th>121</th>\n      <td>1</td>\n      <td>cider vinegar</td>\n      <td>ml</td>\n      <td>175</td>\n    </tr>\n    <tr>\n      <th>127</th>\n      <td>1</td>\n      <td>wholemeal flour</td>\n      <td>g</td>\n      <td>125</td>\n    </tr>\n    <tr>\n      <th>129</th>\n      <td>1</td>\n      <td>cold water</td>\n      <td>ml</td>\n      <td>160</td>\n    </tr>\n    <tr>\n      <th>277</th>\n      <td>1</td>\n      <td>small knob of butter</td>\n      <td>na</td>\n      <td>0</td>\n    </tr>\n  </tbody>\n</table>\n<p>278 rows × 4 columns</p>\n</div>"
     },
     "metadata": {},
     "execution_count": 67
    }
   ],
   "source": [
    "# sort the values in decending order by count\n",
    "ing_totals_df.sort_values(by=['count'], ascending=False)"
   ]
  },
  {
   "cell_type": "code",
   "execution_count": 73,
   "metadata": {},
   "outputs": [
    {
     "output_type": "execute_result",
     "data": {
      "text/plain": [
       "     count                  item measurement  quantity  quantity * 6  \\\n",
       "19      68                   egg    egg yolk       169          1014   \n",
       "29      45       unsalted butter           g      3645         21870   \n",
       "32      40          caster sugar           g      4535         27210   \n",
       "0       39           plain flour           g      6345         38070   \n",
       "36      33                  salt         tsp        57           342   \n",
       "..     ...                   ...         ...       ...           ...   \n",
       "120      1           mixed spice         tsp         1             6   \n",
       "121      1         cider vinegar          ml       175          1050   \n",
       "127      1       wholemeal flour           g       125           750   \n",
       "129      1          cold water            ml       160           960   \n",
       "277      1  small knob of butter          na         0             0   \n",
       "\n",
       "     quantity * 6(lbs)  \n",
       "19          2235.48468  \n",
       "29         48215.03940  \n",
       "32         59987.71020  \n",
       "0          83929.88340  \n",
       "36           753.98004  \n",
       "..                 ...  \n",
       "120           13.22772  \n",
       "121         2314.85100  \n",
       "127         1653.46500  \n",
       "129         2116.43520  \n",
       "277            0.00000  \n",
       "\n",
       "[278 rows x 6 columns]"
      ],
      "text/html": "<div>\n<style scoped>\n    .dataframe tbody tr th:only-of-type {\n        vertical-align: middle;\n    }\n\n    .dataframe tbody tr th {\n        vertical-align: top;\n    }\n\n    .dataframe thead th {\n        text-align: right;\n    }\n</style>\n<table border=\"1\" class=\"dataframe\">\n  <thead>\n    <tr style=\"text-align: right;\">\n      <th></th>\n      <th>count</th>\n      <th>item</th>\n      <th>measurement</th>\n      <th>quantity</th>\n      <th>quantity * 6</th>\n      <th>quantity * 6(lbs)</th>\n    </tr>\n  </thead>\n  <tbody>\n    <tr>\n      <th>19</th>\n      <td>68</td>\n      <td>egg</td>\n      <td>egg yolk</td>\n      <td>169</td>\n      <td>1014</td>\n      <td>2235.48468</td>\n    </tr>\n    <tr>\n      <th>29</th>\n      <td>45</td>\n      <td>unsalted butter</td>\n      <td>g</td>\n      <td>3645</td>\n      <td>21870</td>\n      <td>48215.03940</td>\n    </tr>\n    <tr>\n      <th>32</th>\n      <td>40</td>\n      <td>caster sugar</td>\n      <td>g</td>\n      <td>4535</td>\n      <td>27210</td>\n      <td>59987.71020</td>\n    </tr>\n    <tr>\n      <th>0</th>\n      <td>39</td>\n      <td>plain flour</td>\n      <td>g</td>\n      <td>6345</td>\n      <td>38070</td>\n      <td>83929.88340</td>\n    </tr>\n    <tr>\n      <th>36</th>\n      <td>33</td>\n      <td>salt</td>\n      <td>tsp</td>\n      <td>57</td>\n      <td>342</td>\n      <td>753.98004</td>\n    </tr>\n    <tr>\n      <th>...</th>\n      <td>...</td>\n      <td>...</td>\n      <td>...</td>\n      <td>...</td>\n      <td>...</td>\n      <td>...</td>\n    </tr>\n    <tr>\n      <th>120</th>\n      <td>1</td>\n      <td>mixed spice</td>\n      <td>tsp</td>\n      <td>1</td>\n      <td>6</td>\n      <td>13.22772</td>\n    </tr>\n    <tr>\n      <th>121</th>\n      <td>1</td>\n      <td>cider vinegar</td>\n      <td>ml</td>\n      <td>175</td>\n      <td>1050</td>\n      <td>2314.85100</td>\n    </tr>\n    <tr>\n      <th>127</th>\n      <td>1</td>\n      <td>wholemeal flour</td>\n      <td>g</td>\n      <td>125</td>\n      <td>750</td>\n      <td>1653.46500</td>\n    </tr>\n    <tr>\n      <th>129</th>\n      <td>1</td>\n      <td>cold water</td>\n      <td>ml</td>\n      <td>160</td>\n      <td>960</td>\n      <td>2116.43520</td>\n    </tr>\n    <tr>\n      <th>277</th>\n      <td>1</td>\n      <td>small knob of butter</td>\n      <td>na</td>\n      <td>0</td>\n      <td>0</td>\n      <td>0.00000</td>\n    </tr>\n  </tbody>\n</table>\n<p>278 rows × 6 columns</p>\n</div>"
     },
     "metadata": {},
     "execution_count": 73
    }
   ],
   "source": [
    "# multiply by 6 to include the number of participants in the total\n",
    "ing_totals_df['quantity * 6'] = ing_totals_df['quantity']*6\n",
    "ing_totals_df['quantity * 6(lbs)'] = ing_totals_df['quantity * 6']*2.20462\n",
    "# sort the values in decending order by count\n",
    "ing_totals_df.sort_values(by=['count'], ascending=False)"
   ]
  },
  {
   "cell_type": "code",
   "execution_count": 71,
   "metadata": {},
   "outputs": [
    {
     "output_type": "execute_result",
     "data": {
      "text/plain": [
       "{'quantity': 265.0, 'measurement': 'g', 'count': 2}"
      ]
     },
     "metadata": {},
     "execution_count": 71
    }
   ],
   "source": [
    "total_ingredients['salted butter']"
   ]
  },
  {
   "cell_type": "code",
   "execution_count": null,
   "metadata": {},
   "outputs": [],
   "source": []
  }
 ]
}